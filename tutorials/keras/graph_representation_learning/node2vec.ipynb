{
  "cells": [
    {
      "cell_type": "markdown",
      "metadata": {
        "id": "view-in-github",
        "colab_type": "text"
      },
      "source": [
        "<a href=\"https://colab.research.google.com/github/chihyanghsu0805/machine_learning/blob/tutorials/tutorials/keras/graph_representation_learning/node2vec.ipynb\" target=\"_parent\"><img src=\"https://colab.research.google.com/assets/colab-badge.svg\" alt=\"Open In Colab\"/></a>"
      ]
    },
    {
      "cell_type": "markdown",
      "source": [
        "# Import Libraries and Install packages"
      ],
      "metadata": {
        "id": "MKWSWxNTNeaQ"
      }
    },
    {
      "cell_type": "code",
      "source": [
        "pip install networkx"
      ],
      "metadata": {
        "id": "uSTIOr_dNKgs",
        "outputId": "f18f68d5-efa1-4c65-fc44-f23d53996e4c",
        "colab": {
          "base_uri": "https://localhost:8080/"
        }
      },
      "execution_count": 1,
      "outputs": [
        {
          "output_type": "stream",
          "name": "stdout",
          "text": [
            "Requirement already satisfied: networkx in /usr/local/lib/python3.7/dist-packages (2.6.3)\n"
          ]
        }
      ]
    },
    {
      "cell_type": "code",
      "execution_count": 2,
      "metadata": {
        "id": "A6Wb-GoGMV3X"
      },
      "outputs": [],
      "source": [
        "import os\n",
        "from collections import defaultdict\n",
        "import math\n",
        "import networkx as nx\n",
        "import random\n",
        "from tqdm import tqdm\n",
        "from zipfile import ZipFile\n",
        "from urllib.request import urlretrieve\n",
        "import numpy as np\n",
        "import pandas as pd\n",
        "import tensorflow as tf\n",
        "from tensorflow import keras\n",
        "from tensorflow.keras import layers\n",
        "import matplotlib.pyplot as plt"
      ]
    },
    {
      "cell_type": "code",
      "execution_count": 3,
      "metadata": {
        "id": "MVKlI7p3MV3Z"
      },
      "outputs": [],
      "source": [
        "urlretrieve(\n",
        "    \"http://files.grouplens.org/datasets/movielens/ml-latest-small.zip\",\n",
        "    \"movielens.zip\"\n",
        ")\n",
        "ZipFile(\"movielens.zip\", \"r\").extractall()"
      ]
    },
    {
      "cell_type": "markdown",
      "source": [
        "# Exploratory Data Analysis"
      ],
      "metadata": {
        "id": "7LtBLNuBNrXs"
      }
    },
    {
      "cell_type": "code",
      "source": [
        "movies = pd.read_csv(\"ml-latest-small/movies.csv\")\n",
        "ratings = pd.read_csv(\"ml-latest-small/ratings.csv\")\n",
        "\n",
        "print(f\"Movies data shape: {movies.shape}\")\n",
        "print(f\"Ratings data shape: {ratings.shape}\")"
      ],
      "metadata": {
        "id": "swEjIbLyN7-q",
        "outputId": "9e97efd2-66a9-4310-910c-91f87df57406",
        "colab": {
          "base_uri": "https://localhost:8080/"
        }
      },
      "execution_count": 4,
      "outputs": [
        {
          "output_type": "stream",
          "name": "stdout",
          "text": [
            "Movies data shape: (9742, 3)\n",
            "Ratings data shape: (100836, 4)\n"
          ]
        }
      ]
    },
    {
      "cell_type": "code",
      "source": [
        "# Rows are movies, columns are [Id, title, genres]\n",
        "movies.head()"
      ],
      "metadata": {
        "id": "DGx5i2aEPMzv",
        "outputId": "bcb098b5-3636-4442-90de-8b9f2744f6e3",
        "colab": {
          "base_uri": "https://localhost:8080/",
          "height": 206
        }
      },
      "execution_count": 5,
      "outputs": [
        {
          "output_type": "execute_result",
          "data": {
            "text/plain": [
              "   movieId                               title  \\\n",
              "0        1                    Toy Story (1995)   \n",
              "1        2                      Jumanji (1995)   \n",
              "2        3             Grumpier Old Men (1995)   \n",
              "3        4            Waiting to Exhale (1995)   \n",
              "4        5  Father of the Bride Part II (1995)   \n",
              "\n",
              "                                        genres  \n",
              "0  Adventure|Animation|Children|Comedy|Fantasy  \n",
              "1                   Adventure|Children|Fantasy  \n",
              "2                               Comedy|Romance  \n",
              "3                         Comedy|Drama|Romance  \n",
              "4                                       Comedy  "
            ],
            "text/html": [
              "\n",
              "  <div id=\"df-1001c7c2-393d-42bd-be0c-e8dec143665a\">\n",
              "    <div class=\"colab-df-container\">\n",
              "      <div>\n",
              "<style scoped>\n",
              "    .dataframe tbody tr th:only-of-type {\n",
              "        vertical-align: middle;\n",
              "    }\n",
              "\n",
              "    .dataframe tbody tr th {\n",
              "        vertical-align: top;\n",
              "    }\n",
              "\n",
              "    .dataframe thead th {\n",
              "        text-align: right;\n",
              "    }\n",
              "</style>\n",
              "<table border=\"1\" class=\"dataframe\">\n",
              "  <thead>\n",
              "    <tr style=\"text-align: right;\">\n",
              "      <th></th>\n",
              "      <th>movieId</th>\n",
              "      <th>title</th>\n",
              "      <th>genres</th>\n",
              "    </tr>\n",
              "  </thead>\n",
              "  <tbody>\n",
              "    <tr>\n",
              "      <th>0</th>\n",
              "      <td>1</td>\n",
              "      <td>Toy Story (1995)</td>\n",
              "      <td>Adventure|Animation|Children|Comedy|Fantasy</td>\n",
              "    </tr>\n",
              "    <tr>\n",
              "      <th>1</th>\n",
              "      <td>2</td>\n",
              "      <td>Jumanji (1995)</td>\n",
              "      <td>Adventure|Children|Fantasy</td>\n",
              "    </tr>\n",
              "    <tr>\n",
              "      <th>2</th>\n",
              "      <td>3</td>\n",
              "      <td>Grumpier Old Men (1995)</td>\n",
              "      <td>Comedy|Romance</td>\n",
              "    </tr>\n",
              "    <tr>\n",
              "      <th>3</th>\n",
              "      <td>4</td>\n",
              "      <td>Waiting to Exhale (1995)</td>\n",
              "      <td>Comedy|Drama|Romance</td>\n",
              "    </tr>\n",
              "    <tr>\n",
              "      <th>4</th>\n",
              "      <td>5</td>\n",
              "      <td>Father of the Bride Part II (1995)</td>\n",
              "      <td>Comedy</td>\n",
              "    </tr>\n",
              "  </tbody>\n",
              "</table>\n",
              "</div>\n",
              "      <button class=\"colab-df-convert\" onclick=\"convertToInteractive('df-1001c7c2-393d-42bd-be0c-e8dec143665a')\"\n",
              "              title=\"Convert this dataframe to an interactive table.\"\n",
              "              style=\"display:none;\">\n",
              "        \n",
              "  <svg xmlns=\"http://www.w3.org/2000/svg\" height=\"24px\"viewBox=\"0 0 24 24\"\n",
              "       width=\"24px\">\n",
              "    <path d=\"M0 0h24v24H0V0z\" fill=\"none\"/>\n",
              "    <path d=\"M18.56 5.44l.94 2.06.94-2.06 2.06-.94-2.06-.94-.94-2.06-.94 2.06-2.06.94zm-11 1L8.5 8.5l.94-2.06 2.06-.94-2.06-.94L8.5 2.5l-.94 2.06-2.06.94zm10 10l.94 2.06.94-2.06 2.06-.94-2.06-.94-.94-2.06-.94 2.06-2.06.94z\"/><path d=\"M17.41 7.96l-1.37-1.37c-.4-.4-.92-.59-1.43-.59-.52 0-1.04.2-1.43.59L10.3 9.45l-7.72 7.72c-.78.78-.78 2.05 0 2.83L4 21.41c.39.39.9.59 1.41.59.51 0 1.02-.2 1.41-.59l7.78-7.78 2.81-2.81c.8-.78.8-2.07 0-2.86zM5.41 20L4 18.59l7.72-7.72 1.47 1.35L5.41 20z\"/>\n",
              "  </svg>\n",
              "      </button>\n",
              "      \n",
              "  <style>\n",
              "    .colab-df-container {\n",
              "      display:flex;\n",
              "      flex-wrap:wrap;\n",
              "      gap: 12px;\n",
              "    }\n",
              "\n",
              "    .colab-df-convert {\n",
              "      background-color: #E8F0FE;\n",
              "      border: none;\n",
              "      border-radius: 50%;\n",
              "      cursor: pointer;\n",
              "      display: none;\n",
              "      fill: #1967D2;\n",
              "      height: 32px;\n",
              "      padding: 0 0 0 0;\n",
              "      width: 32px;\n",
              "    }\n",
              "\n",
              "    .colab-df-convert:hover {\n",
              "      background-color: #E2EBFA;\n",
              "      box-shadow: 0px 1px 2px rgba(60, 64, 67, 0.3), 0px 1px 3px 1px rgba(60, 64, 67, 0.15);\n",
              "      fill: #174EA6;\n",
              "    }\n",
              "\n",
              "    [theme=dark] .colab-df-convert {\n",
              "      background-color: #3B4455;\n",
              "      fill: #D2E3FC;\n",
              "    }\n",
              "\n",
              "    [theme=dark] .colab-df-convert:hover {\n",
              "      background-color: #434B5C;\n",
              "      box-shadow: 0px 1px 3px 1px rgba(0, 0, 0, 0.15);\n",
              "      filter: drop-shadow(0px 1px 2px rgba(0, 0, 0, 0.3));\n",
              "      fill: #FFFFFF;\n",
              "    }\n",
              "  </style>\n",
              "\n",
              "      <script>\n",
              "        const buttonEl =\n",
              "          document.querySelector('#df-1001c7c2-393d-42bd-be0c-e8dec143665a button.colab-df-convert');\n",
              "        buttonEl.style.display =\n",
              "          google.colab.kernel.accessAllowed ? 'block' : 'none';\n",
              "\n",
              "        async function convertToInteractive(key) {\n",
              "          const element = document.querySelector('#df-1001c7c2-393d-42bd-be0c-e8dec143665a');\n",
              "          const dataTable =\n",
              "            await google.colab.kernel.invokeFunction('convertToInteractive',\n",
              "                                                     [key], {});\n",
              "          if (!dataTable) return;\n",
              "\n",
              "          const docLinkHtml = 'Like what you see? Visit the ' +\n",
              "            '<a target=\"_blank\" href=https://colab.research.google.com/notebooks/data_table.ipynb>data table notebook</a>'\n",
              "            + ' to learn more about interactive tables.';\n",
              "          element.innerHTML = '';\n",
              "          dataTable['output_type'] = 'display_data';\n",
              "          await google.colab.output.renderOutput(dataTable, element);\n",
              "          const docLink = document.createElement('div');\n",
              "          docLink.innerHTML = docLinkHtml;\n",
              "          element.appendChild(docLink);\n",
              "        }\n",
              "      </script>\n",
              "    </div>\n",
              "  </div>\n",
              "  "
            ]
          },
          "metadata": {},
          "execution_count": 5
        }
      ]
    },
    {
      "cell_type": "code",
      "source": [
        "# rows are ratings, columns are [User, Movie, rating, timestamp]\n",
        "ratings.head()"
      ],
      "metadata": {
        "id": "UGdGX2w-PM7M",
        "outputId": "78eb350e-22ed-4b2f-d615-735f2013d001",
        "colab": {
          "base_uri": "https://localhost:8080/",
          "height": 206
        }
      },
      "execution_count": 6,
      "outputs": [
        {
          "output_type": "execute_result",
          "data": {
            "text/plain": [
              "   userId  movieId  rating  timestamp\n",
              "0       1        1     4.0  964982703\n",
              "1       1        3     4.0  964981247\n",
              "2       1        6     4.0  964982224\n",
              "3       1       47     5.0  964983815\n",
              "4       1       50     5.0  964982931"
            ],
            "text/html": [
              "\n",
              "  <div id=\"df-1847e002-64ce-4a4c-ac10-682a4004baa5\">\n",
              "    <div class=\"colab-df-container\">\n",
              "      <div>\n",
              "<style scoped>\n",
              "    .dataframe tbody tr th:only-of-type {\n",
              "        vertical-align: middle;\n",
              "    }\n",
              "\n",
              "    .dataframe tbody tr th {\n",
              "        vertical-align: top;\n",
              "    }\n",
              "\n",
              "    .dataframe thead th {\n",
              "        text-align: right;\n",
              "    }\n",
              "</style>\n",
              "<table border=\"1\" class=\"dataframe\">\n",
              "  <thead>\n",
              "    <tr style=\"text-align: right;\">\n",
              "      <th></th>\n",
              "      <th>userId</th>\n",
              "      <th>movieId</th>\n",
              "      <th>rating</th>\n",
              "      <th>timestamp</th>\n",
              "    </tr>\n",
              "  </thead>\n",
              "  <tbody>\n",
              "    <tr>\n",
              "      <th>0</th>\n",
              "      <td>1</td>\n",
              "      <td>1</td>\n",
              "      <td>4.0</td>\n",
              "      <td>964982703</td>\n",
              "    </tr>\n",
              "    <tr>\n",
              "      <th>1</th>\n",
              "      <td>1</td>\n",
              "      <td>3</td>\n",
              "      <td>4.0</td>\n",
              "      <td>964981247</td>\n",
              "    </tr>\n",
              "    <tr>\n",
              "      <th>2</th>\n",
              "      <td>1</td>\n",
              "      <td>6</td>\n",
              "      <td>4.0</td>\n",
              "      <td>964982224</td>\n",
              "    </tr>\n",
              "    <tr>\n",
              "      <th>3</th>\n",
              "      <td>1</td>\n",
              "      <td>47</td>\n",
              "      <td>5.0</td>\n",
              "      <td>964983815</td>\n",
              "    </tr>\n",
              "    <tr>\n",
              "      <th>4</th>\n",
              "      <td>1</td>\n",
              "      <td>50</td>\n",
              "      <td>5.0</td>\n",
              "      <td>964982931</td>\n",
              "    </tr>\n",
              "  </tbody>\n",
              "</table>\n",
              "</div>\n",
              "      <button class=\"colab-df-convert\" onclick=\"convertToInteractive('df-1847e002-64ce-4a4c-ac10-682a4004baa5')\"\n",
              "              title=\"Convert this dataframe to an interactive table.\"\n",
              "              style=\"display:none;\">\n",
              "        \n",
              "  <svg xmlns=\"http://www.w3.org/2000/svg\" height=\"24px\"viewBox=\"0 0 24 24\"\n",
              "       width=\"24px\">\n",
              "    <path d=\"M0 0h24v24H0V0z\" fill=\"none\"/>\n",
              "    <path d=\"M18.56 5.44l.94 2.06.94-2.06 2.06-.94-2.06-.94-.94-2.06-.94 2.06-2.06.94zm-11 1L8.5 8.5l.94-2.06 2.06-.94-2.06-.94L8.5 2.5l-.94 2.06-2.06.94zm10 10l.94 2.06.94-2.06 2.06-.94-2.06-.94-.94-2.06-.94 2.06-2.06.94z\"/><path d=\"M17.41 7.96l-1.37-1.37c-.4-.4-.92-.59-1.43-.59-.52 0-1.04.2-1.43.59L10.3 9.45l-7.72 7.72c-.78.78-.78 2.05 0 2.83L4 21.41c.39.39.9.59 1.41.59.51 0 1.02-.2 1.41-.59l7.78-7.78 2.81-2.81c.8-.78.8-2.07 0-2.86zM5.41 20L4 18.59l7.72-7.72 1.47 1.35L5.41 20z\"/>\n",
              "  </svg>\n",
              "      </button>\n",
              "      \n",
              "  <style>\n",
              "    .colab-df-container {\n",
              "      display:flex;\n",
              "      flex-wrap:wrap;\n",
              "      gap: 12px;\n",
              "    }\n",
              "\n",
              "    .colab-df-convert {\n",
              "      background-color: #E8F0FE;\n",
              "      border: none;\n",
              "      border-radius: 50%;\n",
              "      cursor: pointer;\n",
              "      display: none;\n",
              "      fill: #1967D2;\n",
              "      height: 32px;\n",
              "      padding: 0 0 0 0;\n",
              "      width: 32px;\n",
              "    }\n",
              "\n",
              "    .colab-df-convert:hover {\n",
              "      background-color: #E2EBFA;\n",
              "      box-shadow: 0px 1px 2px rgba(60, 64, 67, 0.3), 0px 1px 3px 1px rgba(60, 64, 67, 0.15);\n",
              "      fill: #174EA6;\n",
              "    }\n",
              "\n",
              "    [theme=dark] .colab-df-convert {\n",
              "      background-color: #3B4455;\n",
              "      fill: #D2E3FC;\n",
              "    }\n",
              "\n",
              "    [theme=dark] .colab-df-convert:hover {\n",
              "      background-color: #434B5C;\n",
              "      box-shadow: 0px 1px 3px 1px rgba(0, 0, 0, 0.15);\n",
              "      filter: drop-shadow(0px 1px 2px rgba(0, 0, 0, 0.3));\n",
              "      fill: #FFFFFF;\n",
              "    }\n",
              "  </style>\n",
              "\n",
              "      <script>\n",
              "        const buttonEl =\n",
              "          document.querySelector('#df-1847e002-64ce-4a4c-ac10-682a4004baa5 button.colab-df-convert');\n",
              "        buttonEl.style.display =\n",
              "          google.colab.kernel.accessAllowed ? 'block' : 'none';\n",
              "\n",
              "        async function convertToInteractive(key) {\n",
              "          const element = document.querySelector('#df-1847e002-64ce-4a4c-ac10-682a4004baa5');\n",
              "          const dataTable =\n",
              "            await google.colab.kernel.invokeFunction('convertToInteractive',\n",
              "                                                     [key], {});\n",
              "          if (!dataTable) return;\n",
              "\n",
              "          const docLinkHtml = 'Like what you see? Visit the ' +\n",
              "            '<a target=\"_blank\" href=https://colab.research.google.com/notebooks/data_table.ipynb>data table notebook</a>'\n",
              "            + ' to learn more about interactive tables.';\n",
              "          element.innerHTML = '';\n",
              "          dataTable['output_type'] = 'display_data';\n",
              "          await google.colab.output.renderOutput(dataTable, element);\n",
              "          const docLink = document.createElement('div');\n",
              "          docLink.innerHTML = docLinkHtml;\n",
              "          element.appendChild(docLink);\n",
              "        }\n",
              "      </script>\n",
              "    </div>\n",
              "  </div>\n",
              "  "
            ]
          },
          "metadata": {},
          "execution_count": 6
        }
      ]
    },
    {
      "cell_type": "code",
      "source": [
        "# Rating range from 0 to 5 with 0.5 as step size\n",
        "ratings.hist(\"rating\")"
      ],
      "metadata": {
        "id": "biac6J2_PwNU",
        "outputId": "e6f8cbc0-2953-40ae-d1e5-2b5ca9dc4ea4",
        "colab": {
          "base_uri": "https://localhost:8080/",
          "height": 316
        }
      },
      "execution_count": 7,
      "outputs": [
        {
          "output_type": "execute_result",
          "data": {
            "text/plain": [
              "array([[<matplotlib.axes._subplots.AxesSubplot object at 0x7fe813a46a50>]],\n",
              "      dtype=object)"
            ]
          },
          "metadata": {},
          "execution_count": 7
        },
        {
          "output_type": "display_data",
          "data": {
            "text/plain": [
              "<Figure size 432x288 with 1 Axes>"
            ],
            "image/png": "[encoded data removed]"
          },
          "metadata": {
            "needs_background": "light"
          }
        }
      ]
    },
    {
      "cell_type": "code",
      "source": [
        "# Average ratings by movie\n",
        "ratings.groupby(\"movieId\")[\"rating\"].mean().hist()"
      ],
      "metadata": {
        "id": "KosqmNSaQp7s",
        "outputId": "29cb3c2a-5653-4b44-9338-b8e5d8668b08",
        "colab": {
          "base_uri": "https://localhost:8080/",
          "height": 282
        }
      },
      "execution_count": 8,
      "outputs": [
        {
          "output_type": "execute_result",
          "data": {
            "text/plain": [
              "<matplotlib.axes._subplots.AxesSubplot at 0x7fe81394d410>"
            ]
          },
          "metadata": {},
          "execution_count": 8
        },
        {
          "output_type": "display_data",
          "data": {
            "text/plain": [
              "<Figure size 432x288 with 1 Axes>"
            ],
            "image/png": "[encoded data removed]"
          },
          "metadata": {
            "needs_background": "light"
          }
        }
      ]
    },
    {
      "cell_type": "code",
      "source": [
        "# Average ratings by user\n",
        "ratings.groupby(\"userId\")[\"rating\"].mean().hist()"
      ],
      "metadata": {
        "id": "Ngk3tbJITAkX",
        "outputId": "0807cfc3-540a-4c48-ad76-6d1126ce3e2e",
        "colab": {
          "base_uri": "https://localhost:8080/",
          "height": 282
        }
      },
      "execution_count": 9,
      "outputs": [
        {
          "output_type": "execute_result",
          "data": {
            "text/plain": [
              "<matplotlib.axes._subplots.AxesSubplot at 0x7fe8134d9450>"
            ]
          },
          "metadata": {},
          "execution_count": 9
        },
        {
          "output_type": "display_data",
          "data": {
            "text/plain": [
              "<Figure size 432x288 with 1 Axes>"
            ],
            "image/png": "[encoded data removed]"
          },
          "metadata": {
            "needs_background": "light"
          }
        }
      ]
    },
    {
      "cell_type": "code",
      "execution_count": null,
      "metadata": {
        "id": "HmBeRWctMV3Z"
      },
      "outputs": [],
      "source": [
        "movies[\"movieId\"] = movies[\"movieId\"].apply(lambda x: f\"movie_{x}\")\n",
        "\n",
        "ratings[\"rating\"] = ratings[\"rating\"].apply(lambda x: float(x))\n",
        "ratings[\"movieId\"] = ratings[\"movieId\"].apply(lambda x: f\"movie_{x}\")\n"
      ]
    },
    {
      "cell_type": "markdown",
      "metadata": {
        "id": "sOSbxemvMV3b"
      },
      "source": [
        "# Data Preprocessing\n",
        "We create an edge between two movie nodes in the graph if both movies are rated\n",
        "by the same user >= `min_rating`. The weight of the edge will be based on the\n",
        "[pointwise mutual information](https://en.wikipedia.org/wiki/Pointwise_mutual_information)\n",
        "between the two movies, which is computed as: `log(xy) - log(x) - log(y) + log(D)`, where:\n",
        "\n",
        "* `xy` is how many users rated both movie `x` and movie `y` with >= `min_rating`.\n",
        "* `x` is how many users rated movie `x` >= `min_rating`.\n",
        "* `y` is how many users rated movie `y` >= `min_rating`.\n",
        "* `D` total number of movie ratings >= `min_rating`."
      ]
    },
    {
      "cell_type": "markdown",
      "metadata": {
        "id": "3AH6vce6MV3c"
      },
      "source": [
        "## Step 1: Create the edges between movies rated by the same user with minimum rating"
      ]
    },
    {
      "cell_type": "code",
      "execution_count": 10,
      "metadata": {
        "id": "tSHufUNaMV3c"
      },
      "outputs": [],
      "source": [
        "min_rating = 5\n",
        "pair_frequency = defaultdict(int)\n",
        "item_frequency = defaultdict(int)\n",
        "\n",
        "rated_movies = ratings[ratings.rating >= min_rating]\n",
        "movies_grouped_by_users = list(rated_movies.groupby(\"userId\"))\n",
        "\n",
        "for group in movies_grouped_by_users:\n",
        "        \n",
        "    current_movies = list(group[1][\"movieId\"]) # group[0] is index\n",
        "        \n",
        "    for i in range(len(current_movies)):\n",
        "\n",
        "        item_frequency[current_movies[i]] += 1\n",
        "\n",
        "        for j in range(i + 1, len(current_movies)):\n",
        "            \n",
        "            x = min(current_movies[i], current_movies[j])\n",
        "            y = max(current_movies[i], current_movies[j])\n",
        "            pair_frequency[(x, y)] += 1"
      ]
    },
    {
      "cell_type": "code",
      "execution_count": 11,
      "metadata": {
        "id": "Q6Ewz-2ZMV3c"
      },
      "outputs": [],
      "source": [
        "min_weight = 10 # How many users have the same rating\n",
        "D = math.log(sum(item_frequency.values()))\n",
        "\n",
        "movies_graph = nx.Graph()\n",
        "\n",
        "for pair in pair_frequency:\n",
        "\n",
        "    x, y = pair\n",
        "    xy_frequency = pair_frequency[pair]\n",
        "    x_frequency = item_frequency[x]\n",
        "    y_frequency = item_frequency[y]\n",
        "    \n",
        "    pmi = math.log(xy_frequency) - math.log(x_frequency) - math.log(y_frequency) + D\n",
        "    weight = pmi * xy_frequency\n",
        "    \n",
        "    if weight >= min_weight:\n",
        "        movies_graph.add_edge(x, y, weight=weight)"
      ]
    },
    {
      "cell_type": "code",
      "execution_count": 12,
      "metadata": {
        "id": "i2mLuJOtMV3d",
        "outputId": "6df17d80-7901-4734-89c8-bf52a079dd4c",
        "colab": {
          "base_uri": "https://localhost:8080/"
        }
      },
      "outputs": [
        {
          "output_type": "stream",
          "name": "stdout",
          "text": [
            "Total number of graph nodes: 1405\n",
            "Total number of graph edges: 40043\n"
          ]
        }
      ],
      "source": [
        "print(f\"Total number of graph nodes: {movies_graph.number_of_nodes()}\")\n",
        "print(f\"Total number of graph edges: {movies_graph.number_of_edges()}\")"
      ]
    },
    {
      "cell_type": "code",
      "execution_count": 13,
      "metadata": {
        "id": "z_5YVLF2MV3d",
        "outputId": "acd4bb0d-2e0b-4f11-b927-0c3020e0004c",
        "colab": {
          "base_uri": "https://localhost:8080/"
        }
      },
      "outputs": [
        {
          "output_type": "stream",
          "name": "stdout",
          "text": [
            "Average node degree: 57.0\n"
          ]
        }
      ],
      "source": [
        "degrees = [movies_graph.degree[n] for n in movies_graph.nodes]\n",
        "print(f\"Average node degree: {round(sum(degrees) / len(degrees), 2)}\")"
      ]
    },
    {
      "cell_type": "markdown",
      "metadata": {
        "id": "wUztOz90MV3d"
      },
      "source": [
        "### Step 3: Create vocabulary and a mapping from tokens to integer indices"
      ]
    },
    {
      "cell_type": "code",
      "execution_count": 14,
      "metadata": {
        "id": "wMyDXQkRMV3d"
      },
      "outputs": [],
      "source": [
        "vocabulary = [\"NA\"] + list(movies_graph.nodes) # movieId starts with 1\n",
        "vocabulary_lookup = {token: idx for idx, token in enumerate(vocabulary)}"
      ]
    },
    {
      "cell_type": "code",
      "source": [
        "print(vocabulary_lookup)"
      ],
      "metadata": {
        "id": "rbfPjxJWU3nq",
        "outputId": "0dcf29e2-0e58-481e-a7b6-14bb74ebcc67",
        "colab": {
          "base_uri": "https://localhost:8080/"
        }
      },
      "execution_count": 15,
      "outputs": [
        {
          "output_type": "stream",
          "name": "stdout",
          "text": [
            "{'NA': 0, 47: 1, 50: 2, 151: 3, 163: 4, 216: 5, 231: 6, 260: 7, 333: 8, 457: 9, 527: 10, 596: 11, 608: 12, 1029: 13, 1073: 14, 1080: 15, 1089: 16, 1136: 17, 1196: 18, 1197: 19, 1198: 20, 1206: 21, 1210: 22, 1213: 23, 1220: 24, 1222: 25, 1240: 26, 1270: 27, 1275: 28, 1278: 29, 1291: 30, 1517: 31, 1573: 32, 1617: 33, 1625: 34, 1732: 35, 2005: 36, 2094: 37, 2115: 38, 2116: 39, 2329: 40, 2387: 41, 2459: 42, 2470: 43, 2502: 44, 2529: 45, 2542: 46, 2571: 47, 2700: 48, 2716: 49, 2858: 50, 2949: 51, 2959: 52, 2987: 53, 3033: 54, 3052: 55, 3147: 56, 3253: 57, 3386: 58, 3441: 59, 3578: 60, 3671: 61, 3703: 62, 101: 63, 362: 64, 553: 65, 923: 66, 1097: 67, 1282: 68, 1587: 69, 1954: 70, 2058: 71, 2078: 72, 2395: 73, 2580: 74, 2692: 75, 2761: 76, 2944: 77, 2948: 78, 3034: 79, 3448: 80, 3450: 81, 3793: 82, 919: 83, 954: 84, 2427: 85, 2991: 86, 5060: 87, 2872: 88, 661: 89, 2947: 90, 3702: 91, 940: 92, 1031: 93, 1256: 94, 2018: 95, 2141: 96, 2161: 97, 2353: 98, 1049: 99, 1023: 100, 3053: 101, 1927: 102, 1025: 103, 1032: 104, 2137: 105, 1224: 106, 2291: 107, 1298: 108, 2596: 109, 60756: 110, 106782: 111, 80906: 112, 89774: 113, 122882: 114, 125: 115, 176: 116, 898: 117, 930: 118, 2791: 119, 4034: 120, 162: 121, 215: 122, 232: 123, 265: 124, 593: 125, 908: 126, 912: 127, 914: 128, 920: 129, 1084: 130, 1103: 131, 1283: 132, 1947: 133, 1967: 134, 2150: 135, 2174: 136, 2186: 137, 2599: 138, 3083: 139, 3365: 140, 4967: 141, 1250: 142, 910: 143, 1086: 144, 1449: 145, 475: 146, 1188: 147, 1203: 148, 3508: 149, 538: 150, 2583: 151, 319: 152, 342: 153, 1077: 154, 3044: 155, 1834: 156, 2843: 157, 4239: 158, 1046: 159, 58: 160, 296: 161, 290: 162, 590: 163, 594: 164, 595: 165, 3: 166, 5: 167, 168: 168, 262: 169, 277: 170, 318: 171, 337: 172, 356: 173, 500: 174, 587: 175, 588: 176, 616: 177, 736: 178, 780: 179, 783: 180, 364: 181, 22: 182, 36: 183, 110: 184, 316: 185, 86: 186, 480: 187, 160: 188, 248: 189, 349: 190, 350: 191, 368: 192, 377: 193, 432: 194, 257: 195, 230: 196, 314: 197, 1219: 198, 1584: 199, 2019: 200, 5618: 201, 466: 202, 3869: 203, 34: 204, 253: 205, 357: 206, 380: 207, 185: 208, 2300: 209, 4993: 210, 5902: 211, 5481: 212, 5952: 213, 7458: 214, 8533: 215, 81845: 216, 33794: 217, 49272: 218, 91529: 219, 92259: 220, 96079: 221, 79091: 222, 6: 223, 150: 224, 529: 225, 1408: 226, 2028: 227, 1101: 228, 1721: 229, 1784: 230, 222: 231, 256: 232, 1357: 233, 2572: 234, 3668: 235, 6942: 236, 40629: 237, 3996: 238, 4011: 239, 282: 240, 95: 241, 266: 242, 509: 243, 589: 244, 1200: 245, 1214: 246, 2011: 247, 3510: 248, 5989: 249, 33493: 250, 122886: 251, 166528: 252, 4720: 253, 4995: 254, 84152: 255, 858: 256, 1201: 257, 7099: 258, 6350: 259, 1221: 260, 1209: 261, 353: 262, 551: 263, 592: 264, 1285: 265, 1374: 266, 1527: 267, 2918: 268, 2968: 269, 3070: 270, 3396: 271, 903: 272, 904: 273, 1372: 274, 913: 275, 3358: 276, 3477: 277, 2723: 278, 48: 279, 1907: 280, 2081: 281, 2657: 282, 3114: 283, 4306: 284, 2083: 285, 2394: 286, 3751: 287, 5218: 288, 720: 289, 2804: 290, 5991: 291, 1380: 292, 6345: 293, 1148: 294, 3549: 295, 3398: 296, 2135: 297, 4246: 298, 10: 299, 1722: 300, 2706: 301, 3082: 302, 370: 303, 2012: 304, 47997: 305, 541: 306, 1193: 307, 1952: 308, 7438: 309, 3489: 310, 1212: 311, 1233: 312, 1258: 313, 1284: 314, 1232: 315, 3949: 316, 7153: 317, 58559: 318, 60069: 319, 68157: 320, 68954: 321, 79132: 322, 116797: 323, 187593: 324, 122912: 325, 745: 326, 1035: 327, 62: 328, 1207: 329, 1262: 330, 2628: 331, 1287: 332, 2565: 333, 2478: 334, 3451: 335, 2151: 336, 924: 337, 953: 338, 1272: 339, 68237: 340, 5995: 341, 59315: 342, 109487: 343, 112852: 344, 115617: 345, 122904: 346, 68358: 347, 111759: 348, 93510: 349, 96821: 350, 95510: 351, 1: 352, 648: 353, 733: 354, 1036: 355, 784: 356, 1391: 357, 272: 358, 497: 359, 1104: 360, 194: 361, 345: 362, 28: 363, 39: 364, 994: 365, 1280: 366, 1639: 367, 1673: 368, 1719: 369, 307: 370, 446: 371, 838: 372, 1446: 373, 339: 374, 1060: 375, 1249: 376, 1653: 377, 1704: 378, 1923: 379, 2357: 380, 1641: 381, 1245: 382, 428: 383, 2355: 384, 562: 385, 6333: 386, 8636: 387, 2273: 388, 4446: 389, 5349: 390, 6539: 391, 6874: 392, 45499: 393, 6711: 394, 21: 395, 60: 396, 261: 397, 165: 398, 344: 399, 671: 400, 11: 401, 223: 402, 246: 403, 1215: 404, 1387: 405, 1968: 406, 2762: 407, 2997: 408, 3000: 409, 3911: 410, 1921: 411, 2118: 412, 2366: 413, 3019: 414, 3213: 415, 3328: 416, 3481: 417, 1248: 418, 3362: 419, 2391: 420, 1729: 421, 17: 422, 203: 423, 82: 424, 300: 425, 306: 426, 308: 427, 111: 428, 431: 429, 491: 430, 281: 431, 514: 432, 1259: 433, 2160: 434, 2712: 435, 4022: 436, 4816: 437, 4848: 438, 4878: 439, 7293: 440, 55820: 441, 104879: 442, 116897: 443, 6287: 444, 7173: 445, 3948: 446, 16: 447, 555: 448, 1090: 449, 2990: 450, 288: 451, 597: 452, 1231: 453, 1500: 454, 4002: 455, 2278: 456, 2423: 457, 4262: 458, 4321: 459, 1246: 460, 1265: 461, 2000: 462, 2371: 463, 3100: 464, 4102: 465, 1124: 466, 3755: 467, 1093: 468, 2023: 469, 2871: 470, 2763: 471, 1379: 472, 4041: 473, 107: 474, 158: 475, 174: 476, 276: 477, 292: 478, 367: 479, 442: 480, 788: 481, 1356: 482, 419: 483, 7: 484, 23: 485, 29: 486, 434: 487, 552: 488, 153: 489, 329: 490, 382: 491, 520: 492, 610: 493, 1105: 494, 112: 495, 737: 496, 1476: 497, 104: 498, 474: 499, 543: 500, 1242: 501, 1302: 502, 2324: 503, 2890: 504, 4308: 505, 4886: 506, 6377: 507, 54272: 508, 1393: 509, 4718: 510, 8360: 511, 2268: 512, 2431: 513, 3552: 514, 3717: 515, 3753: 516, 3972: 517, 4734: 518, 5418: 519, 8665: 520, 1059: 521, 50872: 522, 3798: 523, 5378: 524, 6365: 525, 2231: 526, 4963: 527, 5630: 528, 4369: 529, 4901: 530, 4016: 531, 2694: 532, 4299: 533, 2006: 534, 5500: 535, 33679: 536, 53322: 537, 454: 538, 112552: 539, 1580: 540, 70: 541, 1079: 542, 2302: 543, 3421: 544, 3918: 545, 6502: 546, 8874: 547, 48774: 548, 51662: 549, 54001: 550, 56367: 551, 247: 552, 965: 553, 1235: 554, 1243: 555, 1276: 556, 1304: 557, 1674: 558, 1845: 559, 1953: 560, 1997: 561, 2140: 562, 2194: 563, 2788: 564, 2901: 565, 3683: 566, 3814: 567, 4437: 568, 4865: 569, 5377: 570, 5956: 571, 39183: 572, 236: 573, 2797: 574, 3361: 575, 1663: 576, 2248: 577, 3108: 578, 3471: 579, 5816: 580, 6807: 581, 2321: 582, 3107: 583, 3863: 584, 3994: 585, 4014: 586, 34338: 587, 1645: 588, 3969: 589, 2249: 590, 3148: 591, 6708: 592, 2375: 593, 1873: 594, 2301: 595, 44191: 596, 47610: 597, 51255: 598, 54286: 599, 54995: 600, 54997: 601, 57669: 602, 61132: 603, 63082: 604, 69122: 605, 73017: 606, 76093: 607, 134130: 608, 134853: 609, 7445: 610, 30749: 611, 49530: 612, 70286: 613, 122900: 614, 37733: 615, 54999: 616, 89745: 617, 152081: 618, 36529: 619, 110501: 620, 58998: 621, 95167: 622, 5064: 623, 54736: 624, 47200: 625, 52328: 626, 46976: 627, 55276: 628, 55118: 629, 916: 630, 922: 631, 1982: 632, 2686: 633, 3275: 634, 48516: 635, 19: 636, 235: 637, 899: 638, 1234: 639, 1288: 640, 2396: 641, 3494: 642, 750: 643, 1204: 644, 1252: 645, 3836: 646, 955: 647, 2921: 648, 3030: 649, 2067: 650, 2202: 651, 3334: 652, 915: 653, 3022: 654, 32: 655, 293: 656, 708: 657, 249: 658, 280: 659, 315: 660, 508: 661, 539: 662, 218: 663, 928: 664, 969: 665, 1151: 666, 1183: 667, 1208: 668, 1244: 669, 1247: 670, 1263: 671, 1269: 672, 1299: 673, 2076: 674, 2550: 675, 3462: 676, 6460: 677, 2020: 678, 3498: 679, 2352: 680, 1797: 681, 906: 682, 1094: 683, 2124: 684, 8984: 685, 48780: 686, 99114: 687, 106489: 688, 115149: 689, 150548: 690, 168252: 691, 1961: 692, 47099: 693, 109374: 694, 6934: 695, 128360: 696, 174053: 697, 91542: 698, 7361: 699, 79702: 700, 97913: 701, 32587: 702, 77455: 703, 92535: 704, 1223: 705, 5669: 706, 89904: 707, 38038: 708, 106696: 709, 98491: 710, 108932: 711, 89753: 712, 111781: 713, 778: 714, 1293: 715, 4235: 716, 4973: 717, 5010: 718, 8376: 719, 27773: 720, 1217: 721, 4128: 722, 4380: 723, 5673: 724, 3535: 725, 6385: 726, 8917: 727, 3072: 728, 1096: 729, 1912: 730, 5690: 731, 8014: 732, 6188: 733, 30810: 734, 224: 735, 535: 736, 1266: 737, 1358: 738, 1748: 739, 2288: 740, 2648: 741, 3037: 742, 4226: 743, 5464: 744, 5617: 745, 1261: 746, 7147: 747, 1956: 748, 3201: 749, 5747: 750, 3074: 751, 5299: 752, 7018: 753, 4896: 754, 40815: 755, 44195: 756, 52973: 757, 71535: 758, 72998: 759, 81834: 760, 34162: 761, 59369: 762, 102445: 763, 8368: 764, 66934: 765, 53996: 766, 69069: 767, 64969: 768, 91500: 769, 2951: 770, 3175: 771, 4027: 772, 4874: 773, 1172: 774, 3359: 775, 3468: 776, 1300: 777, 8949: 778, 802: 779, 4979: 780, 6936: 781, 78499: 782, 86833: 783, 122892: 784, 1682: 785, 86332: 786, 87232: 787, 111362: 788, 60684: 789, 110102: 790, 1041: 791, 926: 792, 1230: 793, 1960: 794, 2908: 795, 3089: 796, 3307: 797, 6016: 798, 6591: 799, 46578: 800, 6666: 801, 41997: 802, 6791: 803, 6993: 804, 7323: 805, 6787: 806, 3681: 807, 34405: 808, 8961: 809, 1127: 810, 1192: 811, 1218: 812, 1610: 813, 3104: 814, 3266: 815, 44199: 816, 44665: 817, 91658: 818, 8798: 819, 8950: 820, 80831: 821, 94864: 822, 1225: 823, 25: 824, 52: 825, 299: 826, 348: 827, 800: 828, 1267: 829, 1292: 830, 1307: 831, 1131: 832, 412: 833, 1295: 834, 53: 835, 1185: 836, 5971: 837, 1884: 838, 48394: 839, 3785: 840, 14: 841, 85: 842, 1411: 843, 3429: 844, 3740: 845, 6659: 846, 7387: 847, 1129: 848, 3081: 849, 1274: 850, 6857: 851, 7360: 852, 2: 853, 2193: 854, 2916: 855, 1917: 856, 1175: 857, 1228: 858, 741: 859, 5072: 860, 2289: 861, 2294: 862, 3418: 863, 1296: 864, 3060: 865, 3623: 866, 74458: 867, 88163: 868, 122916: 869, 122926: 870, 164179: 871, 177765: 872, 97921: 873, 225: 874, 252: 875, 1958: 876, 2318: 877, 3174: 878, 18: 879, 3160: 880, 55247: 881, 64614: 882, 2087: 883, 148626: 884, 4873: 885, 4881: 886, 4019: 887, 2671: 888, 7034: 889, 106920: 890, 159817: 891, 52281: 892, 170705: 893, 1281: 894, 69757: 895, 7371: 896, 2131: 897, 96829: 898, 171011: 899, 104374: 900, 45722: 901, 59784: 902, 88125: 903, 69844: 904, 53125: 905, 141: 906, 5445: 907, 175: 908, 119145: 909, 37384: 910, 61024: 911, 87529: 912, 48322: 913, 128520: 914, 85367: 915, 102903: 916, 902: 917, 2080: 918, 3296: 919, 932: 920, 933: 921, 1683: 922, 3099: 923, 2132: 924, 3831: 925, 1407: 926, 3499: 927, 1566: 928, 2792: 929, 170: 930, 30707: 931, 104913: 932, 67255: 933, 114662: 934, 80463: 935, 96861: 936, 105504: 937, 714: 938, 1199: 939, 1394: 940, 55765: 941, 93840: 942, 96737: 943, 139385: 944, 31658: 945, 54503: 946, 51540: 947, 56782: 948, 72226: 949, 103341: 950, 121231: 951, 2455: 952, 5110: 953, 86345: 954, 86377: 955, 61323: 956, 94959: 957, 1237: 958, 4776: 959, 86347: 960, 115122: 961, 81591: 962, 171763: 963, 7022: 964, 7254: 965, 8254: 966, 9010: 967, 2600: 968, 54190: 969, 905: 970, 945: 971, 1676: 972, 3556: 973, 161: 974, 485: 975, 1883: 976, 2409: 977, 2064: 978, 440: 979, 207: 980, 188: 981, 1949: 982, 951: 983, 2924: 984, 1019: 985, 1957: 986, 4223: 987, 6947: 988, 3155: 989, 3916: 990, 3685: 991, 3255: 992, 4327: 993, 6378: 994, 3178: 995, 2144: 996, 81847: 997, 4447: 998, 5066: 999, 7169: 1000, 1405: 1001, 69481: 1002, 96610: 1003, 98243: 1004, 417: 1005, 866: 1006, 947: 1007, 1179: 1008, 1354: 1009, 2360: 1010, 3224: 1011, 3473: 1012, 3503: 1013, 2239: 1014, 3152: 1015, 1251: 1016, 2732: 1017, 4914: 1018, 8228: 1019, 3134: 1020, 936: 1021, 2511: 1022, 72641: 1023, 1186: 1024, 1277: 1025, 1483: 1026, 3910: 1027, 198: 1028, 2710: 1029, 3697: 1030, 4021: 1031, 1339: 1032, 1320: 1033, 1734: 1034, 1022: 1035, 5992: 1036, 4571: 1037, 7247: 1038, 515: 1039, 534: 1040, 3527: 1041, 3404: 1042, 5466: 1043, 26662: 1044, 8784: 1045, 33166: 1046, 1950: 1047, 4406: 1048, 44555: 1049, 5291: 1050, 2683: 1051, 524: 1052, 2501: 1053, 317: 1054, 586: 1055, 8641: 1056, 1028: 1057, 3967: 1058, 861: 1059, 1367: 1060, 171: 1061, 471: 1062, 909: 1063, 1945: 1064, 1939: 1065, 97304: 1066, 7121: 1067, 1801: 1068, 1955: 1069, 971: 1070, 106100: 1071, 103141: 1072, 7451: 1073, 80549: 1074, 38061: 1075, 5225: 1076, 1227: 1077, 2010: 1078, 3925: 1079, 1279: 1080, 1370: 1081, 74754: 1082, 2640: 1083, 1253: 1084, 2617: 1085, 968: 1086, 1376: 1087, 2664: 1088, 5008: 1089, 3504: 1090, 1809: 1091, 2810: 1092, 27397: 1093, 31364: 1094, 31410: 1095, 6620: 1096, 3341: 1097, 2312: 1098, 213: 1099, 99: 1100, 3897: 1101, 142488: 1102, 3252: 1103, 3246: 1104, 4023: 1105, 1178: 1106, 441: 1107, 3301: 1108, 4025: 1109, 31878: 1110, 1777: 1111, 44761: 1112, 1020: 1113, 5103: 1114, 6863: 1115, 1909: 1116, 1095: 1117, 3505: 1118, 1147: 1119, 3036: 1120, 98809: 1121, 122918: 1122, 112175: 1123, 1297: 1124, 3507: 1125, 1238: 1126, 3435: 1127, 3543: 1128, 2915: 1129, 45517: 1130, 55363: 1131, 1711: 1132, 3983: 1133, 6987: 1134, 2973: 1135, 3090: 1136, 3476: 1137, 6796: 1138, 2100: 1139, 2108: 1140, 2795: 1141, 69: 1142, 785: 1143, 1974: 1144, 5650: 1145, 48738: 1146, 55721: 1147, 85342: 1148, 24: 1149, 3624: 1150, 2770: 1151, 2490: 1152, 5903: 1153, 35836: 1154, 7143: 1155, 8132: 1156, 383: 1157, 516: 1158, 653: 1159, 172: 1160, 267: 1161, 673: 1162, 2336: 1163, 5013: 1164, 7669: 1165, 4144: 1166, 7090: 1167, 52885: 1168, 59387: 1169, 65261: 1170, 66371: 1171, 4956: 1172, 62336: 1173, 84944: 1174, 87222: 1175, 115713: 1176, 88129: 1177, 93838: 1178, 104841: 1179, 86882: 1180, 112556: 1181, 115569: 1182, 3408: 1183, 2739: 1184, 1194: 1185, 4641: 1186, 8914: 1187, 1680: 1188, 41566: 1189, 1466: 1190, 3265: 1191, 3101: 1192, 2907: 1193, 334: 1194, 2925: 1195, 1964: 1196, 1303: 1197, 1273: 1198, 74: 1199, 724: 1200, 3260: 1201, 2819: 1202, 2917: 1203, 2935: 1204, 1635: 1205, 2110: 1206, 2240: 1207, 2912: 1208, 3039: 1209, 3424: 1210, 6218: 1211, 3384: 1212, 3730: 1213, 1594: 1214, 4334: 1215, 3741: 1216, 5135: 1217, 4361: 1218, 1042: 1219, 88: 1220, 4499: 1221, 237: 1222, 4642: 1223, 3363: 1224, 3198: 1225, 1254: 1226, 2731: 1227, 3035: 1228, 918: 1229, 3040: 1230, 112290: 1231, 2393: 1232, 1333: 1233, 2411: 1234, 2985: 1235, 3868: 1236, 7981: 1237, 8644: 1238, 65514: 1239, 106918: 1240, 64839: 1241, 2167: 1242, 83134: 1243, 48385: 1244, 3267: 1245, 7439: 1246, 55908: 1247, 2232: 1248, 104211: 1249, 6818: 1250, 106642: 1251, 5899: 1252, 4103: 1253, 4105: 1254, 2003: 1255, 1289: 1256, 3704: 1257, 5026: 1258, 5254: 1259, 2530: 1260, 3701: 1261, 3153: 1262, 4941: 1263, 2867: 1264, 5540: 1265, 2117: 1266, 3727: 1267, 7156: 1268, 78836: 1269, 2687: 1270, 2159: 1271, 3088: 1272, 1619: 1273, 86504: 1274, 4015: 1275, 4388: 1276, 3617: 1277, 61240: 1278, 494: 1279, 628: 1280, 9: 1281, 76: 1282, 762: 1283, 786: 1284, 27: 1285, 3176: 1286, 3470: 1287, 174055: 1288, 4975: 1289, 4370: 1290, 2065: 1291, 118696: 1292, 186: 1293, 1257: 1294, 5666: 1295, 3809: 1296, 26471: 1297, 6380: 1298, 38304: 1299, 1608: 1300, 1616: 1301, 1620: 1302, 1687: 1303, 1747: 1304, 832: 1305, 376: 1306, 2398: 1307, 3061: 1308, 3360: 1309, 55167: 1310, 98154: 1311, 98961: 1312, 5833: 1313, 57274: 1314, 102125: 1315, 122920: 1316, 158238: 1317, 168248: 1318, 1589: 1319, 4855: 1320, 1347: 1321, 7373: 1322, 54259: 1323, 5444: 1324, 2403: 1325, 86880: 1326, 122922: 1327, 167746: 1328, 64957: 1329, 2436: 1330, 1211: 1331, 33615: 1332, 62999: 1333, 805: 1334, 37729: 1335, 1916: 1336, 31696: 1337, 208: 1338, 89492: 1339, 3526: 1340, 2109: 1341, 1078: 1342, 942: 1343, 1260: 1344, 3618: 1345, 51935: 1346, 1792: 1347, 2002: 1348, 6373: 1349, 2476: 1350, 6442: 1351, 322: 1352, 2114: 1353, 5292: 1354, 599: 1355, 176371: 1356, 102407: 1357, 1835: 1358, 3254: 1359, 1241: 1360, 1343: 1361, 4085: 1362, 1717: 1363, 3698: 1364, 1753: 1365, 1569: 1366, 4701: 1367, 168250: 1368, 1344: 1369, 3020: 1370, 2203: 1371, 3068: 1372, 3244: 1373, 2424: 1374, 71530: 1375, 3347: 1376, 51709: 1377, 27611: 1378, 2243: 1379, 1962: 1380, 97938: 1381, 4467: 1382, 3317: 1383, 27815: 1384, 1485: 1385, 2953: 1386, 1047: 1387, 891: 1388, 112183: 1389, 5810: 1390, 127098: 1391, 40148: 1392, 57504: 1393, 56757: 1394, 3672: 1395, 45: 1396, 58295: 1397, 6184: 1398, 4823: 1399, 1327: 1400, 1350: 1401, 122906: 1402, 1701: 1403, 2936: 1404, 931: 1405}\n"
          ]
        }
      ]
    },
    {
      "cell_type": "markdown",
      "metadata": {
        "id": "PKiQJKSbMV3e"
      },
      "source": [
        "## Implement the biased random walk\n",
        "\n",
        "A random walk starts from a given node, and randomly picks a neighbour node to move to.\n",
        "If the edges are weighted, the neighbour is selected *probabilistically* with\n",
        "respect to weights of the edges between the current node and its neighbours.\n",
        "This procedure is repeated for `num_steps` to generate a sequence of *related* nodes.\n",
        "\n",
        "The [*biased* random walk](https://en.wikipedia.org/wiki/Biased_random_walk_on_a_graph) balances between **breadth-first sampling**\n",
        "(where only local neighbours are visited) and **depth-first sampling**\n",
        "(where  distant neighbours are visited) by introducing the following two parameters:\n",
        "\n",
        "1. **Return parameter** (`p`): Controls the likelihood of immediately revisiting\n",
        "a node in the walk. Setting it to a high value encourages moderate exploration,\n",
        "while setting it to a low value would keep the walk local.\n",
        "2. **In-out parameter** (`q`): Allows the search to differentiate\n",
        "between *inward* and *outward* nodes. Setting it to a high value biases the\n",
        "random walk towards local nodes, while setting it to a low value biases the walk\n",
        "to visit nodes which are further away."
      ]
    },
    {
      "cell_type": "code",
      "execution_count": 16,
      "metadata": {
        "id": "aJHkigKoMV3e"
      },
      "outputs": [],
      "source": [
        "def next_step(graph, previous, current, p, q):\n",
        "\n",
        "    neighbors = list(graph.neighbors(current))\n",
        "    weights = []\n",
        "\n",
        "    for neighbor in neighbors:\n",
        "        \n",
        "        if neighbor == previous:            \n",
        "            weights.append(graph[current][neighbor][\"weight\"] / p)\n",
        "\n",
        "        elif graph.has_edge(neighbor, previous):            \n",
        "            weights.append(graph[current][neighbor][\"weight\"])\n",
        "\n",
        "        else:\n",
        "            weights.append(graph[current][neighbor][\"weight\"] / q)\n",
        "    \n",
        "    weight_sum = sum(weights)\n",
        "    probabilities = [weight / weight_sum for weight in weights]\n",
        "    next = np.random.choice(neighbors, size=1, p=probabilities)[0]\n",
        "    return next"
      ]
    },
    {
      "cell_type": "code",
      "source": [
        "def random_walk(graph, num_walks, num_steps, p, q):\n",
        "    \n",
        "    walks = []\n",
        "    nodes = list(graph.nodes())\n",
        "    \n",
        "    for walk_iteration in range(num_walks):\n",
        "        random.shuffle(nodes)\n",
        "\n",
        "        for node in nodes:\n",
        "            \n",
        "            walk = [node]\n",
        "            \n",
        "            while len(walk) < num_steps:\n",
        "\n",
        "                current = walk[-1]\n",
        "                previous = walk[-2] if len(walk) > 1 else None\n",
        "                next = next_step(graph, previous, current, p, q)\n",
        "                walk.append(next)\n",
        "\n",
        "            walk = [vocabulary_lookup[token] for token in walk]\n",
        "            walks.append(walk)\n",
        "\n",
        "    return walks"
      ],
      "metadata": {
        "id": "ocmtse5xUqTI"
      },
      "execution_count": 17,
      "outputs": []
    },
    {
      "cell_type": "markdown",
      "metadata": {
        "id": "bmsLs_VeMV3e"
      },
      "source": [
        "## Generate training data using the biased random walk\n",
        "\n",
        "You can explore different configurations of `p` and `q` to different results of\n",
        "related movies."
      ]
    },
    {
      "cell_type": "code",
      "execution_count": 18,
      "metadata": {
        "id": "m4PdbHkRMV3e",
        "outputId": "5246b8eb-6df4-40de-854a-93927a8a43f2",
        "colab": {
          "base_uri": "https://localhost:8080/"
        }
      },
      "outputs": [
        {
          "output_type": "stream",
          "name": "stdout",
          "text": [
            "Number of walks generated: 7025\n"
          ]
        }
      ],
      "source": [
        "# Random walk return parameter.\n",
        "p = 1\n",
        "# Random walk in-out parameter.\n",
        "q = 1\n",
        "# Number of iterations of random walks.\n",
        "num_walks = 5\n",
        "# Number of steps of each random walk.\n",
        "num_steps = 10\n",
        "walks = random_walk(movies_graph, num_walks, num_steps, p, q)\n",
        "\n",
        "print(f\"Number of walks generated: {len(walks)}\")"
      ]
    },
    {
      "cell_type": "markdown",
      "metadata": {
        "id": "lZXu2rMPMV3e"
      },
      "source": [
        "## Generate positive and negative examples\n",
        "\n",
        "To train a skip-gram model, we use the generated walks to create positive and\n",
        "negative training examples. Each example includes the following features:\n",
        "\n",
        "1. `target`: A movie in a walk sequence.\n",
        "2. `context`: Another movie in a walk sequence.\n",
        "3. `weight`: How many times these two movies occured in walk sequences.\n",
        "4. `label`: The label is 1 if these two movies are samples from the walk sequences,\n",
        "otherwise (i.e., if randomly sampled) the label is 0."
      ]
    },
    {
      "cell_type": "markdown",
      "metadata": {
        "id": "_ZgucR4aMV3f"
      },
      "source": [
        "### Generate examples"
      ]
    },
    {
      "cell_type": "code",
      "execution_count": 21,
      "metadata": {
        "id": "X5udUmq1MV3f"
      },
      "outputs": [],
      "source": [
        "def generate_examples(sequences, window_size, num_negative_samples, vocabulary_size):\n",
        "    \n",
        "    example_weights = defaultdict(int)\n",
        "    # Iterate over all sequences (walks).\n",
        "    for sequence in sequences:\n",
        "        # Generate positive and negative skip-gram pairs for a sequence (walk).\n",
        "        pairs, labels = keras.preprocessing.sequence.skipgrams(\n",
        "            sequence,\n",
        "            vocabulary_size=vocabulary_size,\n",
        "            window_size=window_size,\n",
        "            negative_samples=num_negative_samples,\n",
        "        )\n",
        "        for idx in range(len(pairs)):\n",
        "            pair = pairs[idx]\n",
        "            label = labels[idx]\n",
        "            target, context = min(pair[0], pair[1]), max(pair[0], pair[1])\n",
        "            if target == context:\n",
        "                continue\n",
        "            entry = (target, context, label)\n",
        "            example_weights[entry] += 1\n",
        "\n",
        "    targets, contexts, labels, weights = [], [], [], []\n",
        "    for entry in example_weights:\n",
        "        weight = example_weights[entry]\n",
        "        target, context, label = entry\n",
        "        targets.append(target)\n",
        "        contexts.append(context)\n",
        "        labels.append(label)\n",
        "        weights.append(weight)\n",
        "\n",
        "    return np.array(targets), np.array(contexts), np.array(labels), np.array(weights)"
      ]
    },
    {
      "cell_type": "code",
      "source": [
        "num_negative_samples = 4\n",
        "targets, contexts, labels, weights = generate_examples(\n",
        "    sequences=walks,\n",
        "    window_size=num_steps,\n",
        "    num_negative_samples=num_negative_samples,\n",
        "    vocabulary_size=len(vocabulary),\n",
        ")"
      ],
      "metadata": {
        "id": "3-rw_4D8Vo4S",
        "outputId": "d592bafb-ba7c-4b53-e52f-59476ec3fd21",
        "colab": {
          "base_uri": "https://localhost:8080/"
        }
      },
      "execution_count": 22,
      "outputs": [
        {
          "output_type": "stream",
          "name": "stderr",
          "text": [
            "Generating postive and negative examples: 100%|██████████| 7025/7025 [00:24<00:00, 291.05it/s]\n"
          ]
        }
      ]
    },
    {
      "cell_type": "markdown",
      "metadata": {
        "id": "gH5TkukYMV3f"
      },
      "source": [
        "Let's display the shapes of the outputs"
      ]
    },
    {
      "cell_type": "code",
      "execution_count": 23,
      "metadata": {
        "id": "9MF_gCLTMV3f",
        "outputId": "b5293567-1d4d-4289-9eb6-0982448e3d86",
        "colab": {
          "base_uri": "https://localhost:8080/"
        }
      },
      "outputs": [
        {
          "output_type": "stream",
          "name": "stdout",
          "text": [
            "Targets shape: (883457,)\n",
            "Contexts shape: (883457,)\n",
            "Labels shape: (883457,)\n",
            "Weights shape: (883457,)\n"
          ]
        }
      ],
      "source": [
        "print(f\"Targets shape: {targets.shape}\")\n",
        "print(f\"Contexts shape: {contexts.shape}\")\n",
        "print(f\"Labels shape: {labels.shape}\")\n",
        "print(f\"Weights shape: {weights.shape}\")"
      ]
    },
    {
      "cell_type": "markdown",
      "metadata": {
        "id": "nNPz9RUjMV3f"
      },
      "source": [
        "### Convert the data into `tf.data.Dataset` objects"
      ]
    },
    {
      "cell_type": "code",
      "execution_count": 24,
      "metadata": {
        "id": "IwkvGDDCMV3f"
      },
      "outputs": [],
      "source": [
        "def create_dataset(targets, contexts, labels, weights, batch_size):\n",
        "    inputs = {\n",
        "        \"target\": targets,\n",
        "        \"context\": contexts,\n",
        "    }\n",
        "    dataset = tf.data.Dataset.from_tensor_slices((inputs, labels, weights))\n",
        "    dataset = dataset.shuffle(buffer_size=batch_size * 2)\n",
        "    dataset = dataset.batch(batch_size, drop_remainder=True)\n",
        "    dataset = dataset.prefetch(tf.data.AUTOTUNE)\n",
        "    return dataset"
      ]
    },
    {
      "cell_type": "code",
      "source": [
        "batch_size = 1024\n",
        "\n",
        "dataset = create_dataset(\n",
        "    targets=targets,\n",
        "    contexts=contexts,\n",
        "    labels=labels,\n",
        "    weights=weights,\n",
        "    batch_size=batch_size,\n",
        ")"
      ],
      "metadata": {
        "id": "jOIEwarGWQDV"
      },
      "execution_count": 25,
      "outputs": []
    },
    {
      "cell_type": "markdown",
      "metadata": {
        "id": "HU_MdODdMV3f"
      },
      "source": [
        "## Train the skip-gram model\n",
        "\n",
        "Our skip-gram is a simple binary classification model that works as follows:\n",
        "\n",
        "1. An embedding is looked up for the `target` movie.\n",
        "2. An embedding is looked up for the `context` movie.\n",
        "3. The dot product is computed between these two embeddings.\n",
        "4. The result (after a sigmoid activation) is compared to the label.\n",
        "5. A binary crossentropy loss is used."
      ]
    },
    {
      "cell_type": "code",
      "execution_count": 26,
      "metadata": {
        "id": "bpChe4hlMV3g"
      },
      "outputs": [],
      "source": [
        "learning_rate = 0.001\n",
        "embedding_dim = 32\n",
        "num_epochs = 10"
      ]
    },
    {
      "cell_type": "markdown",
      "metadata": {
        "id": "OOBP8J6FMV3g"
      },
      "source": [
        "### Implement the model"
      ]
    },
    {
      "cell_type": "code",
      "execution_count": 27,
      "metadata": {
        "id": "RPUEDOTwMV3g"
      },
      "outputs": [],
      "source": [
        "def create_model(vocabulary_size, embedding_dim):\n",
        "\n",
        "    inputs = {\n",
        "        \"target\": layers.Input(name=\"target\", shape=(), dtype=\"int32\"),\n",
        "        \"context\": layers.Input(name=\"context\", shape=(), dtype=\"int32\"),\n",
        "    }\n",
        "    # Initialize item embeddings.\n",
        "    embed_item = layers.Embedding(\n",
        "        input_dim=vocabulary_size,\n",
        "        output_dim=embedding_dim,\n",
        "        embeddings_initializer=\"he_normal\",\n",
        "        embeddings_regularizer=keras.regularizers.l2(1e-6),\n",
        "        name=\"item_embeddings\",\n",
        "    )\n",
        "    # Lookup embeddings for target.\n",
        "    target_embeddings = embed_item(inputs[\"target\"])\n",
        "    # Lookup embeddings for context.\n",
        "    context_embeddings = embed_item(inputs[\"context\"])\n",
        "    # Compute dot similarity between target and context embeddings.\n",
        "    logits = layers.Dot(axes=1, normalize=False, name=\"dot_similarity\")(\n",
        "        [target_embeddings, context_embeddings]\n",
        "    )\n",
        "    # Create the model.\n",
        "    model = keras.Model(inputs=inputs, outputs=logits)\n",
        "    return model"
      ]
    },
    {
      "cell_type": "markdown",
      "metadata": {
        "id": "vXuGUWKwMV3g"
      },
      "source": [
        "### Train the model"
      ]
    },
    {
      "cell_type": "markdown",
      "metadata": {
        "id": "WE54jlETMV3g"
      },
      "source": [
        "We instantiate the model and compile it."
      ]
    },
    {
      "cell_type": "code",
      "execution_count": 28,
      "metadata": {
        "id": "UP3VBACxMV3g"
      },
      "outputs": [],
      "source": [
        "model = create_model(len(vocabulary), embedding_dim)\n",
        "model.compile(\n",
        "    optimizer=keras.optimizers.Adam(learning_rate),\n",
        "    loss=keras.losses.BinaryCrossentropy(from_logits=True),\n",
        ")"
      ]
    },
    {
      "cell_type": "markdown",
      "metadata": {
        "id": "maflGh-gMV3g"
      },
      "source": [
        "Let's plot the model."
      ]
    },
    {
      "cell_type": "code",
      "execution_count": 29,
      "metadata": {
        "id": "MVymnR3HMV3g",
        "outputId": "3d8ee7d8-0b08-4295-b05f-a84db20b5ac8",
        "colab": {
          "base_uri": "https://localhost:8080/",
          "height": 404
        }
      },
      "outputs": [
        {
          "output_type": "execute_result",
          "data": {
            "text/plain": [
              "<IPython.core.display.Image object>"
            ],
            "image/png": "[encoded data removed]"
          },
          "metadata": {},
          "execution_count": 29
        }
      ],
      "source": [
        "keras.utils.plot_model(\n",
        "    model, show_shapes=True, show_dtype=True, show_layer_names=True,\n",
        ")"
      ]
    },
    {
      "cell_type": "markdown",
      "metadata": {
        "id": "RSYYkmjrMV3h"
      },
      "source": [
        "Now we train the model on the `dataset`."
      ]
    },
    {
      "cell_type": "code",
      "execution_count": 30,
      "metadata": {
        "id": "lBAdzJ8UMV3h",
        "outputId": "59e74aed-7fb9-476d-e7b6-33823fa8c8c1",
        "colab": {
          "base_uri": "https://localhost:8080/"
        }
      },
      "outputs": [
        {
          "output_type": "stream",
          "name": "stdout",
          "text": [
            "Epoch 1/10\n",
            "862/862 [==============================] - 8s 9ms/step - loss: 2.4471\n",
            "Epoch 2/10\n",
            "862/862 [==============================] - 6s 7ms/step - loss: 2.3388\n",
            "Epoch 3/10\n",
            "862/862 [==============================] - 7s 8ms/step - loss: 2.3320\n",
            "Epoch 4/10\n",
            "862/862 [==============================] - 6s 7ms/step - loss: 2.3284\n",
            "Epoch 5/10\n",
            "862/862 [==============================] - 14s 16ms/step - loss: 2.3246\n",
            "Epoch 6/10\n",
            "862/862 [==============================] - 6s 7ms/step - loss: 2.3204\n",
            "Epoch 7/10\n",
            "862/862 [==============================] - 6s 7ms/step - loss: 2.3167\n",
            "Epoch 8/10\n",
            "862/862 [==============================] - 6s 7ms/step - loss: 2.3135\n",
            "Epoch 9/10\n",
            "862/862 [==============================] - 11s 13ms/step - loss: 2.3107\n",
            "Epoch 10/10\n",
            "862/862 [==============================] - 6s 7ms/step - loss: 2.3082\n"
          ]
        }
      ],
      "source": [
        "history = model.fit(dataset, epochs=num_epochs)"
      ]
    },
    {
      "cell_type": "markdown",
      "metadata": {
        "id": "U4gbXw_dMV3h"
      },
      "source": [
        "Finally we plot the learning history."
      ]
    },
    {
      "cell_type": "markdown",
      "metadata": {
        "id": "x07tXmmuMV3h"
      },
      "source": [
        "## Analyze the learnt embeddings."
      ]
    },
    {
      "cell_type": "code",
      "execution_count": 39,
      "metadata": {
        "id": "I7cnQxolMV3h",
        "outputId": "6d76cda7-2976-4a78-c66c-d0593e35b1fe",
        "colab": {
          "base_uri": "https://localhost:8080/"
        }
      },
      "outputs": [
        {
          "output_type": "stream",
          "name": "stdout",
          "text": [
            "Embeddings shape: (1406, 50)\n"
          ]
        }
      ],
      "source": [
        "movie_embeddings = model.get_layer(\"item_embeddings\").get_weights()[0]\n",
        "print(f\"Embeddings shape: {movie_embeddings.shape}\")"
      ]
    },
    {
      "cell_type": "markdown",
      "metadata": {
        "id": "mpqFx9k2MV3h"
      },
      "source": [
        "### Find related movies\n",
        "\n",
        "Define a list with some movies called `query_movies`."
      ]
    },
    {
      "cell_type": "code",
      "execution_count": 33,
      "metadata": {
        "id": "BU6GbEEQMV3h"
      },
      "outputs": [],
      "source": [
        "query_movies = [\n",
        "    \"Matrix, The (1999)\",\n",
        "    \"Star Wars: Episode IV - A New Hope (1977)\",\n",
        "    \"Lion King, The (1994)\",\n",
        "    \"Terminator 2: Judgment Day (1991)\",\n",
        "    \"Godfather, The (1972)\",\n",
        "]"
      ]
    },
    {
      "cell_type": "code",
      "source": [
        "def get_movie_title_by_id(movieId):\n",
        "    return list(movies[movies.movieId == movieId].title)[0]"
      ],
      "metadata": {
        "id": "03OiJ0YMW48k"
      },
      "execution_count": 34,
      "outputs": []
    },
    {
      "cell_type": "code",
      "source": [
        "def get_movie_id_by_title(title):\n",
        "    return list(movies[movies.title == title].movieId)[0]"
      ],
      "metadata": {
        "id": "6j06fsMeW_ck"
      },
      "execution_count": 35,
      "outputs": []
    },
    {
      "cell_type": "markdown",
      "metadata": {
        "id": "_HyZjv5qMV3h"
      },
      "source": [
        "Get the embeddings of the movies in `query_movies`."
      ]
    },
    {
      "cell_type": "code",
      "execution_count": 36,
      "metadata": {
        "id": "WQTysF9nMV3i"
      },
      "outputs": [],
      "source": [
        "query_embeddings = []\n",
        "\n",
        "for movie_title in query_movies:\n",
        "    movieId = get_movie_id_by_title(movie_title)\n",
        "    token_id = vocabulary_lookup[movieId]\n",
        "    movie_embedding = movie_embeddings[token_id]\n",
        "    query_embeddings.append(movie_embedding)\n",
        "\n",
        "query_embeddings = np.array(query_embeddings)"
      ]
    },
    {
      "cell_type": "markdown",
      "metadata": {
        "id": "NV-26_frMV3i"
      },
      "source": [
        "# Compute the cosine similarity between the embeddings of queries and other movies, then pick the top k"
      ]
    },
    {
      "cell_type": "code",
      "execution_count": 40,
      "metadata": {
        "id": "5CyTlCR9MV3i"
      },
      "outputs": [],
      "source": [
        "similarities = tf.linalg.matmul(\n",
        "    tf.math.l2_normalize(query_embeddings),\n",
        "    tf.math.l2_normalize(movie_embeddings),\n",
        "    transpose_b=True,\n",
        ")\n",
        "\n",
        "_, indices = tf.math.top_k(similarities, k=10)\n",
        "indices = indices.numpy().tolist()"
      ]
    },
    {
      "cell_type": "code",
      "source": [
        "similarities = tf.linalg.matmul(\n",
        "    tf.math.l2_normalize(query_embeddings),\n",
        "    tf.math.l2_normalize(query_embeddings),\n",
        "    transpose_b=True,\n",
        ")\n",
        "\n",
        "print(similarities)"
      ],
      "metadata": {
        "id": "kzJvqCZaZPQG",
        "outputId": "1982b09e-c0da-4ea7-9809-149347967a87",
        "colab": {
          "base_uri": "https://localhost:8080/"
        }
      },
      "execution_count": 46,
      "outputs": [
        {
          "output_type": "stream",
          "name": "stdout",
          "text": [
            "tf.Tensor(\n",
            "[[0.16354087 0.1686353  0.12940064 0.1530269  0.15858021]\n",
            " [0.1686353  0.2093599  0.14222485 0.18167162 0.18458462]\n",
            " [0.12940064 0.14222485 0.24716975 0.15566635 0.10802281]\n",
            " [0.1530269  0.18167162 0.15566635 0.18781543 0.16694582]\n",
            " [0.15858021 0.18458462 0.10802281 0.16694582 0.19211411]], shape=(5, 5), dtype=float32)\n"
          ]
        }
      ]
    },
    {
      "cell_type": "markdown",
      "metadata": {
        "id": "hY3vHQuaMV3i"
      },
      "source": [
        "Display the top related movies in `query_movies`."
      ]
    },
    {
      "cell_type": "code",
      "execution_count": 44,
      "metadata": {
        "id": "26bPLn0YMV3i",
        "outputId": "94feaa1c-37cd-4817-e883-f764ea5666ce",
        "colab": {
          "base_uri": "https://localhost:8080/"
        }
      },
      "outputs": [
        {
          "output_type": "stream",
          "name": "stdout",
          "text": [
            "Matrix, The (1999)\n",
            "------------------\n",
            "- Pulp Fiction (1994), 0.01\n",
            "- Lord of the Rings: The Fellowship of the Ring, The (2001), 0.01\n",
            "- Inception (2010), 0.01\n",
            "- Star Wars: Episode IV - A New Hope (1977), 0.01\n",
            "- Fight Club (1999), 0.01\n",
            "- Star Wars: Episode V - The Empire Strikes Back (1980), 0.01\n",
            "- Matrix, The (1999), 0.01\n",
            "- Lord of the Rings: The Return of the King, The (2003), 0.01\n",
            "- Dark Knight, The (2008), 0.01\n",
            "- American Beauty (1999), 0.01\n",
            "\n",
            "Star Wars: Episode IV - A New Hope (1977)\n",
            "-----------------------------------------\n",
            "- Star Wars: Episode IV - A New Hope (1977), 0.02\n",
            "- Pulp Fiction (1994), 0.02\n",
            "- Princess Bride, The (1987), 0.02\n",
            "- Star Wars: Episode V - The Empire Strikes Back (1980), 0.02\n",
            "- Usual Suspects, The (1995), 0.02\n",
            "- Lord of the Rings: The Fellowship of the Ring, The (2001), 0.02\n",
            "- Raiders of the Lost Ark (Indiana Jones and the Raiders of the Lost Ark) (1981), 0.02\n",
            "- American Beauty (1999), 0.02\n",
            "- Saving Private Ryan (1998), 0.02\n",
            "- Braveheart (1995), 0.02\n",
            "\n",
            "Lion King, The (1994)\n",
            "---------------------\n",
            "- Lion King, The (1994), 0.02\n",
            "- Aladdin (1992), 0.02\n",
            "- Apollo 13 (1995), 0.02\n",
            "- Independence Day (a.k.a. ID4) (1996), 0.02\n",
            "- Fugitive, The (1993), 0.02\n",
            "- Braveheart (1995), 0.02\n",
            "- Beauty and the Beast (1991), 0.02\n",
            "- Speed (1994), 0.02\n",
            "- Jurassic Park (1993), 0.02\n",
            "- Toy Story (1995), 0.02\n",
            "\n",
            "Terminator 2: Judgment Day (1991)\n",
            "---------------------------------\n",
            "- Terminator 2: Judgment Day (1991), 0.02\n",
            "- Braveheart (1995), 0.02\n",
            "- Star Wars: Episode IV - A New Hope (1977), 0.01\n",
            "- Forrest Gump (1994), 0.01\n",
            "- Lord of the Rings: The Fellowship of the Ring, The (2001), 0.01\n",
            "- Usual Suspects, The (1995), 0.01\n",
            "- Pulp Fiction (1994), 0.01\n",
            "- Star Wars: Episode V - The Empire Strikes Back (1980), 0.01\n",
            "- Raiders of the Lost Ark (Indiana Jones and the Raiders of the Lost Ark) (1981), 0.01\n",
            "- Princess Bride, The (1987), 0.01\n",
            "\n",
            "Godfather, The (1972)\n",
            "---------------------\n",
            "- Godfather, The (1972), 0.02\n",
            "- Pulp Fiction (1994), 0.02\n",
            "- Apocalypse Now (1979), 0.02\n",
            "- Star Wars: Episode IV - A New Hope (1977), 0.01\n",
            "- American Beauty (1999), 0.01\n",
            "- Godfather: Part II, The (1974), 0.01\n",
            "- Star Wars: Episode V - The Empire Strikes Back (1980), 0.01\n",
            "- Princess Bride, The (1987), 0.01\n",
            "- Lord of the Rings: The Fellowship of the Ring, The (2001), 0.01\n",
            "- Usual Suspects, The (1995), 0.01\n",
            "\n"
          ]
        }
      ],
      "source": [
        "for idx, title in enumerate(query_movies):\n",
        "    print(title)\n",
        "    print(\"\".rjust(len(title), \"-\"))\n",
        "    similar_tokens = indices[idx]\n",
        "    for token in similar_tokens:\n",
        "        similar_movieId = vocabulary[token]\n",
        "        similar_title = get_movie_title_by_id(similar_movieId)\n",
        "        print(f\"- {similar_title}, {similarities[idx][token]:0.2f}\")\n",
        "    print()"
      ]
    },
    {
      "cell_type": "markdown",
      "metadata": {
        "id": "zlMgla1aMV3i"
      },
      "source": [
        "### Visualize the embeddings using the Embedding Projector"
      ]
    },
    {
      "cell_type": "code",
      "execution_count": null,
      "metadata": {
        "id": "hD0-HqFnMV3j"
      },
      "outputs": [],
      "source": [
        "import io\n",
        "\n",
        "out_v = io.open(\"embeddings.tsv\", \"w\", encoding=\"utf-8\")\n",
        "out_m = io.open(\"metadata.tsv\", \"w\", encoding=\"utf-8\")\n",
        "\n",
        "for idx, movie_id in enumerate(vocabulary[1:]):\n",
        "    movie_title = list(movies[movies.movieId == movie_id].title)[0]\n",
        "    vector = movie_embeddings[idx]\n",
        "    out_v.write(\"\\t\".join([str(x) for x in vector]) + \"\\n\")\n",
        "    out_m.write(movie_title + \"\\n\")\n",
        "\n",
        "out_v.close()\n",
        "out_m.close()"
      ]
    },
    {
      "cell_type": "markdown",
      "metadata": {
        "id": "P9jtO9FmMV3j"
      },
      "source": [
        "Download the `embeddings.tsv` and `metadata.tsv` to analyze the obtained embeddings\n",
        "in the [Embedding Projector](https://projector.tensorflow.org/)."
      ]
    }
  ],
  "metadata": {
    "colab": {
      "collapsed_sections": [],
      "name": "node2vec_movielens",
      "provenance": [],
      "include_colab_link": true
    },
    "kernelspec": {
      "display_name": "Python 3",
      "language": "python",
      "name": "python3"
    },
    "language_info": {
      "codemirror_mode": {
        "name": "ipython",
        "version": 3
      },
      "file_extension": ".py",
      "mimetype": "text/x-python",
      "name": "python",
      "nbconvert_exporter": "python",
      "pygments_lexer": "ipython3",
      "version": "3.7.0"
    }
  },
  "nbformat": 4,
  "nbformat_minor": 0
}