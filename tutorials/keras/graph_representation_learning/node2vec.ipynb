{
  "cells": [
    {
      "cell_type": "markdown",
      "metadata": {
        "id": "view-in-github",
        "colab_type": "text"
      },
      "source": [
        "<a href=\"https://colab.research.google.com/github/chihyanghsu0805/machine_learning/blob/tutorials/tutorials/keras/graph_representation_learning/node2vec.ipynb\" target=\"_parent\"><img src=\"https://colab.research.google.com/assets/colab-badge.svg\" alt=\"Open In Colab\"/></a>"
      ]
    },
    {
      "cell_type": "markdown",
      "source": [
        "# Import Libraries and Install packages"
      ],
      "metadata": {
        "id": "MKWSWxNTNeaQ"
      }
    },
    {
      "cell_type": "code",
      "source": [
        "pip install networkx"
      ],
      "metadata": {
        "id": "uSTIOr_dNKgs",
        "outputId": "6bee4efe-2786-4cf5-b59c-f13313519b51",
        "colab": {
          "base_uri": "https://localhost:8080/"
        }
      },
      "execution_count": 1,
      "outputs": [
        {
          "output_type": "stream",
          "name": "stdout",
          "text": [
            "Requirement already satisfied: networkx in /usr/local/lib/python3.7/dist-packages (2.6.3)\n"
          ]
        }
      ]
    },
    {
      "cell_type": "code",
      "execution_count": 2,
      "metadata": {
        "id": "A6Wb-GoGMV3X"
      },
      "outputs": [],
      "source": [
        "import os\n",
        "from collections import defaultdict\n",
        "import math\n",
        "import networkx as nx\n",
        "import random\n",
        "from tqdm import tqdm\n",
        "from zipfile import ZipFile\n",
        "from urllib.request import urlretrieve\n",
        "import numpy as np\n",
        "import pandas as pd\n",
        "import tensorflow as tf\n",
        "from tensorflow import keras\n",
        "from tensorflow.keras import layers\n",
        "import matplotlib.pyplot as plt"
      ]
    },
    {
      "cell_type": "code",
      "execution_count": 3,
      "metadata": {
        "id": "MVKlI7p3MV3Z"
      },
      "outputs": [],
      "source": [
        "urlretrieve(\n",
        "    \"http://files.grouplens.org/datasets/movielens/ml-latest-small.zip\", \"movielens.zip\"\n",
        ")\n",
        "ZipFile(\"movielens.zip\", \"r\").extractall()"
      ]
    },
    {
      "cell_type": "markdown",
      "source": [
        "# Exploratory Data Analysis and Data Preprocessing"
      ],
      "metadata": {
        "id": "7LtBLNuBNrXs"
      }
    },
    {
      "cell_type": "code",
      "source": [
        "movies = pd.read_csv(\"ml-latest-small/movies.csv\")\n",
        "ratings = pd.read_csv(\"ml-latest-small/ratings.csv\")\n",
        "\n",
        "print(f\"Movies data shape: {movies.shape}\")\n",
        "print(f\"Ratings data shape: {ratings.shape}\")\n",
        "\n",
        "movies.head()\n",
        "ratings.head()"
      ],
      "metadata": {
        "id": "swEjIbLyN7-q"
      },
      "execution_count": null,
      "outputs": []
    },
    {
      "cell_type": "code",
      "execution_count": 4,
      "metadata": {
        "id": "HmBeRWctMV3Z",
        "outputId": "83228038-e5f7-40f5-cf2f-8ab2701a81c3",
        "colab": {
          "base_uri": "https://localhost:8080/"
        }
      },
      "outputs": [
        {
          "output_type": "stream",
          "name": "stdout",
          "text": [
            "Movies data shape: (9742, 3)\n",
            "Ratings data shape: (100836, 4)\n"
          ]
        }
      ],
      "source": [
        "movies[\"movieId\"] = movies[\"movieId\"].apply(lambda x: f\"movie_{x}\")\n",
        "\n",
        "ratings[\"rating\"] = ratings[\"rating\"].apply(lambda x: float(x))\n",
        "ratings[\"movieId\"] = ratings[\"movieId\"].apply(lambda x: f\"movie_{x}\")\n"
      ]
    },
    {
      "cell_type": "markdown",
      "metadata": {
        "id": "KpgZCZsOMV3a"
      },
      "source": [
        "Next, let's check a sample instance of the `movies` DataFrame."
      ]
    },
    {
      "cell_type": "code",
      "execution_count": 7,
      "metadata": {
        "id": "iDpNJxotMV3b"
      },
      "outputs": [],
      "source": [
        "def get_movie_title_by_id(movieId):\n",
        "    return list(movies[movies.movieId == movieId].title)[0]"
      ]
    },
    {
      "cell_type": "code",
      "source": [
        "def get_movie_id_by_title(title):\n",
        "    return list(movies[movies.title == title].movieId)[0]"
      ],
      "metadata": {
        "id": "yn9xHEyrOTN6"
      },
      "execution_count": null,
      "outputs": []
    },
    {
      "cell_type": "markdown",
      "metadata": {
        "id": "sOSbxemvMV3b"
      },
      "source": [
        "## Construct the Movies graph\n",
        "\n",
        "We create an edge between two movie nodes in the graph if both movies are rated\n",
        "by the same user >= `min_rating`. The weight of the edge will be based on the\n",
        "[pointwise mutual information](https://en.wikipedia.org/wiki/Pointwise_mutual_information)\n",
        "between the two movies, which is computed as: `log(xy) - log(x) - log(y) + log(D)`, where:\n",
        "\n",
        "* `xy` is how many users rated both movie `x` and movie `y` with >= `min_rating`.\n",
        "* `x` is how many users rated movie `x` >= `min_rating`.\n",
        "* `y` is how many users rated movie `y` >= `min_rating`.\n",
        "* `D` total number of movie ratings >= `min_rating`."
      ]
    },
    {
      "cell_type": "markdown",
      "metadata": {
        "id": "3AH6vce6MV3c"
      },
      "source": [
        "### Step 1: create the weighted edges between movies."
      ]
    },
    {
      "cell_type": "code",
      "execution_count": 8,
      "metadata": {
        "id": "tSHufUNaMV3c",
        "outputId": "06c53b80-b02c-4ca6-ae2b-fd7e9f5a0118",
        "colab": {
          "base_uri": "https://localhost:8080/"
        }
      },
      "outputs": [
        {
          "output_type": "stream",
          "name": "stderr",
          "text": [
            "Compute movie rating frequencies: 100%|██████████| 573/573 [00:01<00:00, 397.40it/s]\n"
          ]
        }
      ],
      "source": [
        "min_rating = 5\n",
        "pair_frequency = defaultdict(int)\n",
        "item_frequency = defaultdict(int)\n",
        "\n",
        "# Filter instances where rating is greater than or equal to min_rating.\n",
        "rated_movies = ratings[ratings.rating >= min_rating]\n",
        "# Group instances by user.\n",
        "movies_grouped_by_users = list(rated_movies.groupby(\"userId\"))\n",
        "for group in tqdm(\n",
        "    movies_grouped_by_users,\n",
        "    position=0,\n",
        "    leave=True,\n",
        "    desc=\"Compute movie rating frequencies\",\n",
        "):\n",
        "    # Get a list of movies rated by the user.\n",
        "    current_movies = list(group[1][\"movieId\"])\n",
        "\n",
        "    for i in range(len(current_movies)):\n",
        "        item_frequency[current_movies[i]] += 1\n",
        "        for j in range(i + 1, len(current_movies)):\n",
        "            x = min(current_movies[i], current_movies[j])\n",
        "            y = max(current_movies[i], current_movies[j])\n",
        "            pair_frequency[(x, y)] += 1"
      ]
    },
    {
      "cell_type": "markdown",
      "metadata": {
        "id": "Xy5YPO-IMV3c"
      },
      "source": [
        "### Step 2: create the graph with the nodes and the edges\n",
        "\n",
        "To reduce the number of edges between nodes, we only add an edge between movies\n",
        "if the weight of the edge is greater than `min_weight`."
      ]
    },
    {
      "cell_type": "code",
      "execution_count": 9,
      "metadata": {
        "id": "Q6Ewz-2ZMV3c",
        "outputId": "367d2490-8c9f-4278-eea6-37cf3f0b5ad0",
        "colab": {
          "base_uri": "https://localhost:8080/"
        }
      },
      "outputs": [
        {
          "output_type": "stream",
          "name": "stderr",
          "text": [
            "Creating the movie graph: 100%|██████████| 298586/298586 [00:00<00:00, 303530.57it/s]\n"
          ]
        }
      ],
      "source": [
        "min_weight = 10\n",
        "D = math.log(sum(item_frequency.values()))\n",
        "\n",
        "# Create the movies undirected graph.\n",
        "movies_graph = nx.Graph()\n",
        "# Add weighted edges between movies.\n",
        "# This automatically adds the movie nodes to the graph.\n",
        "for pair in tqdm(\n",
        "    pair_frequency, position=0, leave=True, desc=\"Creating the movie graph\"\n",
        "):\n",
        "    x, y = pair\n",
        "    xy_frequency = pair_frequency[pair]\n",
        "    x_frequency = item_frequency[x]\n",
        "    y_frequency = item_frequency[y]\n",
        "    pmi = math.log(xy_frequency) - math.log(x_frequency) - math.log(y_frequency) + D\n",
        "    weight = pmi * xy_frequency\n",
        "    # Only include edges with weight >= min_weight.\n",
        "    if weight >= min_weight:\n",
        "        movies_graph.add_edge(x, y, weight=weight)"
      ]
    },
    {
      "cell_type": "markdown",
      "metadata": {
        "id": "tmdxukPgMV3d"
      },
      "source": [
        "Let's display the total number of nodes and edges in the graph.\n",
        "Note that the number of nodes is less than the total number of movies,\n",
        "since only the movies that have edges to other movies are added."
      ]
    },
    {
      "cell_type": "code",
      "execution_count": 10,
      "metadata": {
        "id": "i2mLuJOtMV3d",
        "outputId": "3833ecb9-9a46-46ba-d79b-c14813a1d373",
        "colab": {
          "base_uri": "https://localhost:8080/"
        }
      },
      "outputs": [
        {
          "output_type": "stream",
          "name": "stdout",
          "text": [
            "Total number of graph nodes: 1405\n",
            "Total number of graph edges: 40043\n"
          ]
        }
      ],
      "source": [
        "print(\"Total number of graph nodes:\", movies_graph.number_of_nodes())\n",
        "print(\"Total number of graph edges:\", movies_graph.number_of_edges())"
      ]
    },
    {
      "cell_type": "markdown",
      "metadata": {
        "id": "X5P-d1giMV3d"
      },
      "source": [
        "Let's display the average node degree (number of neighbours) in the graph."
      ]
    },
    {
      "cell_type": "code",
      "execution_count": 11,
      "metadata": {
        "id": "z_5YVLF2MV3d",
        "outputId": "023c4980-82f7-4198-fe8b-c4f53eee0b31",
        "colab": {
          "base_uri": "https://localhost:8080/"
        }
      },
      "outputs": [
        {
          "output_type": "stream",
          "name": "stdout",
          "text": [
            "Average node degree: 57.0\n"
          ]
        }
      ],
      "source": [
        "degrees = []\n",
        "for node in movies_graph.nodes:\n",
        "    degrees.append(movies_graph.degree[node])\n",
        "\n",
        "print(\"Average node degree:\", round(sum(degrees) / len(degrees), 2))"
      ]
    },
    {
      "cell_type": "markdown",
      "metadata": {
        "id": "wUztOz90MV3d"
      },
      "source": [
        "### Step 3: Create vocabulary and a mapping from tokens to integer indices\n",
        "\n",
        "The vocabulary is the nodes (movie IDs) in the graph."
      ]
    },
    {
      "cell_type": "code",
      "execution_count": 12,
      "metadata": {
        "id": "wMyDXQkRMV3d"
      },
      "outputs": [],
      "source": [
        "vocabulary = [\"NA\"] + list(movies_graph.nodes)\n",
        "vocabulary_lookup = {token: idx for idx, token in enumerate(vocabulary)}"
      ]
    },
    {
      "cell_type": "markdown",
      "metadata": {
        "id": "PKiQJKSbMV3e"
      },
      "source": [
        "## Implement the biased random walk\n",
        "\n",
        "A random walk starts from a given node, and randomly picks a neighbour node to move to.\n",
        "If the edges are weighted, the neighbour is selected *probabilistically* with\n",
        "respect to weights of the edges between the current node and its neighbours.\n",
        "This procedure is repeated for `num_steps` to generate a sequence of *related* nodes.\n",
        "\n",
        "The [*biased* random walk](https://en.wikipedia.org/wiki/Biased_random_walk_on_a_graph) balances between **breadth-first sampling**\n",
        "(where only local neighbours are visited) and **depth-first sampling**\n",
        "(where  distant neighbours are visited) by introducing the following two parameters:\n",
        "\n",
        "1. **Return parameter** (`p`): Controls the likelihood of immediately revisiting\n",
        "a node in the walk. Setting it to a high value encourages moderate exploration,\n",
        "while setting it to a low value would keep the walk local.\n",
        "2. **In-out parameter** (`q`): Allows the search to differentiate\n",
        "between *inward* and *outward* nodes. Setting it to a high value biases the\n",
        "random walk towards local nodes, while setting it to a low value biases the walk\n",
        "to visit nodes which are further away."
      ]
    },
    {
      "cell_type": "code",
      "execution_count": 13,
      "metadata": {
        "id": "aJHkigKoMV3e"
      },
      "outputs": [],
      "source": [
        "\n",
        "def next_step(graph, previous, current, p, q):\n",
        "    neighbors = list(graph.neighbors(current))\n",
        "\n",
        "    weights = []\n",
        "    # Adjust the weights of the edges to the neighbors with respect to p and q.\n",
        "    for neighbor in neighbors:\n",
        "        if neighbor == previous:\n",
        "            # Control the probability to return to the previous node.\n",
        "            weights.append(graph[current][neighbor][\"weight\"] / p)\n",
        "        elif graph.has_edge(neighbor, previous):\n",
        "            # The probability of visiting a local node.\n",
        "            weights.append(graph[current][neighbor][\"weight\"])\n",
        "        else:\n",
        "            # Control the probability to move forward.\n",
        "            weights.append(graph[current][neighbor][\"weight\"] / q)\n",
        "\n",
        "    # Compute the probabilities of visiting each neighbor.\n",
        "    weight_sum = sum(weights)\n",
        "    probabilities = [weight / weight_sum for weight in weights]\n",
        "    # Probabilistically select a neighbor to visit.\n",
        "    next = np.random.choice(neighbors, size=1, p=probabilities)[0]\n",
        "    return next\n",
        "\n",
        "\n",
        "def random_walk(graph, num_walks, num_steps, p, q):\n",
        "    walks = []\n",
        "    nodes = list(graph.nodes())\n",
        "    # Perform multiple iterations of the random walk.\n",
        "    for walk_iteration in range(num_walks):\n",
        "        random.shuffle(nodes)\n",
        "\n",
        "        for node in tqdm(\n",
        "            nodes,\n",
        "            position=0,\n",
        "            leave=True,\n",
        "            desc=f\"Random walks iteration {walk_iteration + 1} of {num_walks}\",\n",
        "        ):\n",
        "            # Start the walk with a random node from the graph.\n",
        "            walk = [node]\n",
        "            # Randomly walk for num_steps.\n",
        "            while len(walk) < num_steps:\n",
        "                current = walk[-1]\n",
        "                previous = walk[-2] if len(walk) > 1 else None\n",
        "                # Compute the next node to visit.\n",
        "                next = next_step(graph, previous, current, p, q)\n",
        "                walk.append(next)\n",
        "            # Replace node ids (movie ids) in the walk with token ids.\n",
        "            walk = [vocabulary_lookup[token] for token in walk]\n",
        "            # Add the walk to the generated sequence.\n",
        "            walks.append(walk)\n",
        "\n",
        "    return walks\n"
      ]
    },
    {
      "cell_type": "markdown",
      "metadata": {
        "id": "bmsLs_VeMV3e"
      },
      "source": [
        "## Generate training data using the biased random walk\n",
        "\n",
        "You can explore different configurations of `p` and `q` to different results of\n",
        "related movies."
      ]
    },
    {
      "cell_type": "code",
      "execution_count": 14,
      "metadata": {
        "id": "m4PdbHkRMV3e",
        "outputId": "3722c1c7-92ad-4cc0-cc92-c5bdf37fd37c",
        "colab": {
          "base_uri": "https://localhost:8080/"
        }
      },
      "outputs": [
        {
          "output_type": "stream",
          "name": "stderr",
          "text": [
            "Random walks iteration 1 of 5: 100%|██████████| 1405/1405 [00:15<00:00, 92.08it/s]\n",
            "Random walks iteration 2 of 5: 100%|██████████| 1405/1405 [00:18<00:00, 77.16it/s]\n",
            "Random walks iteration 3 of 5: 100%|██████████| 1405/1405 [00:08<00:00, 170.44it/s]\n",
            "Random walks iteration 4 of 5: 100%|██████████| 1405/1405 [00:07<00:00, 186.23it/s]\n",
            "Random walks iteration 5 of 5: 100%|██████████| 1405/1405 [00:12<00:00, 115.14it/s]"
          ]
        },
        {
          "output_type": "stream",
          "name": "stdout",
          "text": [
            "Number of walks generated: 7025\n"
          ]
        },
        {
          "output_type": "stream",
          "name": "stderr",
          "text": [
            "\n"
          ]
        }
      ],
      "source": [
        "# Random walk return parameter.\n",
        "p = 1\n",
        "# Random walk in-out parameter.\n",
        "q = 1\n",
        "# Number of iterations of random walks.\n",
        "num_walks = 5\n",
        "# Number of steps of each random walk.\n",
        "num_steps = 10\n",
        "walks = random_walk(movies_graph, num_walks, num_steps, p, q)\n",
        "\n",
        "print(\"Number of walks generated:\", len(walks))"
      ]
    },
    {
      "cell_type": "markdown",
      "metadata": {
        "id": "lZXu2rMPMV3e"
      },
      "source": [
        "## Generate positive and negative examples\n",
        "\n",
        "To train a skip-gram model, we use the generated walks to create positive and\n",
        "negative training examples. Each example includes the following features:\n",
        "\n",
        "1. `target`: A movie in a walk sequence.\n",
        "2. `context`: Another movie in a walk sequence.\n",
        "3. `weight`: How many times these two movies occured in walk sequences.\n",
        "4. `label`: The label is 1 if these two movies are samples from the walk sequences,\n",
        "otherwise (i.e., if randomly sampled) the label is 0."
      ]
    },
    {
      "cell_type": "markdown",
      "metadata": {
        "id": "_ZgucR4aMV3f"
      },
      "source": [
        "### Generate examples"
      ]
    },
    {
      "cell_type": "code",
      "execution_count": 15,
      "metadata": {
        "id": "X5udUmq1MV3f",
        "outputId": "2e5ad6a6-f714-4ad9-8073-012f22d06b19",
        "colab": {
          "base_uri": "https://localhost:8080/"
        }
      },
      "outputs": [
        {
          "output_type": "stream",
          "name": "stderr",
          "text": [
            "Generating postive and negative examples: 100%|██████████| 7025/7025 [00:17<00:00, 410.65it/s]\n"
          ]
        }
      ],
      "source": [
        "\n",
        "def generate_examples(sequences, window_size, num_negative_samples, vocabulary_size):\n",
        "    example_weights = defaultdict(int)\n",
        "    # Iterate over all sequences (walks).\n",
        "    for sequence in tqdm(\n",
        "        sequences,\n",
        "        position=0,\n",
        "        leave=True,\n",
        "        desc=f\"Generating postive and negative examples\",\n",
        "    ):\n",
        "        # Generate positive and negative skip-gram pairs for a sequence (walk).\n",
        "        pairs, labels = keras.preprocessing.sequence.skipgrams(\n",
        "            sequence,\n",
        "            vocabulary_size=vocabulary_size,\n",
        "            window_size=window_size,\n",
        "            negative_samples=num_negative_samples,\n",
        "        )\n",
        "        for idx in range(len(pairs)):\n",
        "            pair = pairs[idx]\n",
        "            label = labels[idx]\n",
        "            target, context = min(pair[0], pair[1]), max(pair[0], pair[1])\n",
        "            if target == context:\n",
        "                continue\n",
        "            entry = (target, context, label)\n",
        "            example_weights[entry] += 1\n",
        "\n",
        "    targets, contexts, labels, weights = [], [], [], []\n",
        "    for entry in example_weights:\n",
        "        weight = example_weights[entry]\n",
        "        target, context, label = entry\n",
        "        targets.append(target)\n",
        "        contexts.append(context)\n",
        "        labels.append(label)\n",
        "        weights.append(weight)\n",
        "\n",
        "    return np.array(targets), np.array(contexts), np.array(labels), np.array(weights)\n",
        "\n",
        "\n",
        "num_negative_samples = 4\n",
        "targets, contexts, labels, weights = generate_examples(\n",
        "    sequences=walks,\n",
        "    window_size=num_steps,\n",
        "    num_negative_samples=num_negative_samples,\n",
        "    vocabulary_size=len(vocabulary),\n",
        ")"
      ]
    },
    {
      "cell_type": "markdown",
      "metadata": {
        "id": "gH5TkukYMV3f"
      },
      "source": [
        "Let's display the shapes of the outputs"
      ]
    },
    {
      "cell_type": "code",
      "execution_count": 16,
      "metadata": {
        "id": "9MF_gCLTMV3f",
        "outputId": "931da5e2-f345-4d53-e9b1-89abb506d818",
        "colab": {
          "base_uri": "https://localhost:8080/"
        }
      },
      "outputs": [
        {
          "output_type": "stream",
          "name": "stdout",
          "text": [
            "Targets shape: (882045,)\n",
            "Contexts shape: (882045,)\n",
            "Labels shape: (882045,)\n",
            "Weights shape: (882045,)\n"
          ]
        }
      ],
      "source": [
        "print(f\"Targets shape: {targets.shape}\")\n",
        "print(f\"Contexts shape: {contexts.shape}\")\n",
        "print(f\"Labels shape: {labels.shape}\")\n",
        "print(f\"Weights shape: {weights.shape}\")"
      ]
    },
    {
      "cell_type": "markdown",
      "metadata": {
        "id": "nNPz9RUjMV3f"
      },
      "source": [
        "### Convert the data into `tf.data.Dataset` objects"
      ]
    },
    {
      "cell_type": "code",
      "execution_count": 17,
      "metadata": {
        "id": "IwkvGDDCMV3f"
      },
      "outputs": [],
      "source": [
        "batch_size = 1024\n",
        "\n",
        "\n",
        "def create_dataset(targets, contexts, labels, weights, batch_size):\n",
        "    inputs = {\n",
        "        \"target\": targets,\n",
        "        \"context\": contexts,\n",
        "    }\n",
        "    dataset = tf.data.Dataset.from_tensor_slices((inputs, labels, weights))\n",
        "    dataset = dataset.shuffle(buffer_size=batch_size * 2)\n",
        "    dataset = dataset.batch(batch_size, drop_remainder=True)\n",
        "    dataset = dataset.prefetch(tf.data.AUTOTUNE)\n",
        "    return dataset\n",
        "\n",
        "\n",
        "dataset = create_dataset(\n",
        "    targets=targets,\n",
        "    contexts=contexts,\n",
        "    labels=labels,\n",
        "    weights=weights,\n",
        "    batch_size=batch_size,\n",
        ")"
      ]
    },
    {
      "cell_type": "markdown",
      "metadata": {
        "id": "HU_MdODdMV3f"
      },
      "source": [
        "## Train the skip-gram model\n",
        "\n",
        "Our skip-gram is a simple binary classification model that works as follows:\n",
        "\n",
        "1. An embedding is looked up for the `target` movie.\n",
        "2. An embedding is looked up for the `context` movie.\n",
        "3. The dot product is computed between these two embeddings.\n",
        "4. The result (after a sigmoid activation) is compared to the label.\n",
        "5. A binary crossentropy loss is used."
      ]
    },
    {
      "cell_type": "code",
      "execution_count": 18,
      "metadata": {
        "id": "bpChe4hlMV3g"
      },
      "outputs": [],
      "source": [
        "learning_rate = 0.001\n",
        "embedding_dim = 50\n",
        "num_epochs = 10"
      ]
    },
    {
      "cell_type": "markdown",
      "metadata": {
        "id": "OOBP8J6FMV3g"
      },
      "source": [
        "### Implement the model"
      ]
    },
    {
      "cell_type": "code",
      "execution_count": 19,
      "metadata": {
        "id": "RPUEDOTwMV3g"
      },
      "outputs": [],
      "source": [
        "\n",
        "def create_model(vocabulary_size, embedding_dim):\n",
        "\n",
        "    inputs = {\n",
        "        \"target\": layers.Input(name=\"target\", shape=(), dtype=\"int32\"),\n",
        "        \"context\": layers.Input(name=\"context\", shape=(), dtype=\"int32\"),\n",
        "    }\n",
        "    # Initialize item embeddings.\n",
        "    embed_item = layers.Embedding(\n",
        "        input_dim=vocabulary_size,\n",
        "        output_dim=embedding_dim,\n",
        "        embeddings_initializer=\"he_normal\",\n",
        "        embeddings_regularizer=keras.regularizers.l2(1e-6),\n",
        "        name=\"item_embeddings\",\n",
        "    )\n",
        "    # Lookup embeddings for target.\n",
        "    target_embeddings = embed_item(inputs[\"target\"])\n",
        "    # Lookup embeddings for context.\n",
        "    context_embeddings = embed_item(inputs[\"context\"])\n",
        "    # Compute dot similarity between target and context embeddings.\n",
        "    logits = layers.Dot(axes=1, normalize=False, name=\"dot_similarity\")(\n",
        "        [target_embeddings, context_embeddings]\n",
        "    )\n",
        "    # Create the model.\n",
        "    model = keras.Model(inputs=inputs, outputs=logits)\n",
        "    return model\n"
      ]
    },
    {
      "cell_type": "markdown",
      "metadata": {
        "id": "vXuGUWKwMV3g"
      },
      "source": [
        "### Train the model"
      ]
    },
    {
      "cell_type": "markdown",
      "metadata": {
        "id": "WE54jlETMV3g"
      },
      "source": [
        "We instantiate the model and compile it."
      ]
    },
    {
      "cell_type": "code",
      "execution_count": 20,
      "metadata": {
        "id": "UP3VBACxMV3g"
      },
      "outputs": [],
      "source": [
        "model = create_model(len(vocabulary), embedding_dim)\n",
        "model.compile(\n",
        "    optimizer=keras.optimizers.Adam(learning_rate),\n",
        "    loss=keras.losses.BinaryCrossentropy(from_logits=True),\n",
        ")"
      ]
    },
    {
      "cell_type": "markdown",
      "metadata": {
        "id": "maflGh-gMV3g"
      },
      "source": [
        "Let's plot the model."
      ]
    },
    {
      "cell_type": "code",
      "execution_count": 21,
      "metadata": {
        "id": "MVymnR3HMV3g",
        "outputId": "70d9c7c4-f1e2-4f82-def6-e4d4654d229e",
        "colab": {
          "base_uri": "https://localhost:8080/",
          "height": 404
        }
      },
      "outputs": [
        {
          "output_type": "execute_result",
          "data": {
            "text/plain": [
              "<IPython.core.display.Image object>"
            ],
            "image/png": "[encoded data removed]"
          },
          "metadata": {},
          "execution_count": 21
        }
      ],
      "source": [
        "keras.utils.plot_model(\n",
        "    model, show_shapes=True, show_dtype=True, show_layer_names=True,\n",
        ")"
      ]
    },
    {
      "cell_type": "markdown",
      "metadata": {
        "id": "RSYYkmjrMV3h"
      },
      "source": [
        "Now we train the model on the `dataset`."
      ]
    },
    {
      "cell_type": "code",
      "execution_count": 22,
      "metadata": {
        "id": "lBAdzJ8UMV3h",
        "outputId": "6868f420-6257-48fc-9b72-911c6e74f9e1",
        "colab": {
          "base_uri": "https://localhost:8080/"
        }
      },
      "outputs": [
        {
          "output_type": "stream",
          "name": "stdout",
          "text": [
            "Epoch 1/10\n",
            "861/861 [==============================] - 5s 5ms/step - loss: 2.4491\n",
            "Epoch 2/10\n",
            "861/861 [==============================] - 5s 5ms/step - loss: 2.3408\n",
            "Epoch 3/10\n",
            "861/861 [==============================] - 5s 5ms/step - loss: 2.3338\n",
            "Epoch 4/10\n",
            "861/861 [==============================] - 5s 6ms/step - loss: 2.3300\n",
            "Epoch 5/10\n",
            "861/861 [==============================] - 5s 6ms/step - loss: 2.3257\n",
            "Epoch 6/10\n",
            "861/861 [==============================] - 8s 10ms/step - loss: 2.3215\n",
            "Epoch 7/10\n",
            "861/861 [==============================] - 5s 6ms/step - loss: 2.3180\n",
            "Epoch 8/10\n",
            "861/861 [==============================] - 6s 7ms/step - loss: 2.3151\n",
            "Epoch 9/10\n",
            "861/861 [==============================] - 7s 9ms/step - loss: 2.3125\n",
            "Epoch 10/10\n",
            "861/861 [==============================] - 9s 10ms/step - loss: 2.3100\n"
          ]
        }
      ],
      "source": [
        "history = model.fit(dataset, epochs=num_epochs)"
      ]
    },
    {
      "cell_type": "markdown",
      "metadata": {
        "id": "U4gbXw_dMV3h"
      },
      "source": [
        "Finally we plot the learning history."
      ]
    },
    {
      "cell_type": "code",
      "execution_count": 23,
      "metadata": {
        "id": "HyDs1KhgMV3h",
        "outputId": "081b510f-08e9-4ae8-82ab-c7f3e985d13f",
        "colab": {
          "base_uri": "https://localhost:8080/",
          "height": 279
        }
      },
      "outputs": [
        {
          "output_type": "display_data",
          "data": {
            "text/plain": [
              "<Figure size 432x288 with 1 Axes>"
            ],
            "image/png": "[encoded data removed]"
          },
          "metadata": {
            "needs_background": "light"
          }
        }
      ],
      "source": [
        "plt.plot(history.history[\"loss\"])\n",
        "plt.ylabel(\"loss\")\n",
        "plt.xlabel(\"epoch\")\n",
        "plt.show()"
      ]
    },
    {
      "cell_type": "markdown",
      "metadata": {
        "id": "x07tXmmuMV3h"
      },
      "source": [
        "## Analyze the learnt embeddings."
      ]
    },
    {
      "cell_type": "code",
      "execution_count": 24,
      "metadata": {
        "id": "I7cnQxolMV3h",
        "outputId": "caeba8c3-a2ce-42a2-9825-fa8adcb5673d",
        "colab": {
          "base_uri": "https://localhost:8080/"
        }
      },
      "outputs": [
        {
          "output_type": "stream",
          "name": "stdout",
          "text": [
            "Embeddings shape: (1406, 50)\n"
          ]
        }
      ],
      "source": [
        "movie_embeddings = model.get_layer(\"item_embeddings\").get_weights()[0]\n",
        "print(\"Embeddings shape:\", movie_embeddings.shape)"
      ]
    },
    {
      "cell_type": "markdown",
      "metadata": {
        "id": "mpqFx9k2MV3h"
      },
      "source": [
        "### Find related movies\n",
        "\n",
        "Define a list with some movies called `query_movies`."
      ]
    },
    {
      "cell_type": "code",
      "execution_count": 25,
      "metadata": {
        "id": "BU6GbEEQMV3h"
      },
      "outputs": [],
      "source": [
        "query_movies = [\n",
        "    \"Matrix, The (1999)\",\n",
        "    \"Star Wars: Episode IV - A New Hope (1977)\",\n",
        "    \"Lion King, The (1994)\",\n",
        "    \"Terminator 2: Judgment Day (1991)\",\n",
        "    \"Godfather, The (1972)\",\n",
        "]"
      ]
    },
    {
      "cell_type": "markdown",
      "metadata": {
        "id": "_HyZjv5qMV3h"
      },
      "source": [
        "Get the embeddings of the movies in `query_movies`."
      ]
    },
    {
      "cell_type": "code",
      "execution_count": 26,
      "metadata": {
        "id": "WQTysF9nMV3i"
      },
      "outputs": [],
      "source": [
        "query_embeddings = []\n",
        "\n",
        "for movie_title in query_movies:\n",
        "    movieId = get_movie_id_by_title(movie_title)\n",
        "    token_id = vocabulary_lookup[movieId]\n",
        "    movie_embedding = movie_embeddings[token_id]\n",
        "    query_embeddings.append(movie_embedding)\n",
        "\n",
        "query_embeddings = np.array(query_embeddings)"
      ]
    },
    {
      "cell_type": "markdown",
      "metadata": {
        "id": "NV-26_frMV3i"
      },
      "source": [
        "Compute the [consine similarity](https://en.wikipedia.org/wiki/Cosine_similarity) between the embeddings of `query_movies`\n",
        "and all the other movies, then pick the top k for each."
      ]
    },
    {
      "cell_type": "code",
      "execution_count": 27,
      "metadata": {
        "id": "5CyTlCR9MV3i"
      },
      "outputs": [],
      "source": [
        "similarities = tf.linalg.matmul(\n",
        "    tf.math.l2_normalize(query_embeddings),\n",
        "    tf.math.l2_normalize(movie_embeddings),\n",
        "    transpose_b=True,\n",
        ")\n",
        "\n",
        "_, indices = tf.math.top_k(similarities, k=5)\n",
        "indices = indices.numpy().tolist()"
      ]
    },
    {
      "cell_type": "markdown",
      "metadata": {
        "id": "hY3vHQuaMV3i"
      },
      "source": [
        "Display the top related movies in `query_movies`."
      ]
    },
    {
      "cell_type": "code",
      "execution_count": 28,
      "metadata": {
        "id": "26bPLn0YMV3i",
        "outputId": "27fe9281-63d8-4e67-9ed9-87fb49823da0",
        "colab": {
          "base_uri": "https://localhost:8080/"
        }
      },
      "outputs": [
        {
          "output_type": "stream",
          "name": "stdout",
          "text": [
            "Matrix, The (1999)\n",
            "------------------\n",
            "- Matrix, The (1999)\n",
            "- Dark Knight, The (2008)\n",
            "- Lord of the Rings: The Fellowship of the Ring, The (2001)\n",
            "- Star Wars: Episode IV - A New Hope (1977)\n",
            "- Fight Club (1999)\n",
            "\n",
            "Star Wars: Episode IV - A New Hope (1977)\n",
            "-----------------------------------------\n",
            "- Star Wars: Episode IV - A New Hope (1977)\n",
            "- Raiders of the Lost Ark (Indiana Jones and the Raiders of the Lost Ark) (1981)\n",
            "- Matrix, The (1999)\n",
            "- Lord of the Rings: The Fellowship of the Ring, The (2001)\n",
            "- Braveheart (1995)\n",
            "\n",
            "Lion King, The (1994)\n",
            "---------------------\n",
            "- Lion King, The (1994)\n",
            "- Apollo 13 (1995)\n",
            "- Ghost (1990)\n",
            "- Beauty and the Beast (1991)\n",
            "- Braveheart (1995)\n",
            "\n",
            "Terminator 2: Judgment Day (1991)\n",
            "---------------------------------\n",
            "- Braveheart (1995)\n",
            "- Terminator 2: Judgment Day (1991)\n",
            "- Forrest Gump (1994)\n",
            "- Star Wars: Episode IV - A New Hope (1977)\n",
            "- Matrix, The (1999)\n",
            "\n",
            "Godfather, The (1972)\n",
            "---------------------\n",
            "- Godfather, The (1972)\n",
            "- Rear Window (1954)\n",
            "- Star Wars: Episode IV - A New Hope (1977)\n",
            "- Casablanca (1942)\n",
            "- Fargo (1996)\n",
            "\n"
          ]
        }
      ],
      "source": [
        "for idx, title in enumerate(query_movies):\n",
        "    print(title)\n",
        "    print(\"\".rjust(len(title), \"-\"))\n",
        "    similar_tokens = indices[idx]\n",
        "    for token in similar_tokens:\n",
        "        similar_movieId = vocabulary[token]\n",
        "        similar_title = get_movie_title_by_id(similar_movieId)\n",
        "        print(f\"- {similar_title}\")\n",
        "    print()"
      ]
    },
    {
      "cell_type": "markdown",
      "metadata": {
        "id": "zlMgla1aMV3i"
      },
      "source": [
        "### Visualize the embeddings using the Embedding Projector"
      ]
    },
    {
      "cell_type": "code",
      "execution_count": 29,
      "metadata": {
        "id": "hD0-HqFnMV3j"
      },
      "outputs": [],
      "source": [
        "import io\n",
        "\n",
        "out_v = io.open(\"embeddings.tsv\", \"w\", encoding=\"utf-8\")\n",
        "out_m = io.open(\"metadata.tsv\", \"w\", encoding=\"utf-8\")\n",
        "\n",
        "for idx, movie_id in enumerate(vocabulary[1:]):\n",
        "    movie_title = list(movies[movies.movieId == movie_id].title)[0]\n",
        "    vector = movie_embeddings[idx]\n",
        "    out_v.write(\"\\t\".join([str(x) for x in vector]) + \"\\n\")\n",
        "    out_m.write(movie_title + \"\\n\")\n",
        "\n",
        "out_v.close()\n",
        "out_m.close()"
      ]
    },
    {
      "cell_type": "markdown",
      "metadata": {
        "id": "P9jtO9FmMV3j"
      },
      "source": [
        "Download the `embeddings.tsv` and `metadata.tsv` to analyze the obtained embeddings\n",
        "in the [Embedding Projector](https://projector.tensorflow.org/)."
      ]
    }
  ],
  "metadata": {
    "colab": {
      "collapsed_sections": [],
      "name": "node2vec_movielens",
      "provenance": [],
      "include_colab_link": true
    },
    "kernelspec": {
      "display_name": "Python 3",
      "language": "python",
      "name": "python3"
    },
    "language_info": {
      "codemirror_mode": {
        "name": "ipython",
        "version": 3
      },
      "file_extension": ".py",
      "mimetype": "text/x-python",
      "name": "python",
      "nbconvert_exporter": "python",
      "pygments_lexer": "ipython3",
      "version": "3.7.0"
    }
  },
  "nbformat": 4,
  "nbformat_minor": 0
}