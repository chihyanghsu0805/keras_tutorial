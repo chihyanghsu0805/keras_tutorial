{
  "cells": [
    {
      "cell_type": "markdown",
      "metadata": {
        "id": "view-in-github",
        "colab_type": "text"
      },
      "source": [
        "<a href=\"https://colab.research.google.com/github/chihyanghsu0805/machine_learning/blob/tutorials/tutorials/keras/graph_representation_learning/node2vec.ipynb\" target=\"_parent\"><img src=\"https://colab.research.google.com/assets/colab-badge.svg\" alt=\"Open In Colab\"/></a>"
      ]
    },
    {
      "cell_type": "markdown",
      "source": [
        "# Import Libraries and Install packages"
      ],
      "metadata": {
        "id": "MKWSWxNTNeaQ"
      }
    },
    {
      "cell_type": "code",
      "source": [
        "pip install networkx"
      ],
      "metadata": {
        "id": "uSTIOr_dNKgs",
        "outputId": "a133f3be-688f-4bc2-96d6-512819f360e2",
        "colab": {
          "base_uri": "https://localhost:8080/"
        }
      },
      "execution_count": 1,
      "outputs": [
        {
          "output_type": "stream",
          "name": "stdout",
          "text": [
            "Requirement already satisfied: networkx in /usr/local/lib/python3.7/dist-packages (2.6.3)\n"
          ]
        }
      ]
    },
    {
      "cell_type": "code",
      "execution_count": 2,
      "metadata": {
        "id": "A6Wb-GoGMV3X"
      },
      "outputs": [],
      "source": [
        "import os\n",
        "from collections import defaultdict\n",
        "import math\n",
        "import networkx as nx\n",
        "import random\n",
        "from tqdm import tqdm\n",
        "from zipfile import ZipFile\n",
        "from urllib.request import urlretrieve\n",
        "import numpy as np\n",
        "import pandas as pd\n",
        "import tensorflow as tf\n",
        "from tensorflow import keras\n",
        "from tensorflow.keras import layers\n",
        "import matplotlib.pyplot as plt"
      ]
    },
    {
      "cell_type": "code",
      "execution_count": 3,
      "metadata": {
        "id": "MVKlI7p3MV3Z"
      },
      "outputs": [],
      "source": [
        "urlretrieve(\n",
        "    \"http://files.grouplens.org/datasets/movielens/ml-latest-small.zip\",\n",
        "    \"movielens.zip\"\n",
        ")\n",
        "ZipFile(\"movielens.zip\", \"r\").extractall()"
      ]
    },
    {
      "cell_type": "markdown",
      "source": [
        "# Exploratory Data Analysis"
      ],
      "metadata": {
        "id": "7LtBLNuBNrXs"
      }
    },
    {
      "cell_type": "code",
      "source": [
        "movies = pd.read_csv(\"ml-latest-small/movies.csv\")\n",
        "ratings = pd.read_csv(\"ml-latest-small/ratings.csv\")\n",
        "\n",
        "print(f\"Movies data shape: {movies.shape}\")\n",
        "print(f\"Ratings data shape: {ratings.shape}\")"
      ],
      "metadata": {
        "id": "swEjIbLyN7-q",
        "outputId": "dd579f9a-d141-4521-f1a1-a467462abe39",
        "colab": {
          "base_uri": "https://localhost:8080/"
        }
      },
      "execution_count": 4,
      "outputs": [
        {
          "output_type": "stream",
          "name": "stdout",
          "text": [
            "Movies data shape: (9742, 3)\n",
            "Ratings data shape: (100836, 4)\n"
          ]
        }
      ]
    },
    {
      "cell_type": "code",
      "source": [
        "# Rows are movies, columns are [Id, title, genres]\n",
        "movies.head()"
      ],
      "metadata": {
        "id": "DGx5i2aEPMzv",
        "outputId": "78fed232-55d6-46c1-8519-0e87983ddcda",
        "colab": {
          "base_uri": "https://localhost:8080/",
          "height": 206
        }
      },
      "execution_count": 5,
      "outputs": [
        {
          "output_type": "execute_result",
          "data": {
            "text/plain": [
              "   movieId                               title  \\\n",
              "0        1                    Toy Story (1995)   \n",
              "1        2                      Jumanji (1995)   \n",
              "2        3             Grumpier Old Men (1995)   \n",
              "3        4            Waiting to Exhale (1995)   \n",
              "4        5  Father of the Bride Part II (1995)   \n",
              "\n",
              "                                        genres  \n",
              "0  Adventure|Animation|Children|Comedy|Fantasy  \n",
              "1                   Adventure|Children|Fantasy  \n",
              "2                               Comedy|Romance  \n",
              "3                         Comedy|Drama|Romance  \n",
              "4                                       Comedy  "
            ],
            "text/html": [
              "\n",
              "  <div id=\"df-f3e56336-12f0-4836-bde7-5b58b8b81b11\">\n",
              "    <div class=\"colab-df-container\">\n",
              "      <div>\n",
              "<style scoped>\n",
              "    .dataframe tbody tr th:only-of-type {\n",
              "        vertical-align: middle;\n",
              "    }\n",
              "\n",
              "    .dataframe tbody tr th {\n",
              "        vertical-align: top;\n",
              "    }\n",
              "\n",
              "    .dataframe thead th {\n",
              "        text-align: right;\n",
              "    }\n",
              "</style>\n",
              "<table border=\"1\" class=\"dataframe\">\n",
              "  <thead>\n",
              "    <tr style=\"text-align: right;\">\n",
              "      <th></th>\n",
              "      <th>movieId</th>\n",
              "      <th>title</th>\n",
              "      <th>genres</th>\n",
              "    </tr>\n",
              "  </thead>\n",
              "  <tbody>\n",
              "    <tr>\n",
              "      <th>0</th>\n",
              "      <td>1</td>\n",
              "      <td>Toy Story (1995)</td>\n",
              "      <td>Adventure|Animation|Children|Comedy|Fantasy</td>\n",
              "    </tr>\n",
              "    <tr>\n",
              "      <th>1</th>\n",
              "      <td>2</td>\n",
              "      <td>Jumanji (1995)</td>\n",
              "      <td>Adventure|Children|Fantasy</td>\n",
              "    </tr>\n",
              "    <tr>\n",
              "      <th>2</th>\n",
              "      <td>3</td>\n",
              "      <td>Grumpier Old Men (1995)</td>\n",
              "      <td>Comedy|Romance</td>\n",
              "    </tr>\n",
              "    <tr>\n",
              "      <th>3</th>\n",
              "      <td>4</td>\n",
              "      <td>Waiting to Exhale (1995)</td>\n",
              "      <td>Comedy|Drama|Romance</td>\n",
              "    </tr>\n",
              "    <tr>\n",
              "      <th>4</th>\n",
              "      <td>5</td>\n",
              "      <td>Father of the Bride Part II (1995)</td>\n",
              "      <td>Comedy</td>\n",
              "    </tr>\n",
              "  </tbody>\n",
              "</table>\n",
              "</div>\n",
              "      <button class=\"colab-df-convert\" onclick=\"convertToInteractive('df-f3e56336-12f0-4836-bde7-5b58b8b81b11')\"\n",
              "              title=\"Convert this dataframe to an interactive table.\"\n",
              "              style=\"display:none;\">\n",
              "        \n",
              "  <svg xmlns=\"http://www.w3.org/2000/svg\" height=\"24px\"viewBox=\"0 0 24 24\"\n",
              "       width=\"24px\">\n",
              "    <path d=\"M0 0h24v24H0V0z\" fill=\"none\"/>\n",
              "    <path d=\"M18.56 5.44l.94 2.06.94-2.06 2.06-.94-2.06-.94-.94-2.06-.94 2.06-2.06.94zm-11 1L8.5 8.5l.94-2.06 2.06-.94-2.06-.94L8.5 2.5l-.94 2.06-2.06.94zm10 10l.94 2.06.94-2.06 2.06-.94-2.06-.94-.94-2.06-.94 2.06-2.06.94z\"/><path d=\"M17.41 7.96l-1.37-1.37c-.4-.4-.92-.59-1.43-.59-.52 0-1.04.2-1.43.59L10.3 9.45l-7.72 7.72c-.78.78-.78 2.05 0 2.83L4 21.41c.39.39.9.59 1.41.59.51 0 1.02-.2 1.41-.59l7.78-7.78 2.81-2.81c.8-.78.8-2.07 0-2.86zM5.41 20L4 18.59l7.72-7.72 1.47 1.35L5.41 20z\"/>\n",
              "  </svg>\n",
              "      </button>\n",
              "      \n",
              "  <style>\n",
              "    .colab-df-container {\n",
              "      display:flex;\n",
              "      flex-wrap:wrap;\n",
              "      gap: 12px;\n",
              "    }\n",
              "\n",
              "    .colab-df-convert {\n",
              "      background-color: #E8F0FE;\n",
              "      border: none;\n",
              "      border-radius: 50%;\n",
              "      cursor: pointer;\n",
              "      display: none;\n",
              "      fill: #1967D2;\n",
              "      height: 32px;\n",
              "      padding: 0 0 0 0;\n",
              "      width: 32px;\n",
              "    }\n",
              "\n",
              "    .colab-df-convert:hover {\n",
              "      background-color: #E2EBFA;\n",
              "      box-shadow: 0px 1px 2px rgba(60, 64, 67, 0.3), 0px 1px 3px 1px rgba(60, 64, 67, 0.15);\n",
              "      fill: #174EA6;\n",
              "    }\n",
              "\n",
              "    [theme=dark] .colab-df-convert {\n",
              "      background-color: #3B4455;\n",
              "      fill: #D2E3FC;\n",
              "    }\n",
              "\n",
              "    [theme=dark] .colab-df-convert:hover {\n",
              "      background-color: #434B5C;\n",
              "      box-shadow: 0px 1px 3px 1px rgba(0, 0, 0, 0.15);\n",
              "      filter: drop-shadow(0px 1px 2px rgba(0, 0, 0, 0.3));\n",
              "      fill: #FFFFFF;\n",
              "    }\n",
              "  </style>\n",
              "\n",
              "      <script>\n",
              "        const buttonEl =\n",
              "          document.querySelector('#df-f3e56336-12f0-4836-bde7-5b58b8b81b11 button.colab-df-convert');\n",
              "        buttonEl.style.display =\n",
              "          google.colab.kernel.accessAllowed ? 'block' : 'none';\n",
              "\n",
              "        async function convertToInteractive(key) {\n",
              "          const element = document.querySelector('#df-f3e56336-12f0-4836-bde7-5b58b8b81b11');\n",
              "          const dataTable =\n",
              "            await google.colab.kernel.invokeFunction('convertToInteractive',\n",
              "                                                     [key], {});\n",
              "          if (!dataTable) return;\n",
              "\n",
              "          const docLinkHtml = 'Like what you see? Visit the ' +\n",
              "            '<a target=\"_blank\" href=https://colab.research.google.com/notebooks/data_table.ipynb>data table notebook</a>'\n",
              "            + ' to learn more about interactive tables.';\n",
              "          element.innerHTML = '';\n",
              "          dataTable['output_type'] = 'display_data';\n",
              "          await google.colab.output.renderOutput(dataTable, element);\n",
              "          const docLink = document.createElement('div');\n",
              "          docLink.innerHTML = docLinkHtml;\n",
              "          element.appendChild(docLink);\n",
              "        }\n",
              "      </script>\n",
              "    </div>\n",
              "  </div>\n",
              "  "
            ]
          },
          "metadata": {},
          "execution_count": 5
        }
      ]
    },
    {
      "cell_type": "code",
      "source": [
        "# rows are ratings, columns are [User, Movie, rating, timestamp]\n",
        "ratings.head()"
      ],
      "metadata": {
        "id": "UGdGX2w-PM7M",
        "outputId": "21a942d7-a8ed-4529-896b-3b82c6b4f6f7",
        "colab": {
          "base_uri": "https://localhost:8080/",
          "height": 206
        }
      },
      "execution_count": 6,
      "outputs": [
        {
          "output_type": "execute_result",
          "data": {
            "text/plain": [
              "   userId  movieId  rating  timestamp\n",
              "0       1        1     4.0  964982703\n",
              "1       1        3     4.0  964981247\n",
              "2       1        6     4.0  964982224\n",
              "3       1       47     5.0  964983815\n",
              "4       1       50     5.0  964982931"
            ],
            "text/html": [
              "\n",
              "  <div id=\"df-c12230d0-9ccd-44fa-82c5-637557c87e0b\">\n",
              "    <div class=\"colab-df-container\">\n",
              "      <div>\n",
              "<style scoped>\n",
              "    .dataframe tbody tr th:only-of-type {\n",
              "        vertical-align: middle;\n",
              "    }\n",
              "\n",
              "    .dataframe tbody tr th {\n",
              "        vertical-align: top;\n",
              "    }\n",
              "\n",
              "    .dataframe thead th {\n",
              "        text-align: right;\n",
              "    }\n",
              "</style>\n",
              "<table border=\"1\" class=\"dataframe\">\n",
              "  <thead>\n",
              "    <tr style=\"text-align: right;\">\n",
              "      <th></th>\n",
              "      <th>userId</th>\n",
              "      <th>movieId</th>\n",
              "      <th>rating</th>\n",
              "      <th>timestamp</th>\n",
              "    </tr>\n",
              "  </thead>\n",
              "  <tbody>\n",
              "    <tr>\n",
              "      <th>0</th>\n",
              "      <td>1</td>\n",
              "      <td>1</td>\n",
              "      <td>4.0</td>\n",
              "      <td>964982703</td>\n",
              "    </tr>\n",
              "    <tr>\n",
              "      <th>1</th>\n",
              "      <td>1</td>\n",
              "      <td>3</td>\n",
              "      <td>4.0</td>\n",
              "      <td>964981247</td>\n",
              "    </tr>\n",
              "    <tr>\n",
              "      <th>2</th>\n",
              "      <td>1</td>\n",
              "      <td>6</td>\n",
              "      <td>4.0</td>\n",
              "      <td>964982224</td>\n",
              "    </tr>\n",
              "    <tr>\n",
              "      <th>3</th>\n",
              "      <td>1</td>\n",
              "      <td>47</td>\n",
              "      <td>5.0</td>\n",
              "      <td>964983815</td>\n",
              "    </tr>\n",
              "    <tr>\n",
              "      <th>4</th>\n",
              "      <td>1</td>\n",
              "      <td>50</td>\n",
              "      <td>5.0</td>\n",
              "      <td>964982931</td>\n",
              "    </tr>\n",
              "  </tbody>\n",
              "</table>\n",
              "</div>\n",
              "      <button class=\"colab-df-convert\" onclick=\"convertToInteractive('df-c12230d0-9ccd-44fa-82c5-637557c87e0b')\"\n",
              "              title=\"Convert this dataframe to an interactive table.\"\n",
              "              style=\"display:none;\">\n",
              "        \n",
              "  <svg xmlns=\"http://www.w3.org/2000/svg\" height=\"24px\"viewBox=\"0 0 24 24\"\n",
              "       width=\"24px\">\n",
              "    <path d=\"M0 0h24v24H0V0z\" fill=\"none\"/>\n",
              "    <path d=\"M18.56 5.44l.94 2.06.94-2.06 2.06-.94-2.06-.94-.94-2.06-.94 2.06-2.06.94zm-11 1L8.5 8.5l.94-2.06 2.06-.94-2.06-.94L8.5 2.5l-.94 2.06-2.06.94zm10 10l.94 2.06.94-2.06 2.06-.94-2.06-.94-.94-2.06-.94 2.06-2.06.94z\"/><path d=\"M17.41 7.96l-1.37-1.37c-.4-.4-.92-.59-1.43-.59-.52 0-1.04.2-1.43.59L10.3 9.45l-7.72 7.72c-.78.78-.78 2.05 0 2.83L4 21.41c.39.39.9.59 1.41.59.51 0 1.02-.2 1.41-.59l7.78-7.78 2.81-2.81c.8-.78.8-2.07 0-2.86zM5.41 20L4 18.59l7.72-7.72 1.47 1.35L5.41 20z\"/>\n",
              "  </svg>\n",
              "      </button>\n",
              "      \n",
              "  <style>\n",
              "    .colab-df-container {\n",
              "      display:flex;\n",
              "      flex-wrap:wrap;\n",
              "      gap: 12px;\n",
              "    }\n",
              "\n",
              "    .colab-df-convert {\n",
              "      background-color: #E8F0FE;\n",
              "      border: none;\n",
              "      border-radius: 50%;\n",
              "      cursor: pointer;\n",
              "      display: none;\n",
              "      fill: #1967D2;\n",
              "      height: 32px;\n",
              "      padding: 0 0 0 0;\n",
              "      width: 32px;\n",
              "    }\n",
              "\n",
              "    .colab-df-convert:hover {\n",
              "      background-color: #E2EBFA;\n",
              "      box-shadow: 0px 1px 2px rgba(60, 64, 67, 0.3), 0px 1px 3px 1px rgba(60, 64, 67, 0.15);\n",
              "      fill: #174EA6;\n",
              "    }\n",
              "\n",
              "    [theme=dark] .colab-df-convert {\n",
              "      background-color: #3B4455;\n",
              "      fill: #D2E3FC;\n",
              "    }\n",
              "\n",
              "    [theme=dark] .colab-df-convert:hover {\n",
              "      background-color: #434B5C;\n",
              "      box-shadow: 0px 1px 3px 1px rgba(0, 0, 0, 0.15);\n",
              "      filter: drop-shadow(0px 1px 2px rgba(0, 0, 0, 0.3));\n",
              "      fill: #FFFFFF;\n",
              "    }\n",
              "  </style>\n",
              "\n",
              "      <script>\n",
              "        const buttonEl =\n",
              "          document.querySelector('#df-c12230d0-9ccd-44fa-82c5-637557c87e0b button.colab-df-convert');\n",
              "        buttonEl.style.display =\n",
              "          google.colab.kernel.accessAllowed ? 'block' : 'none';\n",
              "\n",
              "        async function convertToInteractive(key) {\n",
              "          const element = document.querySelector('#df-c12230d0-9ccd-44fa-82c5-637557c87e0b');\n",
              "          const dataTable =\n",
              "            await google.colab.kernel.invokeFunction('convertToInteractive',\n",
              "                                                     [key], {});\n",
              "          if (!dataTable) return;\n",
              "\n",
              "          const docLinkHtml = 'Like what you see? Visit the ' +\n",
              "            '<a target=\"_blank\" href=https://colab.research.google.com/notebooks/data_table.ipynb>data table notebook</a>'\n",
              "            + ' to learn more about interactive tables.';\n",
              "          element.innerHTML = '';\n",
              "          dataTable['output_type'] = 'display_data';\n",
              "          await google.colab.output.renderOutput(dataTable, element);\n",
              "          const docLink = document.createElement('div');\n",
              "          docLink.innerHTML = docLinkHtml;\n",
              "          element.appendChild(docLink);\n",
              "        }\n",
              "      </script>\n",
              "    </div>\n",
              "  </div>\n",
              "  "
            ]
          },
          "metadata": {},
          "execution_count": 6
        }
      ]
    },
    {
      "cell_type": "code",
      "source": [
        "movies[\"movieId\"] = movies[\"movieId\"].apply(lambda x: f\"movie_{x}\")\n",
        "ratings[\"movieId\"] = ratings[\"movieId\"].apply(lambda x: f\"movie_{x}\")"
      ],
      "metadata": {
        "id": "NvoIgyUGkSXj"
      },
      "execution_count": 7,
      "outputs": []
    },
    {
      "cell_type": "code",
      "source": [
        "# Rating range from 0 to 5 with 0.5 as step size\n",
        "ratings.hist(\"rating\")"
      ],
      "metadata": {
        "id": "biac6J2_PwNU",
        "outputId": "1e5699be-84ac-4622-b252-badb68e70202",
        "colab": {
          "base_uri": "https://localhost:8080/",
          "height": 316
        }
      },
      "execution_count": 8,
      "outputs": [
        {
          "output_type": "execute_result",
          "data": {
            "text/plain": [
              "array([[<matplotlib.axes._subplots.AxesSubplot object at 0x7f0795f1f390>]],\n",
              "      dtype=object)"
            ]
          },
          "metadata": {},
          "execution_count": 8
        },
        {
          "output_type": "display_data",
          "data": {
            "text/plain": [
              "<Figure size 432x288 with 1 Axes>"
            ],
            "image/png": "[encoded data removed]"
          },
          "metadata": {
            "needs_background": "light"
          }
        }
      ]
    },
    {
      "cell_type": "code",
      "source": [
        "# Average ratings by movie\n",
        "ratings.groupby(\"movieId\")[\"rating\"].mean().hist()"
      ],
      "metadata": {
        "id": "KosqmNSaQp7s",
        "outputId": "d2e4d73c-36e8-4721-918c-ba2d41e0eff3",
        "colab": {
          "base_uri": "https://localhost:8080/",
          "height": 282
        }
      },
      "execution_count": 9,
      "outputs": [
        {
          "output_type": "execute_result",
          "data": {
            "text/plain": [
              "<matplotlib.axes._subplots.AxesSubplot at 0x7f0796145b10>"
            ]
          },
          "metadata": {},
          "execution_count": 9
        },
        {
          "output_type": "display_data",
          "data": {
            "text/plain": [
              "<Figure size 432x288 with 1 Axes>"
            ],
            "image/png": "[encoded data removed]"
          },
          "metadata": {
            "needs_background": "light"
          }
        }
      ]
    },
    {
      "cell_type": "code",
      "source": [
        "# Average ratings by user\n",
        "ratings.groupby(\"userId\")[\"rating\"].mean().hist()"
      ],
      "metadata": {
        "id": "Ngk3tbJITAkX",
        "outputId": "420a0047-55ea-4f4b-c7db-3ed82f3430c1",
        "colab": {
          "base_uri": "https://localhost:8080/",
          "height": 282
        }
      },
      "execution_count": 10,
      "outputs": [
        {
          "output_type": "execute_result",
          "data": {
            "text/plain": [
              "<matplotlib.axes._subplots.AxesSubplot at 0x7f0796012690>"
            ]
          },
          "metadata": {},
          "execution_count": 10
        },
        {
          "output_type": "display_data",
          "data": {
            "text/plain": [
              "<Figure size 432x288 with 1 Axes>"
            ],
            "image/png": "[encoded data removed]"
          },
          "metadata": {
            "needs_background": "light"
          }
        }
      ]
    },
    {
      "cell_type": "markdown",
      "metadata": {
        "id": "sOSbxemvMV3b"
      },
      "source": [
        "# Data Preprocessing"
      ]
    },
    {
      "cell_type": "markdown",
      "source": [
        "## Step 1: Build Graph"
      ],
      "metadata": {
        "id": "HYXQV0tJeF4t"
      }
    },
    {
      "cell_type": "code",
      "execution_count": 11,
      "metadata": {
        "id": "tSHufUNaMV3c"
      },
      "outputs": [],
      "source": [
        "# Create the edges between movies rated by the same user with minimum rating\n",
        "min_rating = 5\n",
        "pair_frequency = defaultdict(int)\n",
        "item_frequency = defaultdict(int)\n",
        "\n",
        "rated_movies = ratings[ratings.rating >= min_rating]\n",
        "movies_grouped_by_users = list(rated_movies.groupby(\"userId\"))\n",
        "\n",
        "for group in movies_grouped_by_users:\n",
        "        \n",
        "    current_movies = list(group[1][\"movieId\"]) # group[0] is index\n",
        "        \n",
        "    for i in range(len(current_movies)):\n",
        "\n",
        "        item_frequency[current_movies[i]] += 1\n",
        "\n",
        "        for j in range(i + 1, len(current_movies)):\n",
        "            \n",
        "            x = min(current_movies[i], current_movies[j])\n",
        "            y = max(current_movies[i], current_movies[j])\n",
        "            pair_frequency[(x, y)] += 1"
      ]
    },
    {
      "cell_type": "code",
      "execution_count": 12,
      "metadata": {
        "id": "Q6Ewz-2ZMV3c"
      },
      "outputs": [],
      "source": [
        "# Build Graph with weighted edges that is greater than threshold\n",
        "min_weight = 10 # How many users have the same rating\n",
        "D = math.log(sum(item_frequency.values()))\n",
        "\n",
        "movies_graph = nx.Graph()\n",
        "\n",
        "for pair in pair_frequency:\n",
        "\n",
        "    x, y = pair\n",
        "    xy_frequency = pair_frequency[pair]\n",
        "    x_frequency = item_frequency[x]\n",
        "    y_frequency = item_frequency[y]\n",
        "    \n",
        "    pmi = math.log(xy_frequency) - math.log(x_frequency) - math.log(y_frequency) + D\n",
        "    weight = pmi * xy_frequency\n",
        "    \n",
        "    if weight >= min_weight:\n",
        "        movies_graph.add_edge(x, y, weight=weight)"
      ]
    },
    {
      "cell_type": "code",
      "execution_count": 13,
      "metadata": {
        "id": "i2mLuJOtMV3d",
        "outputId": "4e5189a8-da51-4f4f-ffd9-bd7eea86e905",
        "colab": {
          "base_uri": "https://localhost:8080/",
          "height": 54
        }
      },
      "outputs": [
        {
          "output_type": "display_data",
          "data": {
            "text/plain": [
              "'Total number of graph nodes: 1405'"
            ],
            "application/vnd.google.colaboratory.intrinsic+json": {
              "type": "string"
            }
          },
          "metadata": {}
        },
        {
          "output_type": "display_data",
          "data": {
            "text/plain": [
              "'Total number of graph edges: 40043'"
            ],
            "application/vnd.google.colaboratory.intrinsic+json": {
              "type": "string"
            }
          },
          "metadata": {}
        }
      ],
      "source": [
        "print(f\"Total number of graph nodes: {movies_graph.number_of_nodes()}\")\n",
        "print(f\"Total number of graph edges: {movies_graph.number_of_edges()}\")"
      ]
    },
    {
      "cell_type": "code",
      "execution_count": 14,
      "metadata": {
        "id": "z_5YVLF2MV3d",
        "outputId": "de159b83-2025-4774-b6be-2d9607d0a6cd",
        "colab": {
          "base_uri": "https://localhost:8080/",
          "height": 35
        }
      },
      "outputs": [
        {
          "output_type": "display_data",
          "data": {
            "text/plain": [
              "'Average node degree: 57.0'"
            ],
            "application/vnd.google.colaboratory.intrinsic+json": {
              "type": "string"
            }
          },
          "metadata": {}
        }
      ],
      "source": [
        "degrees = [movies_graph.degree[n] for n in movies_graph.nodes]\n",
        "print(f\"Average node degree: {round(sum(degrees) / len(degrees), 2)}\")"
      ]
    },
    {
      "cell_type": "code",
      "execution_count": 15,
      "metadata": {
        "id": "wMyDXQkRMV3d"
      },
      "outputs": [],
      "source": [
        "# Build vocabulary\n",
        "vocabulary = [\"NA\"] + list(movies_graph.nodes) # movieId starts with 1\n",
        "vocabulary_lookup = {token: idx for idx, token in enumerate(vocabulary)}"
      ]
    },
    {
      "cell_type": "code",
      "source": [
        "print(vocabulary_lookup)"
      ],
      "metadata": {
        "id": "rbfPjxJWU3nq",
        "outputId": "ed8c1d87-09c3-4c9b-f272-b4da21591f9a",
        "colab": {
          "base_uri": "https://localhost:8080/",
          "height": 1000
        }
      },
      "execution_count": 16,
      "outputs": [
        {
          "output_type": "display_data",
          "data": {
            "text/plain": [
              "{'NA': 0,\n",
              " 'movie_47': 1,\n",
              " 'movie_50': 2,\n",
              " 'movie_151': 3,\n",
              " 'movie_163': 4,\n",
              " 'movie_216': 5,\n",
              " 'movie_231': 6,\n",
              " 'movie_260': 7,\n",
              " 'movie_333': 8,\n",
              " 'movie_457': 9,\n",
              " 'movie_527': 10,\n",
              " 'movie_596': 11,\n",
              " 'movie_608': 12,\n",
              " 'movie_1029': 13,\n",
              " 'movie_1073': 14,\n",
              " 'movie_1080': 15,\n",
              " 'movie_1089': 16,\n",
              " 'movie_1136': 17,\n",
              " 'movie_1196': 18,\n",
              " 'movie_1197': 19,\n",
              " 'movie_1198': 20,\n",
              " 'movie_1206': 21,\n",
              " 'movie_1210': 22,\n",
              " 'movie_1213': 23,\n",
              " 'movie_1220': 24,\n",
              " 'movie_1222': 25,\n",
              " 'movie_1240': 26,\n",
              " 'movie_1270': 27,\n",
              " 'movie_1275': 28,\n",
              " 'movie_1278': 29,\n",
              " 'movie_1291': 30,\n",
              " 'movie_1517': 31,\n",
              " 'movie_1573': 32,\n",
              " 'movie_1617': 33,\n",
              " 'movie_1625': 34,\n",
              " 'movie_1732': 35,\n",
              " 'movie_2005': 36,\n",
              " 'movie_2094': 37,\n",
              " 'movie_2115': 38,\n",
              " 'movie_2116': 39,\n",
              " 'movie_2329': 40,\n",
              " 'movie_2387': 41,\n",
              " 'movie_2459': 42,\n",
              " 'movie_2470': 43,\n",
              " 'movie_2502': 44,\n",
              " 'movie_2529': 45,\n",
              " 'movie_2542': 46,\n",
              " 'movie_2571': 47,\n",
              " 'movie_2700': 48,\n",
              " 'movie_2716': 49,\n",
              " 'movie_2858': 50,\n",
              " 'movie_2949': 51,\n",
              " 'movie_2959': 52,\n",
              " 'movie_2987': 53,\n",
              " 'movie_3033': 54,\n",
              " 'movie_3052': 55,\n",
              " 'movie_3147': 56,\n",
              " 'movie_3253': 57,\n",
              " 'movie_3386': 58,\n",
              " 'movie_3441': 59,\n",
              " 'movie_3578': 60,\n",
              " 'movie_3671': 61,\n",
              " 'movie_3703': 62,\n",
              " 'movie_101': 63,\n",
              " 'movie_362': 64,\n",
              " 'movie_553': 65,\n",
              " 'movie_923': 66,\n",
              " 'movie_1097': 67,\n",
              " 'movie_1282': 68,\n",
              " 'movie_1587': 69,\n",
              " 'movie_1954': 70,\n",
              " 'movie_2058': 71,\n",
              " 'movie_2078': 72,\n",
              " 'movie_2395': 73,\n",
              " 'movie_2580': 74,\n",
              " 'movie_2692': 75,\n",
              " 'movie_2761': 76,\n",
              " 'movie_2944': 77,\n",
              " 'movie_2948': 78,\n",
              " 'movie_3034': 79,\n",
              " 'movie_3448': 80,\n",
              " 'movie_3450': 81,\n",
              " 'movie_3793': 82,\n",
              " 'movie_919': 83,\n",
              " 'movie_954': 84,\n",
              " 'movie_2427': 85,\n",
              " 'movie_2991': 86,\n",
              " 'movie_5060': 87,\n",
              " 'movie_2872': 88,\n",
              " 'movie_661': 89,\n",
              " 'movie_2947': 90,\n",
              " 'movie_3702': 91,\n",
              " 'movie_940': 92,\n",
              " 'movie_1031': 93,\n",
              " 'movie_1256': 94,\n",
              " 'movie_2018': 95,\n",
              " 'movie_2141': 96,\n",
              " 'movie_2161': 97,\n",
              " 'movie_2353': 98,\n",
              " 'movie_1049': 99,\n",
              " 'movie_1023': 100,\n",
              " 'movie_3053': 101,\n",
              " 'movie_1927': 102,\n",
              " 'movie_1025': 103,\n",
              " 'movie_1032': 104,\n",
              " 'movie_2137': 105,\n",
              " 'movie_1224': 106,\n",
              " 'movie_2291': 107,\n",
              " 'movie_1298': 108,\n",
              " 'movie_2596': 109,\n",
              " 'movie_106782': 110,\n",
              " 'movie_60756': 111,\n",
              " 'movie_80906': 112,\n",
              " 'movie_89774': 113,\n",
              " 'movie_122882': 114,\n",
              " 'movie_125': 115,\n",
              " 'movie_176': 116,\n",
              " 'movie_898': 117,\n",
              " 'movie_930': 118,\n",
              " 'movie_2791': 119,\n",
              " 'movie_4034': 120,\n",
              " 'movie_162': 121,\n",
              " 'movie_215': 122,\n",
              " 'movie_232': 123,\n",
              " 'movie_265': 124,\n",
              " 'movie_593': 125,\n",
              " 'movie_908': 126,\n",
              " 'movie_912': 127,\n",
              " 'movie_914': 128,\n",
              " 'movie_920': 129,\n",
              " 'movie_1084': 130,\n",
              " 'movie_1103': 131,\n",
              " 'movie_1283': 132,\n",
              " 'movie_1947': 133,\n",
              " 'movie_1967': 134,\n",
              " 'movie_2150': 135,\n",
              " 'movie_2174': 136,\n",
              " 'movie_2186': 137,\n",
              " 'movie_2599': 138,\n",
              " 'movie_3083': 139,\n",
              " 'movie_3365': 140,\n",
              " 'movie_4967': 141,\n",
              " 'movie_1250': 142,\n",
              " 'movie_910': 143,\n",
              " 'movie_1086': 144,\n",
              " 'movie_1449': 145,\n",
              " 'movie_475': 146,\n",
              " 'movie_1188': 147,\n",
              " 'movie_1203': 148,\n",
              " 'movie_3508': 149,\n",
              " 'movie_538': 150,\n",
              " 'movie_2583': 151,\n",
              " 'movie_319': 152,\n",
              " 'movie_342': 153,\n",
              " 'movie_1077': 154,\n",
              " 'movie_3044': 155,\n",
              " 'movie_1834': 156,\n",
              " 'movie_2843': 157,\n",
              " 'movie_4239': 158,\n",
              " 'movie_1046': 159,\n",
              " 'movie_296': 160,\n",
              " 'movie_58': 161,\n",
              " 'movie_290': 162,\n",
              " 'movie_590': 163,\n",
              " 'movie_594': 164,\n",
              " 'movie_595': 165,\n",
              " 'movie_3': 166,\n",
              " 'movie_5': 167,\n",
              " 'movie_168': 168,\n",
              " 'movie_262': 169,\n",
              " 'movie_277': 170,\n",
              " 'movie_318': 171,\n",
              " 'movie_337': 172,\n",
              " 'movie_356': 173,\n",
              " 'movie_500': 174,\n",
              " 'movie_587': 175,\n",
              " 'movie_588': 176,\n",
              " 'movie_616': 177,\n",
              " 'movie_736': 178,\n",
              " 'movie_780': 179,\n",
              " 'movie_783': 180,\n",
              " 'movie_364': 181,\n",
              " 'movie_22': 182,\n",
              " 'movie_110': 183,\n",
              " 'movie_36': 184,\n",
              " 'movie_316': 185,\n",
              " 'movie_86': 186,\n",
              " 'movie_480': 187,\n",
              " 'movie_160': 188,\n",
              " 'movie_248': 189,\n",
              " 'movie_349': 190,\n",
              " 'movie_350': 191,\n",
              " 'movie_368': 192,\n",
              " 'movie_377': 193,\n",
              " 'movie_432': 194,\n",
              " 'movie_257': 195,\n",
              " 'movie_230': 196,\n",
              " 'movie_314': 197,\n",
              " 'movie_1219': 198,\n",
              " 'movie_1584': 199,\n",
              " 'movie_2019': 200,\n",
              " 'movie_5618': 201,\n",
              " 'movie_466': 202,\n",
              " 'movie_3869': 203,\n",
              " 'movie_34': 204,\n",
              " 'movie_253': 205,\n",
              " 'movie_357': 206,\n",
              " 'movie_380': 207,\n",
              " 'movie_185': 208,\n",
              " 'movie_2300': 209,\n",
              " 'movie_4993': 210,\n",
              " 'movie_5902': 211,\n",
              " 'movie_5481': 212,\n",
              " 'movie_5952': 213,\n",
              " 'movie_7458': 214,\n",
              " 'movie_8533': 215,\n",
              " 'movie_81845': 216,\n",
              " 'movie_33794': 217,\n",
              " 'movie_49272': 218,\n",
              " 'movie_91529': 219,\n",
              " 'movie_92259': 220,\n",
              " 'movie_96079': 221,\n",
              " 'movie_79091': 222,\n",
              " 'movie_6': 223,\n",
              " 'movie_150': 224,\n",
              " 'movie_529': 225,\n",
              " 'movie_1408': 226,\n",
              " 'movie_2028': 227,\n",
              " 'movie_1101': 228,\n",
              " 'movie_1721': 229,\n",
              " 'movie_1784': 230,\n",
              " 'movie_222': 231,\n",
              " 'movie_256': 232,\n",
              " 'movie_1357': 233,\n",
              " 'movie_2572': 234,\n",
              " 'movie_3668': 235,\n",
              " 'movie_6942': 236,\n",
              " 'movie_40629': 237,\n",
              " 'movie_3996': 238,\n",
              " 'movie_4011': 239,\n",
              " 'movie_282': 240,\n",
              " 'movie_95': 241,\n",
              " 'movie_266': 242,\n",
              " 'movie_509': 243,\n",
              " 'movie_589': 244,\n",
              " 'movie_1200': 245,\n",
              " 'movie_1214': 246,\n",
              " 'movie_2011': 247,\n",
              " 'movie_3510': 248,\n",
              " 'movie_5989': 249,\n",
              " 'movie_33493': 250,\n",
              " 'movie_122886': 251,\n",
              " 'movie_166528': 252,\n",
              " 'movie_4720': 253,\n",
              " 'movie_4995': 254,\n",
              " 'movie_84152': 255,\n",
              " 'movie_858': 256,\n",
              " 'movie_1201': 257,\n",
              " 'movie_7099': 258,\n",
              " 'movie_6350': 259,\n",
              " 'movie_1221': 260,\n",
              " 'movie_1209': 261,\n",
              " 'movie_353': 262,\n",
              " 'movie_551': 263,\n",
              " 'movie_592': 264,\n",
              " 'movie_1285': 265,\n",
              " 'movie_1374': 266,\n",
              " 'movie_1527': 267,\n",
              " 'movie_2918': 268,\n",
              " 'movie_2968': 269,\n",
              " 'movie_3070': 270,\n",
              " 'movie_3396': 271,\n",
              " 'movie_903': 272,\n",
              " 'movie_904': 273,\n",
              " 'movie_1372': 274,\n",
              " 'movie_913': 275,\n",
              " 'movie_3358': 276,\n",
              " 'movie_3477': 277,\n",
              " 'movie_2723': 278,\n",
              " 'movie_48': 279,\n",
              " 'movie_1907': 280,\n",
              " 'movie_2081': 281,\n",
              " 'movie_2657': 282,\n",
              " 'movie_3114': 283,\n",
              " 'movie_4306': 284,\n",
              " 'movie_2083': 285,\n",
              " 'movie_2394': 286,\n",
              " 'movie_3751': 287,\n",
              " 'movie_5218': 288,\n",
              " 'movie_720': 289,\n",
              " 'movie_2804': 290,\n",
              " 'movie_5991': 291,\n",
              " 'movie_1380': 292,\n",
              " 'movie_6345': 293,\n",
              " 'movie_1148': 294,\n",
              " 'movie_3549': 295,\n",
              " 'movie_3398': 296,\n",
              " 'movie_2135': 297,\n",
              " 'movie_4246': 298,\n",
              " 'movie_10': 299,\n",
              " 'movie_1722': 300,\n",
              " 'movie_2706': 301,\n",
              " 'movie_3082': 302,\n",
              " 'movie_2012': 303,\n",
              " 'movie_370': 304,\n",
              " 'movie_47997': 305,\n",
              " 'movie_541': 306,\n",
              " 'movie_1193': 307,\n",
              " 'movie_1952': 308,\n",
              " 'movie_7438': 309,\n",
              " 'movie_3489': 310,\n",
              " 'movie_1212': 311,\n",
              " 'movie_1233': 312,\n",
              " 'movie_1258': 313,\n",
              " 'movie_1284': 314,\n",
              " 'movie_1232': 315,\n",
              " 'movie_3949': 316,\n",
              " 'movie_7153': 317,\n",
              " 'movie_58559': 318,\n",
              " 'movie_60069': 319,\n",
              " 'movie_68157': 320,\n",
              " 'movie_68954': 321,\n",
              " 'movie_79132': 322,\n",
              " 'movie_116797': 323,\n",
              " 'movie_187593': 324,\n",
              " 'movie_122912': 325,\n",
              " 'movie_745': 326,\n",
              " 'movie_1035': 327,\n",
              " 'movie_62': 328,\n",
              " 'movie_1207': 329,\n",
              " 'movie_1262': 330,\n",
              " 'movie_2628': 331,\n",
              " 'movie_1287': 332,\n",
              " 'movie_2565': 333,\n",
              " 'movie_2478': 334,\n",
              " 'movie_3451': 335,\n",
              " 'movie_2151': 336,\n",
              " 'movie_924': 337,\n",
              " 'movie_953': 338,\n",
              " 'movie_1272': 339,\n",
              " 'movie_68237': 340,\n",
              " 'movie_5995': 341,\n",
              " 'movie_59315': 342,\n",
              " 'movie_109487': 343,\n",
              " 'movie_112852': 344,\n",
              " 'movie_115617': 345,\n",
              " 'movie_122904': 346,\n",
              " 'movie_68358': 347,\n",
              " 'movie_111759': 348,\n",
              " 'movie_93510': 349,\n",
              " 'movie_96821': 350,\n",
              " 'movie_95510': 351,\n",
              " 'movie_1': 352,\n",
              " 'movie_648': 353,\n",
              " 'movie_733': 354,\n",
              " 'movie_1036': 355,\n",
              " 'movie_784': 356,\n",
              " 'movie_1391': 357,\n",
              " 'movie_272': 358,\n",
              " 'movie_497': 359,\n",
              " 'movie_1104': 360,\n",
              " 'movie_194': 361,\n",
              " 'movie_345': 362,\n",
              " 'movie_28': 363,\n",
              " 'movie_39': 364,\n",
              " 'movie_994': 365,\n",
              " 'movie_1280': 366,\n",
              " 'movie_1639': 367,\n",
              " 'movie_1673': 368,\n",
              " 'movie_1719': 369,\n",
              " 'movie_307': 370,\n",
              " 'movie_446': 371,\n",
              " 'movie_838': 372,\n",
              " 'movie_1446': 373,\n",
              " 'movie_339': 374,\n",
              " 'movie_1060': 375,\n",
              " 'movie_1249': 376,\n",
              " 'movie_1653': 377,\n",
              " 'movie_1704': 378,\n",
              " 'movie_1923': 379,\n",
              " 'movie_2357': 380,\n",
              " 'movie_1641': 381,\n",
              " 'movie_1245': 382,\n",
              " 'movie_428': 383,\n",
              " 'movie_2355': 384,\n",
              " 'movie_562': 385,\n",
              " 'movie_6333': 386,\n",
              " 'movie_8636': 387,\n",
              " 'movie_2273': 388,\n",
              " 'movie_4446': 389,\n",
              " 'movie_5349': 390,\n",
              " 'movie_6539': 391,\n",
              " 'movie_6874': 392,\n",
              " 'movie_45499': 393,\n",
              " 'movie_6711': 394,\n",
              " 'movie_21': 395,\n",
              " 'movie_60': 396,\n",
              " 'movie_261': 397,\n",
              " 'movie_165': 398,\n",
              " 'movie_344': 399,\n",
              " 'movie_671': 400,\n",
              " 'movie_11': 401,\n",
              " 'movie_223': 402,\n",
              " 'movie_246': 403,\n",
              " 'movie_1215': 404,\n",
              " 'movie_1387': 405,\n",
              " 'movie_1968': 406,\n",
              " 'movie_2762': 407,\n",
              " 'movie_2997': 408,\n",
              " 'movie_3000': 409,\n",
              " 'movie_3911': 410,\n",
              " 'movie_1921': 411,\n",
              " 'movie_2118': 412,\n",
              " 'movie_2366': 413,\n",
              " 'movie_3019': 414,\n",
              " 'movie_3213': 415,\n",
              " 'movie_3328': 416,\n",
              " 'movie_3481': 417,\n",
              " 'movie_1248': 418,\n",
              " 'movie_3362': 419,\n",
              " 'movie_2391': 420,\n",
              " 'movie_1729': 421,\n",
              " 'movie_17': 422,\n",
              " 'movie_203': 423,\n",
              " 'movie_82': 424,\n",
              " 'movie_300': 425,\n",
              " 'movie_306': 426,\n",
              " 'movie_308': 427,\n",
              " 'movie_111': 428,\n",
              " 'movie_431': 429,\n",
              " 'movie_491': 430,\n",
              " 'movie_281': 431,\n",
              " 'movie_514': 432,\n",
              " 'movie_1259': 433,\n",
              " 'movie_2160': 434,\n",
              " 'movie_2712': 435,\n",
              " 'movie_4022': 436,\n",
              " 'movie_4816': 437,\n",
              " 'movie_4848': 438,\n",
              " 'movie_4878': 439,\n",
              " 'movie_7293': 440,\n",
              " 'movie_55820': 441,\n",
              " 'movie_104879': 442,\n",
              " 'movie_116897': 443,\n",
              " 'movie_6287': 444,\n",
              " 'movie_7173': 445,\n",
              " 'movie_3948': 446,\n",
              " 'movie_16': 447,\n",
              " 'movie_555': 448,\n",
              " 'movie_1090': 449,\n",
              " 'movie_2990': 450,\n",
              " 'movie_288': 451,\n",
              " 'movie_597': 452,\n",
              " 'movie_1231': 453,\n",
              " 'movie_1500': 454,\n",
              " 'movie_4002': 455,\n",
              " 'movie_2278': 456,\n",
              " 'movie_2423': 457,\n",
              " 'movie_4262': 458,\n",
              " 'movie_4321': 459,\n",
              " 'movie_1246': 460,\n",
              " 'movie_1265': 461,\n",
              " 'movie_2000': 462,\n",
              " 'movie_2371': 463,\n",
              " 'movie_3100': 464,\n",
              " 'movie_4102': 465,\n",
              " 'movie_1124': 466,\n",
              " 'movie_3755': 467,\n",
              " 'movie_1093': 468,\n",
              " 'movie_2023': 469,\n",
              " 'movie_2871': 470,\n",
              " 'movie_2763': 471,\n",
              " 'movie_1379': 472,\n",
              " 'movie_4041': 473,\n",
              " 'movie_107': 474,\n",
              " 'movie_158': 475,\n",
              " 'movie_174': 476,\n",
              " 'movie_276': 477,\n",
              " 'movie_292': 478,\n",
              " 'movie_367': 479,\n",
              " 'movie_442': 480,\n",
              " 'movie_788': 481,\n",
              " 'movie_1356': 482,\n",
              " 'movie_419': 483,\n",
              " 'movie_7': 484,\n",
              " 'movie_23': 485,\n",
              " 'movie_29': 486,\n",
              " 'movie_434': 487,\n",
              " 'movie_552': 488,\n",
              " 'movie_153': 489,\n",
              " 'movie_329': 490,\n",
              " 'movie_382': 491,\n",
              " 'movie_520': 492,\n",
              " 'movie_610': 493,\n",
              " 'movie_1105': 494,\n",
              " 'movie_112': 495,\n",
              " 'movie_737': 496,\n",
              " 'movie_1476': 497,\n",
              " 'movie_104': 498,\n",
              " 'movie_474': 499,\n",
              " 'movie_543': 500,\n",
              " 'movie_1242': 501,\n",
              " 'movie_1302': 502,\n",
              " 'movie_2324': 503,\n",
              " 'movie_2890': 504,\n",
              " 'movie_4308': 505,\n",
              " 'movie_4886': 506,\n",
              " 'movie_6377': 507,\n",
              " 'movie_54272': 508,\n",
              " 'movie_1393': 509,\n",
              " 'movie_4718': 510,\n",
              " 'movie_8360': 511,\n",
              " 'movie_2268': 512,\n",
              " 'movie_2431': 513,\n",
              " 'movie_3552': 514,\n",
              " 'movie_3717': 515,\n",
              " 'movie_3753': 516,\n",
              " 'movie_3972': 517,\n",
              " 'movie_4734': 518,\n",
              " 'movie_5418': 519,\n",
              " 'movie_8665': 520,\n",
              " 'movie_1059': 521,\n",
              " 'movie_50872': 522,\n",
              " 'movie_3798': 523,\n",
              " 'movie_5378': 524,\n",
              " 'movie_6365': 525,\n",
              " 'movie_2231': 526,\n",
              " 'movie_4963': 527,\n",
              " 'movie_5630': 528,\n",
              " 'movie_4369': 529,\n",
              " 'movie_4901': 530,\n",
              " 'movie_4016': 531,\n",
              " 'movie_2694': 532,\n",
              " 'movie_4299': 533,\n",
              " 'movie_2006': 534,\n",
              " 'movie_5500': 535,\n",
              " 'movie_33679': 536,\n",
              " 'movie_53322': 537,\n",
              " 'movie_454': 538,\n",
              " 'movie_112552': 539,\n",
              " 'movie_1580': 540,\n",
              " 'movie_70': 541,\n",
              " 'movie_1079': 542,\n",
              " 'movie_2302': 543,\n",
              " 'movie_3421': 544,\n",
              " 'movie_3918': 545,\n",
              " 'movie_6502': 546,\n",
              " 'movie_8874': 547,\n",
              " 'movie_48774': 548,\n",
              " 'movie_51662': 549,\n",
              " 'movie_54001': 550,\n",
              " 'movie_56367': 551,\n",
              " 'movie_247': 552,\n",
              " 'movie_965': 553,\n",
              " 'movie_1235': 554,\n",
              " 'movie_1243': 555,\n",
              " 'movie_1276': 556,\n",
              " 'movie_1304': 557,\n",
              " 'movie_1674': 558,\n",
              " 'movie_1845': 559,\n",
              " 'movie_1953': 560,\n",
              " 'movie_1997': 561,\n",
              " 'movie_2140': 562,\n",
              " 'movie_2194': 563,\n",
              " 'movie_2788': 564,\n",
              " 'movie_2901': 565,\n",
              " 'movie_3683': 566,\n",
              " 'movie_3814': 567,\n",
              " 'movie_4437': 568,\n",
              " 'movie_4865': 569,\n",
              " 'movie_5377': 570,\n",
              " 'movie_5956': 571,\n",
              " 'movie_39183': 572,\n",
              " 'movie_236': 573,\n",
              " 'movie_2797': 574,\n",
              " 'movie_3361': 575,\n",
              " 'movie_1663': 576,\n",
              " 'movie_2248': 577,\n",
              " 'movie_3108': 578,\n",
              " 'movie_3471': 579,\n",
              " 'movie_5816': 580,\n",
              " 'movie_6807': 581,\n",
              " 'movie_2321': 582,\n",
              " 'movie_3107': 583,\n",
              " 'movie_3863': 584,\n",
              " 'movie_3994': 585,\n",
              " 'movie_4014': 586,\n",
              " 'movie_34338': 587,\n",
              " 'movie_1645': 588,\n",
              " 'movie_3969': 589,\n",
              " 'movie_2249': 590,\n",
              " 'movie_3148': 591,\n",
              " 'movie_6708': 592,\n",
              " 'movie_2375': 593,\n",
              " 'movie_1873': 594,\n",
              " 'movie_2301': 595,\n",
              " 'movie_44191': 596,\n",
              " 'movie_47610': 597,\n",
              " 'movie_51255': 598,\n",
              " 'movie_54286': 599,\n",
              " 'movie_54995': 600,\n",
              " 'movie_54997': 601,\n",
              " 'movie_57669': 602,\n",
              " 'movie_61132': 603,\n",
              " 'movie_63082': 604,\n",
              " 'movie_69122': 605,\n",
              " 'movie_73017': 606,\n",
              " 'movie_76093': 607,\n",
              " 'movie_134130': 608,\n",
              " 'movie_134853': 609,\n",
              " 'movie_7445': 610,\n",
              " 'movie_30749': 611,\n",
              " 'movie_49530': 612,\n",
              " 'movie_70286': 613,\n",
              " 'movie_122900': 614,\n",
              " 'movie_37733': 615,\n",
              " 'movie_54999': 616,\n",
              " 'movie_89745': 617,\n",
              " 'movie_152081': 618,\n",
              " 'movie_36529': 619,\n",
              " 'movie_110501': 620,\n",
              " 'movie_58998': 621,\n",
              " 'movie_95167': 622,\n",
              " 'movie_5064': 623,\n",
              " 'movie_54736': 624,\n",
              " 'movie_47200': 625,\n",
              " 'movie_52328': 626,\n",
              " 'movie_46976': 627,\n",
              " 'movie_55276': 628,\n",
              " 'movie_55118': 629,\n",
              " 'movie_916': 630,\n",
              " 'movie_922': 631,\n",
              " 'movie_1982': 632,\n",
              " 'movie_2686': 633,\n",
              " 'movie_3275': 634,\n",
              " 'movie_48516': 635,\n",
              " 'movie_19': 636,\n",
              " 'movie_235': 637,\n",
              " 'movie_899': 638,\n",
              " 'movie_1234': 639,\n",
              " 'movie_1288': 640,\n",
              " 'movie_2396': 641,\n",
              " 'movie_3494': 642,\n",
              " 'movie_750': 643,\n",
              " 'movie_1204': 644,\n",
              " 'movie_1252': 645,\n",
              " 'movie_3836': 646,\n",
              " 'movie_955': 647,\n",
              " 'movie_2921': 648,\n",
              " 'movie_3030': 649,\n",
              " 'movie_2067': 650,\n",
              " 'movie_2202': 651,\n",
              " 'movie_3334': 652,\n",
              " 'movie_915': 653,\n",
              " 'movie_3022': 654,\n",
              " 'movie_32': 655,\n",
              " 'movie_293': 656,\n",
              " 'movie_708': 657,\n",
              " 'movie_249': 658,\n",
              " 'movie_280': 659,\n",
              " 'movie_315': 660,\n",
              " 'movie_508': 661,\n",
              " 'movie_539': 662,\n",
              " 'movie_218': 663,\n",
              " 'movie_928': 664,\n",
              " 'movie_969': 665,\n",
              " 'movie_1151': 666,\n",
              " 'movie_1183': 667,\n",
              " 'movie_1208': 668,\n",
              " 'movie_1244': 669,\n",
              " 'movie_1247': 670,\n",
              " 'movie_1263': 671,\n",
              " 'movie_1269': 672,\n",
              " 'movie_1299': 673,\n",
              " 'movie_2076': 674,\n",
              " 'movie_2550': 675,\n",
              " 'movie_3462': 676,\n",
              " 'movie_6460': 677,\n",
              " 'movie_2020': 678,\n",
              " 'movie_3498': 679,\n",
              " 'movie_2352': 680,\n",
              " 'movie_1797': 681,\n",
              " 'movie_906': 682,\n",
              " 'movie_1094': 683,\n",
              " 'movie_2124': 684,\n",
              " 'movie_8984': 685,\n",
              " 'movie_48780': 686,\n",
              " 'movie_99114': 687,\n",
              " 'movie_106489': 688,\n",
              " 'movie_115149': 689,\n",
              " 'movie_150548': 690,\n",
              " 'movie_168252': 691,\n",
              " 'movie_1961': 692,\n",
              " 'movie_47099': 693,\n",
              " 'movie_109374': 694,\n",
              " 'movie_6934': 695,\n",
              " 'movie_128360': 696,\n",
              " 'movie_174053': 697,\n",
              " 'movie_91542': 698,\n",
              " 'movie_7361': 699,\n",
              " 'movie_79702': 700,\n",
              " 'movie_97913': 701,\n",
              " 'movie_32587': 702,\n",
              " 'movie_77455': 703,\n",
              " 'movie_92535': 704,\n",
              " 'movie_1223': 705,\n",
              " 'movie_5669': 706,\n",
              " 'movie_89904': 707,\n",
              " 'movie_38038': 708,\n",
              " 'movie_106696': 709,\n",
              " 'movie_98491': 710,\n",
              " 'movie_108932': 711,\n",
              " 'movie_89753': 712,\n",
              " 'movie_111781': 713,\n",
              " 'movie_778': 714,\n",
              " 'movie_1293': 715,\n",
              " 'movie_4235': 716,\n",
              " 'movie_4973': 717,\n",
              " 'movie_5010': 718,\n",
              " 'movie_8376': 719,\n",
              " 'movie_27773': 720,\n",
              " 'movie_1217': 721,\n",
              " 'movie_4128': 722,\n",
              " 'movie_4380': 723,\n",
              " 'movie_5673': 724,\n",
              " 'movie_3535': 725,\n",
              " 'movie_6385': 726,\n",
              " 'movie_8917': 727,\n",
              " 'movie_3072': 728,\n",
              " 'movie_1096': 729,\n",
              " 'movie_1912': 730,\n",
              " 'movie_5690': 731,\n",
              " 'movie_8014': 732,\n",
              " 'movie_6188': 733,\n",
              " 'movie_30810': 734,\n",
              " 'movie_224': 735,\n",
              " 'movie_535': 736,\n",
              " 'movie_1266': 737,\n",
              " 'movie_1358': 738,\n",
              " 'movie_1748': 739,\n",
              " 'movie_2288': 740,\n",
              " 'movie_2648': 741,\n",
              " 'movie_3037': 742,\n",
              " 'movie_4226': 743,\n",
              " 'movie_5464': 744,\n",
              " 'movie_5617': 745,\n",
              " 'movie_1261': 746,\n",
              " 'movie_7147': 747,\n",
              " 'movie_1956': 748,\n",
              " 'movie_3201': 749,\n",
              " 'movie_5747': 750,\n",
              " 'movie_3074': 751,\n",
              " 'movie_5299': 752,\n",
              " 'movie_7018': 753,\n",
              " 'movie_4896': 754,\n",
              " 'movie_40815': 755,\n",
              " 'movie_44195': 756,\n",
              " 'movie_52973': 757,\n",
              " 'movie_71535': 758,\n",
              " 'movie_72998': 759,\n",
              " 'movie_81834': 760,\n",
              " 'movie_34162': 761,\n",
              " 'movie_59369': 762,\n",
              " 'movie_102445': 763,\n",
              " 'movie_8368': 764,\n",
              " 'movie_66934': 765,\n",
              " 'movie_53996': 766,\n",
              " 'movie_69069': 767,\n",
              " 'movie_64969': 768,\n",
              " 'movie_91500': 769,\n",
              " 'movie_2951': 770,\n",
              " 'movie_3175': 771,\n",
              " 'movie_4027': 772,\n",
              " 'movie_4874': 773,\n",
              " 'movie_1172': 774,\n",
              " 'movie_3359': 775,\n",
              " 'movie_3468': 776,\n",
              " 'movie_1300': 777,\n",
              " 'movie_8949': 778,\n",
              " 'movie_802': 779,\n",
              " 'movie_4979': 780,\n",
              " 'movie_6936': 781,\n",
              " 'movie_78499': 782,\n",
              " 'movie_86833': 783,\n",
              " 'movie_122892': 784,\n",
              " 'movie_1682': 785,\n",
              " 'movie_86332': 786,\n",
              " 'movie_87232': 787,\n",
              " 'movie_111362': 788,\n",
              " 'movie_60684': 789,\n",
              " 'movie_110102': 790,\n",
              " 'movie_1041': 791,\n",
              " 'movie_926': 792,\n",
              " 'movie_1230': 793,\n",
              " 'movie_1960': 794,\n",
              " 'movie_2908': 795,\n",
              " 'movie_3089': 796,\n",
              " 'movie_3307': 797,\n",
              " 'movie_6016': 798,\n",
              " 'movie_6591': 799,\n",
              " 'movie_46578': 800,\n",
              " 'movie_6666': 801,\n",
              " 'movie_41997': 802,\n",
              " 'movie_6791': 803,\n",
              " 'movie_6993': 804,\n",
              " 'movie_7323': 805,\n",
              " 'movie_6787': 806,\n",
              " 'movie_3681': 807,\n",
              " 'movie_34405': 808,\n",
              " 'movie_8961': 809,\n",
              " 'movie_1127': 810,\n",
              " 'movie_1192': 811,\n",
              " 'movie_1218': 812,\n",
              " 'movie_1610': 813,\n",
              " 'movie_3104': 814,\n",
              " 'movie_3266': 815,\n",
              " 'movie_44199': 816,\n",
              " 'movie_44665': 817,\n",
              " 'movie_91658': 818,\n",
              " 'movie_8798': 819,\n",
              " 'movie_8950': 820,\n",
              " 'movie_80831': 821,\n",
              " 'movie_94864': 822,\n",
              " 'movie_1225': 823,\n",
              " 'movie_25': 824,\n",
              " 'movie_52': 825,\n",
              " 'movie_299': 826,\n",
              " 'movie_348': 827,\n",
              " 'movie_800': 828,\n",
              " 'movie_1267': 829,\n",
              " 'movie_1292': 830,\n",
              " 'movie_1307': 831,\n",
              " 'movie_1131': 832,\n",
              " 'movie_412': 833,\n",
              " 'movie_1295': 834,\n",
              " 'movie_53': 835,\n",
              " 'movie_1185': 836,\n",
              " 'movie_5971': 837,\n",
              " 'movie_1884': 838,\n",
              " 'movie_48394': 839,\n",
              " 'movie_3785': 840,\n",
              " 'movie_14': 841,\n",
              " 'movie_85': 842,\n",
              " 'movie_1411': 843,\n",
              " 'movie_3429': 844,\n",
              " 'movie_3740': 845,\n",
              " 'movie_6659': 846,\n",
              " 'movie_7387': 847,\n",
              " 'movie_1129': 848,\n",
              " 'movie_3081': 849,\n",
              " 'movie_1274': 850,\n",
              " 'movie_6857': 851,\n",
              " 'movie_7360': 852,\n",
              " 'movie_2': 853,\n",
              " 'movie_2193': 854,\n",
              " 'movie_2916': 855,\n",
              " 'movie_1917': 856,\n",
              " 'movie_1175': 857,\n",
              " 'movie_1228': 858,\n",
              " 'movie_741': 859,\n",
              " 'movie_5072': 860,\n",
              " 'movie_2289': 861,\n",
              " 'movie_2294': 862,\n",
              " 'movie_3418': 863,\n",
              " 'movie_1296': 864,\n",
              " 'movie_3060': 865,\n",
              " 'movie_3623': 866,\n",
              " 'movie_74458': 867,\n",
              " 'movie_88163': 868,\n",
              " 'movie_122916': 869,\n",
              " 'movie_122926': 870,\n",
              " 'movie_164179': 871,\n",
              " 'movie_177765': 872,\n",
              " 'movie_97921': 873,\n",
              " 'movie_225': 874,\n",
              " 'movie_252': 875,\n",
              " 'movie_1958': 876,\n",
              " 'movie_2318': 877,\n",
              " 'movie_3174': 878,\n",
              " 'movie_18': 879,\n",
              " 'movie_3160': 880,\n",
              " 'movie_55247': 881,\n",
              " 'movie_64614': 882,\n",
              " 'movie_2087': 883,\n",
              " 'movie_148626': 884,\n",
              " 'movie_4873': 885,\n",
              " 'movie_4881': 886,\n",
              " 'movie_4019': 887,\n",
              " 'movie_2671': 888,\n",
              " 'movie_7034': 889,\n",
              " 'movie_106920': 890,\n",
              " 'movie_159817': 891,\n",
              " 'movie_52281': 892,\n",
              " 'movie_170705': 893,\n",
              " 'movie_1281': 894,\n",
              " 'movie_69757': 895,\n",
              " 'movie_7371': 896,\n",
              " 'movie_2131': 897,\n",
              " 'movie_96829': 898,\n",
              " 'movie_171011': 899,\n",
              " 'movie_104374': 900,\n",
              " 'movie_45722': 901,\n",
              " 'movie_59784': 902,\n",
              " 'movie_88125': 903,\n",
              " 'movie_69844': 904,\n",
              " 'movie_53125': 905,\n",
              " 'movie_141': 906,\n",
              " 'movie_5445': 907,\n",
              " 'movie_175': 908,\n",
              " 'movie_119145': 909,\n",
              " 'movie_37384': 910,\n",
              " 'movie_61024': 911,\n",
              " 'movie_87529': 912,\n",
              " 'movie_48322': 913,\n",
              " 'movie_128520': 914,\n",
              " 'movie_85367': 915,\n",
              " 'movie_102903': 916,\n",
              " 'movie_902': 917,\n",
              " 'movie_2080': 918,\n",
              " 'movie_3296': 919,\n",
              " 'movie_932': 920,\n",
              " 'movie_933': 921,\n",
              " 'movie_1683': 922,\n",
              " 'movie_3099': 923,\n",
              " 'movie_2132': 924,\n",
              " 'movie_3831': 925,\n",
              " 'movie_1407': 926,\n",
              " 'movie_3499': 927,\n",
              " 'movie_1566': 928,\n",
              " 'movie_2792': 929,\n",
              " 'movie_170': 930,\n",
              " 'movie_30707': 931,\n",
              " 'movie_104913': 932,\n",
              " 'movie_67255': 933,\n",
              " 'movie_114662': 934,\n",
              " 'movie_80463': 935,\n",
              " 'movie_96861': 936,\n",
              " 'movie_105504': 937,\n",
              " 'movie_714': 938,\n",
              " 'movie_1199': 939,\n",
              " 'movie_1394': 940,\n",
              " 'movie_55765': 941,\n",
              " 'movie_93840': 942,\n",
              " 'movie_96737': 943,\n",
              " 'movie_139385': 944,\n",
              " 'movie_31658': 945,\n",
              " 'movie_54503': 946,\n",
              " 'movie_51540': 947,\n",
              " 'movie_56782': 948,\n",
              " 'movie_72226': 949,\n",
              " 'movie_103341': 950,\n",
              " 'movie_121231': 951,\n",
              " 'movie_2455': 952,\n",
              " 'movie_5110': 953,\n",
              " 'movie_86345': 954,\n",
              " 'movie_86377': 955,\n",
              " 'movie_61323': 956,\n",
              " 'movie_94959': 957,\n",
              " 'movie_1237': 958,\n",
              " 'movie_4776': 959,\n",
              " 'movie_86347': 960,\n",
              " 'movie_115122': 961,\n",
              " 'movie_81591': 962,\n",
              " 'movie_171763': 963,\n",
              " 'movie_7022': 964,\n",
              " 'movie_7254': 965,\n",
              " 'movie_8254': 966,\n",
              " 'movie_9010': 967,\n",
              " 'movie_2600': 968,\n",
              " 'movie_54190': 969,\n",
              " 'movie_905': 970,\n",
              " 'movie_945': 971,\n",
              " 'movie_1676': 972,\n",
              " 'movie_3556': 973,\n",
              " 'movie_161': 974,\n",
              " 'movie_485': 975,\n",
              " 'movie_1883': 976,\n",
              " 'movie_2409': 977,\n",
              " 'movie_2064': 978,\n",
              " 'movie_440': 979,\n",
              " 'movie_207': 980,\n",
              " 'movie_188': 981,\n",
              " 'movie_1949': 982,\n",
              " 'movie_951': 983,\n",
              " 'movie_2924': 984,\n",
              " 'movie_1019': 985,\n",
              " 'movie_1957': 986,\n",
              " 'movie_4223': 987,\n",
              " 'movie_6947': 988,\n",
              " 'movie_3155': 989,\n",
              " 'movie_3916': 990,\n",
              " 'movie_3685': 991,\n",
              " 'movie_3255': 992,\n",
              " 'movie_4327': 993,\n",
              " 'movie_6378': 994,\n",
              " 'movie_3178': 995,\n",
              " 'movie_2144': 996,\n",
              " 'movie_81847': 997,\n",
              " 'movie_4447': 998,\n",
              " 'movie_5066': 999,\n",
              " ...}"
            ]
          },
          "metadata": {}
        }
      ]
    },
    {
      "cell_type": "markdown",
      "metadata": {
        "id": "PKiQJKSbMV3e"
      },
      "source": [
        "## Step 2: Use biased random walk to generate training data"
      ]
    },
    {
      "cell_type": "markdown",
      "source": [
        "### Implement the biased random walk\n",
        "\n",
        "A random walk starts from a given node, and randomly picks a neighbour node to move to.\n",
        "If the edges are weighted, the neighbour is selected *probabilistically* with\n",
        "respect to weights of the edges between the current node and its neighbours.\n",
        "This procedure is repeated for `num_steps` to generate a sequence of *related* nodes.\n",
        "\n",
        "The [*biased* random walk](https://en.wikipedia.org/wiki/Biased_random_walk_on_a_graph) balances between **breadth-first sampling**\n",
        "(where only local neighbours are visited) and **depth-first sampling**\n",
        "(where  distant neighbours are visited) by introducing the following two parameters:\n",
        "\n",
        "1. **Return parameter** (`p`): Controls the likelihood of immediately revisiting\n",
        "a node in the walk. Setting it to a high value encourages moderate exploration,\n",
        "while setting it to a low value would keep the walk local.\n",
        "2. **In-out parameter** (`q`): Allows the search to differentiate\n",
        "between *inward* and *outward* nodes. Setting it to a high value biases the\n",
        "random walk towards local nodes, while setting it to a low value biases the walk\n",
        "to visit nodes which are further away."
      ],
      "metadata": {
        "id": "U9rj3AwKfp49"
      }
    },
    {
      "cell_type": "code",
      "execution_count": 17,
      "metadata": {
        "id": "aJHkigKoMV3e"
      },
      "outputs": [],
      "source": [
        "def next_step(graph, previous, current, p, q):\n",
        "\n",
        "    neighbors = list(graph.neighbors(current))\n",
        "    weights = []\n",
        "\n",
        "    for neighbor in neighbors:\n",
        "        \n",
        "        if neighbor == previous:            \n",
        "            weights.append(graph[current][neighbor][\"weight\"] / p)\n",
        "\n",
        "        elif graph.has_edge(neighbor, previous):            \n",
        "            weights.append(graph[current][neighbor][\"weight\"])\n",
        "\n",
        "        else:\n",
        "            weights.append(graph[current][neighbor][\"weight\"] / q)\n",
        "    \n",
        "    weight_sum = sum(weights)\n",
        "    probabilities = [weight / weight_sum for weight in weights]\n",
        "    next = np.random.choice(neighbors, size=1, p=probabilities)[0]\n",
        "    return next"
      ]
    },
    {
      "cell_type": "code",
      "source": [
        "def random_walk(graph, num_walks, num_steps, p, q):\n",
        "    \n",
        "    walks = []\n",
        "    nodes = list(graph.nodes())\n",
        "    \n",
        "    for walk_iteration in range(num_walks):\n",
        "        random.shuffle(nodes)\n",
        "\n",
        "        for node in nodes:\n",
        "            \n",
        "            walk = [node]\n",
        "            \n",
        "            while len(walk) < num_steps:\n",
        "\n",
        "                current = walk[-1]\n",
        "                previous = walk[-2] if len(walk) > 1 else None\n",
        "                next = next_step(graph, previous, current, p, q)\n",
        "                walk.append(next)\n",
        "\n",
        "            walk = [vocabulary_lookup[token] for token in walk]\n",
        "            walks.append(walk)\n",
        "\n",
        "    return walks"
      ],
      "metadata": {
        "id": "ocmtse5xUqTI"
      },
      "execution_count": 18,
      "outputs": []
    },
    {
      "cell_type": "code",
      "execution_count": 19,
      "metadata": {
        "id": "m4PdbHkRMV3e",
        "outputId": "7ebe00e2-908a-44a0-edc6-49908a4c309c",
        "colab": {
          "base_uri": "https://localhost:8080/",
          "height": 35
        }
      },
      "outputs": [
        {
          "output_type": "display_data",
          "data": {
            "text/plain": [
              "'Number of walks generated: 7025'"
            ],
            "application/vnd.google.colaboratory.intrinsic+json": {
              "type": "string"
            }
          },
          "metadata": {}
        }
      ],
      "source": [
        "p = 1\n",
        "q = 1\n",
        "num_walks = 5\n",
        "num_steps = 10\n",
        "walks = random_walk(movies_graph, num_walks, num_steps, p, q)\n",
        "\n",
        "print(f\"Number of walks generated: {len(walks)}\")"
      ]
    },
    {
      "cell_type": "markdown",
      "metadata": {
        "id": "lZXu2rMPMV3e"
      },
      "source": [
        "### Generate positive and negative examples\n",
        "\n",
        "To train a skip-gram model, we use the generated walks to create positive and\n",
        "negative training examples. Each example includes the following features:\n",
        "\n",
        "1. `target`: A movie in a walk sequence.\n",
        "2. `context`: Another movie in a walk sequence.\n",
        "3. `weight`: How many times these two movies occured in walk sequences.\n",
        "4. `label`: The label is 1 if these two movies are samples from the walk sequences,\n",
        "otherwise (i.e., if randomly sampled) the label is 0."
      ]
    },
    {
      "cell_type": "code",
      "execution_count": 20,
      "metadata": {
        "id": "X5udUmq1MV3f"
      },
      "outputs": [],
      "source": [
        "def generate_examples(sequences, window_size, num_negative_samples, vocabulary_size):\n",
        "    \n",
        "    example_weights = defaultdict(int)\n",
        "\n",
        "    for sequence in sequences:\n",
        "\n",
        "        pairs, labels = keras.preprocessing.sequence.skipgrams(\n",
        "            sequence,\n",
        "            vocabulary_size=vocabulary_size,\n",
        "            window_size=window_size,\n",
        "            negative_samples=num_negative_samples,\n",
        "        )\n",
        "\n",
        "        for idx in range(len(pairs)):\n",
        "            pair = pairs[idx]\n",
        "            label = labels[idx]\n",
        "            target, context = min(pair[0], pair[1]), max(pair[0], pair[1])\n",
        "            if target == context:\n",
        "                continue\n",
        "            entry = (target, context, label)\n",
        "            example_weights[entry] += 1\n",
        "\n",
        "    targets, contexts, labels, weights = [], [], [], []\n",
        "    for entry in example_weights:\n",
        "        \n",
        "        weight = example_weights[entry]\n",
        "        target, context, label = entry\n",
        "        targets.append(target)\n",
        "        contexts.append(context)\n",
        "        labels.append(label)\n",
        "        weights.append(weight)\n",
        "\n",
        "    return np.array(targets), np.array(contexts), np.array(labels), np.array(weights)"
      ]
    },
    {
      "cell_type": "code",
      "source": [
        "num_negative_samples = 4\n",
        "targets, contexts, labels, weights = generate_examples(\n",
        "    sequences=walks,\n",
        "    window_size=num_steps,\n",
        "    num_negative_samples=num_negative_samples,\n",
        "    vocabulary_size=len(vocabulary),\n",
        ")"
      ],
      "metadata": {
        "id": "3-rw_4D8Vo4S"
      },
      "execution_count": 21,
      "outputs": []
    },
    {
      "cell_type": "code",
      "execution_count": 22,
      "metadata": {
        "id": "9MF_gCLTMV3f",
        "outputId": "f9a8f1b2-ca1c-4766-a8cd-cc71326522ef",
        "colab": {
          "base_uri": "https://localhost:8080/",
          "height": 90
        }
      },
      "outputs": [
        {
          "output_type": "display_data",
          "data": {
            "text/plain": [
              "'Targets shape: (880445,)'"
            ],
            "application/vnd.google.colaboratory.intrinsic+json": {
              "type": "string"
            }
          },
          "metadata": {}
        },
        {
          "output_type": "display_data",
          "data": {
            "text/plain": [
              "'Contexts shape: (880445,)'"
            ],
            "application/vnd.google.colaboratory.intrinsic+json": {
              "type": "string"
            }
          },
          "metadata": {}
        },
        {
          "output_type": "display_data",
          "data": {
            "text/plain": [
              "'Labels shape: (880445,)'"
            ],
            "application/vnd.google.colaboratory.intrinsic+json": {
              "type": "string"
            }
          },
          "metadata": {}
        },
        {
          "output_type": "display_data",
          "data": {
            "text/plain": [
              "'Weights shape: (880445,)'"
            ],
            "application/vnd.google.colaboratory.intrinsic+json": {
              "type": "string"
            }
          },
          "metadata": {}
        }
      ],
      "source": [
        "print(f\"Targets shape: {targets.shape}\")\n",
        "print(f\"Contexts shape: {contexts.shape}\")\n",
        "print(f\"Labels shape: {labels.shape}\")\n",
        "print(f\"Weights shape: {weights.shape}\")"
      ]
    },
    {
      "cell_type": "markdown",
      "metadata": {
        "id": "nNPz9RUjMV3f"
      },
      "source": [
        "### Convert the data into `tf.data.Dataset` objects"
      ]
    },
    {
      "cell_type": "code",
      "execution_count": 23,
      "metadata": {
        "id": "IwkvGDDCMV3f"
      },
      "outputs": [],
      "source": [
        "def create_dataset(targets, contexts, labels, weights, batch_size):\n",
        "    inputs = {\n",
        "        \"target\": targets,\n",
        "        \"context\": contexts,\n",
        "    }\n",
        "    dataset = tf.data.Dataset.from_tensor_slices((inputs, labels, weights))\n",
        "    dataset = dataset.shuffle(buffer_size=batch_size * 2)\n",
        "    dataset = dataset.batch(batch_size, drop_remainder=True)\n",
        "    dataset = dataset.prefetch(tf.data.AUTOTUNE)\n",
        "    return dataset"
      ]
    },
    {
      "cell_type": "code",
      "source": [
        "batch_size = 1024\n",
        "\n",
        "dataset = create_dataset(\n",
        "    targets=targets,\n",
        "    contexts=contexts,\n",
        "    labels=labels,\n",
        "    weights=weights,\n",
        "    batch_size=batch_size,\n",
        ")"
      ],
      "metadata": {
        "id": "jOIEwarGWQDV"
      },
      "execution_count": 24,
      "outputs": []
    },
    {
      "cell_type": "markdown",
      "metadata": {
        "id": "HU_MdODdMV3f"
      },
      "source": [
        "# Train the skip-gram model\n",
        "\n"
      ]
    },
    {
      "cell_type": "markdown",
      "source": [
        "Our skip-gram is a simple binary classification model that works as follows:\n",
        "\n",
        "1. An embedding is looked up for the `target` movie.\n",
        "2. An embedding is looked up for the `context` movie.\n",
        "3. The dot product is computed between these two embeddings.\n",
        "4. The result (after a sigmoid activation) is compared to the label.\n",
        "5. A binary crossentropy loss is used."
      ],
      "metadata": {
        "id": "CJvgK28rgA72"
      }
    },
    {
      "cell_type": "code",
      "execution_count": 25,
      "metadata": {
        "id": "bpChe4hlMV3g"
      },
      "outputs": [],
      "source": [
        "learning_rate = 0.001\n",
        "embedding_dim = 32\n",
        "num_epochs = 10"
      ]
    },
    {
      "cell_type": "markdown",
      "metadata": {
        "id": "OOBP8J6FMV3g"
      },
      "source": [
        "### Build the model"
      ]
    },
    {
      "cell_type": "code",
      "execution_count": 26,
      "metadata": {
        "id": "RPUEDOTwMV3g"
      },
      "outputs": [],
      "source": [
        "def create_model(vocabulary_size, embedding_dim):\n",
        "\n",
        "    inputs = {\n",
        "        \"target\": layers.Input(name=\"target\", shape=(), dtype=\"int32\"),\n",
        "        \"context\": layers.Input(name=\"context\", shape=(), dtype=\"int32\"),\n",
        "    }\n",
        "\n",
        "    embed_item = layers.Embedding(\n",
        "        input_dim=vocabulary_size,\n",
        "        output_dim=embedding_dim,\n",
        "        embeddings_initializer=\"he_normal\",\n",
        "        embeddings_regularizer=keras.regularizers.l2(1e-6),\n",
        "        name=\"item_embeddings\",\n",
        "    )\n",
        "\n",
        "    target_embeddings = embed_item(inputs[\"target\"])\n",
        "    context_embeddings = embed_item(inputs[\"context\"])\n",
        "    \n",
        "    logits = layers.Dot(axes=1, normalize=False, name=\"dot_similarity\")(\n",
        "        [target_embeddings, context_embeddings]\n",
        "    )\n",
        "    \n",
        "    model = keras.Model(inputs=inputs, outputs=logits)\n",
        "    return model"
      ]
    },
    {
      "cell_type": "markdown",
      "metadata": {
        "id": "vXuGUWKwMV3g"
      },
      "source": [
        "### Train the model"
      ]
    },
    {
      "cell_type": "code",
      "execution_count": 27,
      "metadata": {
        "id": "UP3VBACxMV3g"
      },
      "outputs": [],
      "source": [
        "model = create_model(len(vocabulary), embedding_dim)\n",
        "model.compile(\n",
        "    optimizer=keras.optimizers.Adam(learning_rate),\n",
        "    loss=keras.losses.BinaryCrossentropy(from_logits=True),\n",
        ")"
      ]
    },
    {
      "cell_type": "code",
      "execution_count": 28,
      "metadata": {
        "id": "MVymnR3HMV3g",
        "outputId": "313be1de-b44a-46cc-8fab-d2f6c66af7e8",
        "colab": {
          "base_uri": "https://localhost:8080/",
          "height": 404
        }
      },
      "outputs": [
        {
          "output_type": "execute_result",
          "data": {
            "text/plain": [
              "<IPython.core.display.Image object>"
            ],
            "image/png": "[encoded data removed]"
          },
          "metadata": {},
          "execution_count": 28
        }
      ],
      "source": [
        "keras.utils.plot_model(\n",
        "    model, show_shapes=True, show_dtype=True, show_layer_names=True,\n",
        ")"
      ]
    },
    {
      "cell_type": "code",
      "execution_count": 29,
      "metadata": {
        "id": "lBAdzJ8UMV3h",
        "outputId": "54e99ddf-34b3-448b-cba2-8b4845ec2a01",
        "colab": {
          "base_uri": "https://localhost:8080/"
        }
      },
      "outputs": [
        {
          "output_type": "stream",
          "name": "stdout",
          "text": [
            "Epoch 1/10\n",
            "859/859 [==============================] - 6s 6ms/step - loss: 2.4590\n",
            "Epoch 2/10\n",
            "859/859 [==============================] - 5s 6ms/step - loss: 2.3521\n",
            "Epoch 3/10\n",
            "859/859 [==============================] - 5s 6ms/step - loss: 2.3408\n",
            "Epoch 4/10\n",
            "859/859 [==============================] - 5s 6ms/step - loss: 2.3368\n",
            "Epoch 5/10\n",
            "859/859 [==============================] - 5s 6ms/step - loss: 2.3335\n",
            "Epoch 6/10\n",
            "859/859 [==============================] - 8s 9ms/step - loss: 2.3293\n",
            "Epoch 7/10\n",
            "859/859 [==============================] - 5s 6ms/step - loss: 2.3255\n",
            "Epoch 8/10\n",
            "859/859 [==============================] - 5s 6ms/step - loss: 2.3228\n",
            "Epoch 9/10\n",
            "859/859 [==============================] - 5s 6ms/step - loss: 2.3208\n",
            "Epoch 10/10\n",
            "859/859 [==============================] - 5s 6ms/step - loss: 2.3192\n"
          ]
        }
      ],
      "source": [
        "history = model.fit(dataset, epochs=num_epochs)"
      ]
    },
    {
      "cell_type": "markdown",
      "metadata": {
        "id": "mpqFx9k2MV3h"
      },
      "source": [
        "### Test the model by query movies"
      ]
    },
    {
      "cell_type": "code",
      "source": [
        "def get_movie_title_by_id(movieId):\n",
        "    return list(movies[movies.movieId == movieId].title)[0]"
      ],
      "metadata": {
        "id": "03OiJ0YMW48k"
      },
      "execution_count": 30,
      "outputs": []
    },
    {
      "cell_type": "code",
      "source": [
        "def get_movie_id_by_title(title):\n",
        "    return list(movies[movies.title == title].movieId)[0]"
      ],
      "metadata": {
        "id": "6j06fsMeW_ck"
      },
      "execution_count": 31,
      "outputs": []
    },
    {
      "cell_type": "code",
      "source": [
        "movie_embeddings = model.get_layer(\"item_embeddings\").get_weights()[0]\n",
        "print(\"Embeddings shape:\", movie_embeddings.shape)"
      ],
      "metadata": {
        "colab": {
          "base_uri": "https://localhost:8080/",
          "height": 53
        },
        "id": "vdbnrYzTnJ36",
        "outputId": "b4465d73-272b-4329-e81e-feb40b1dafcf"
      },
      "execution_count": 32,
      "outputs": [
        {
          "output_type": "display_data",
          "data": {
            "text/plain": [
              "'Embeddings shape:'"
            ],
            "application/vnd.google.colaboratory.intrinsic+json": {
              "type": "string"
            }
          },
          "metadata": {}
        },
        {
          "output_type": "display_data",
          "data": {
            "text/plain": [
              "(1406, 32)"
            ]
          },
          "metadata": {}
        }
      ]
    },
    {
      "cell_type": "code",
      "execution_count": 33,
      "metadata": {
        "id": "BU6GbEEQMV3h",
        "colab": {
          "base_uri": "https://localhost:8080/",
          "height": 191
        },
        "outputId": "15a1cb53-1e3f-4760-de0b-3b9ff9ca9a52"
      },
      "outputs": [
        {
          "output_type": "display_data",
          "data": {
            "text/plain": [
              "['Gran Torino (2008)',\n",
              " 'Dave (1993)',\n",
              " 'Garden State (2004)',\n",
              " 'Pianist, The (2002)',\n",
              " 'Nine Months (1995)',\n",
              " 'Elf (2003)',\n",
              " 'Wallace & Gromit: The Wrong Trousers (1993)',\n",
              " 'Major Payne (1995)',\n",
              " 'Kill Bill: Vol. 2 (2004)',\n",
              " \"Jacob's Ladder (1990)\"]"
            ]
          },
          "metadata": {}
        }
      ],
      "source": [
        "movie_in_graph = []\n",
        "for node in list(movies_graph.nodes):\n",
        "    movie_in_graph.append(get_movie_title_by_id(node))\n",
        "\n",
        "num_queries = 10\n",
        "\n",
        "query_movies = random.choices(movie_in_graph, k=num_queries)\n",
        "print(query_movies)"
      ]
    },
    {
      "cell_type": "code",
      "execution_count": 34,
      "metadata": {
        "id": "WQTysF9nMV3i"
      },
      "outputs": [],
      "source": [
        "query_embeddings = []\n",
        "\n",
        "for movie_title in query_movies:\n",
        "    movieId = get_movie_id_by_title(movie_title)\n",
        "    token_id = vocabulary_lookup[movieId]\n",
        "    movie_embedding = movie_embeddings[token_id]\n",
        "    query_embeddings.append(movie_embedding)\n",
        "\n",
        "query_embeddings = np.array(query_embeddings)"
      ]
    },
    {
      "cell_type": "code",
      "execution_count": 35,
      "metadata": {
        "id": "5CyTlCR9MV3i"
      },
      "outputs": [],
      "source": [
        "# Compute cosine similarity between the embeddings of queries and other movies\n",
        "similarities = tf.linalg.matmul(\n",
        "    tf.math.l2_normalize(query_embeddings, axis=1),\n",
        "    tf.math.l2_normalize(movie_embeddings, axis=1),\n",
        "    transpose_b=True,\n",
        ")\n",
        "\n",
        "_, indices = tf.math.top_k(similarities, k=5)\n",
        "indices = indices.numpy().tolist()"
      ]
    },
    {
      "cell_type": "code",
      "execution_count": 36,
      "metadata": {
        "id": "26bPLn0YMV3i",
        "outputId": "8e057b2c-2915-429a-87c1-b9993e4b8dde",
        "colab": {
          "base_uri": "https://localhost:8080/",
          "height": 1000
        }
      },
      "outputs": [
        {
          "output_type": "display_data",
          "data": {
            "text/plain": [
              "'Gran Torino (2008)'"
            ],
            "application/vnd.google.colaboratory.intrinsic+json": {
              "type": "string"
            }
          },
          "metadata": {}
        },
        {
          "output_type": "display_data",
          "data": {
            "text/plain": [
              "'------------------'"
            ],
            "application/vnd.google.colaboratory.intrinsic+json": {
              "type": "string"
            }
          },
          "metadata": {}
        },
        {
          "output_type": "display_data",
          "data": {
            "text/plain": [
              "'- Gran Torino (2008), 1.00'"
            ],
            "application/vnd.google.colaboratory.intrinsic+json": {
              "type": "string"
            }
          },
          "metadata": {}
        },
        {
          "output_type": "display_data",
          "data": {
            "text/plain": [
              "'- Iron Man 3 (2013), 0.78'"
            ],
            "application/vnd.google.colaboratory.intrinsic+json": {
              "type": "string"
            }
          },
          "metadata": {}
        },
        {
          "output_type": "display_data",
          "data": {
            "text/plain": [
              "'- Dredd (2012), 0.75'"
            ],
            "application/vnd.google.colaboratory.intrinsic+json": {
              "type": "string"
            }
          },
          "metadata": {}
        },
        {
          "output_type": "display_data",
          "data": {
            "text/plain": [
              "'- Fistful of Dollars, A (Per un pugno di dollari) (1964), 0.75'"
            ],
            "application/vnd.google.colaboratory.intrinsic+json": {
              "type": "string"
            }
          },
          "metadata": {}
        },
        {
          "output_type": "display_data",
          "data": {
            "text/plain": [
              "'- Old Boy (2003), 0.74'"
            ],
            "application/vnd.google.colaboratory.intrinsic+json": {
              "type": "string"
            }
          },
          "metadata": {}
        },
        {
          "output_type": "display_data",
          "data": {
            "text/plain": [
              "'Dave (1993)'"
            ],
            "application/vnd.google.colaboratory.intrinsic+json": {
              "type": "string"
            }
          },
          "metadata": {}
        },
        {
          "output_type": "display_data",
          "data": {
            "text/plain": [
              "'-----------'"
            ],
            "application/vnd.google.colaboratory.intrinsic+json": {
              "type": "string"
            }
          },
          "metadata": {}
        },
        {
          "output_type": "display_data",
          "data": {
            "text/plain": [
              "'- Dave (1993), 1.00'"
            ],
            "application/vnd.google.colaboratory.intrinsic+json": {
              "type": "string"
            }
          },
          "metadata": {}
        },
        {
          "output_type": "display_data",
          "data": {
            "text/plain": [
              "'- Nell (1994), 0.86'"
            ],
            "application/vnd.google.colaboratory.intrinsic+json": {
              "type": "string"
            }
          },
          "metadata": {}
        },
        {
          "output_type": "display_data",
          "data": {
            "text/plain": [
              "'- Disclosure (1994), 0.84'"
            ],
            "application/vnd.google.colaboratory.intrinsic+json": {
              "type": "string"
            }
          },
          "metadata": {}
        },
        {
          "output_type": "display_data",
          "data": {
            "text/plain": [
              "'- Little Women (1994), 0.83'"
            ],
            "application/vnd.google.colaboratory.intrinsic+json": {
              "type": "string"
            }
          },
          "metadata": {}
        },
        {
          "output_type": "display_data",
          "data": {
            "text/plain": [
              "'- White Squall (1996), 0.82'"
            ],
            "application/vnd.google.colaboratory.intrinsic+json": {
              "type": "string"
            }
          },
          "metadata": {}
        },
        {
          "output_type": "display_data",
          "data": {
            "text/plain": [
              "'Garden State (2004)'"
            ],
            "application/vnd.google.colaboratory.intrinsic+json": {
              "type": "string"
            }
          },
          "metadata": {}
        },
        {
          "output_type": "display_data",
          "data": {
            "text/plain": [
              "'-------------------'"
            ],
            "application/vnd.google.colaboratory.intrinsic+json": {
              "type": "string"
            }
          },
          "metadata": {}
        },
        {
          "output_type": "display_data",
          "data": {
            "text/plain": [
              "'- Garden State (2004), 1.00'"
            ],
            "application/vnd.google.colaboratory.intrinsic+json": {
              "type": "string"
            }
          },
          "metadata": {}
        },
        {
          "output_type": "display_data",
          "data": {
            "text/plain": [
              "'- Gone Girl (2014), 0.71'"
            ],
            "application/vnd.google.colaboratory.intrinsic+json": {
              "type": "string"
            }
          },
          "metadata": {}
        },
        {
          "output_type": "display_data",
          "data": {
            "text/plain": [
              "'- Collateral (2004), 0.71'"
            ],
            "application/vnd.google.colaboratory.intrinsic+json": {
              "type": "string"
            }
          },
          "metadata": {}
        },
        {
          "output_type": "display_data",
          "data": {
            "text/plain": [
              "'- Frozen (2013), 0.70'"
            ],
            "application/vnd.google.colaboratory.intrinsic+json": {
              "type": "string"
            }
          },
          "metadata": {}
        },
        {
          "output_type": "display_data",
          "data": {
            "text/plain": [
              "'- Dallas Buyers Club (2013), 0.67'"
            ],
            "application/vnd.google.colaboratory.intrinsic+json": {
              "type": "string"
            }
          },
          "metadata": {}
        },
        {
          "output_type": "display_data",
          "data": {
            "text/plain": [
              "'Pianist, The (2002)'"
            ],
            "application/vnd.google.colaboratory.intrinsic+json": {
              "type": "string"
            }
          },
          "metadata": {}
        },
        {
          "output_type": "display_data",
          "data": {
            "text/plain": [
              "'-------------------'"
            ],
            "application/vnd.google.colaboratory.intrinsic+json": {
              "type": "string"
            }
          },
          "metadata": {}
        },
        {
          "output_type": "display_data",
          "data": {
            "text/plain": [
              "'- Pianist, The (2002), 1.00'"
            ],
            "application/vnd.google.colaboratory.intrinsic+json": {
              "type": "string"
            }
          },
          "metadata": {}
        },
        {
          "output_type": "display_data",
          "data": {
            "text/plain": [
              "'- Captain America: Civil War (2016), 0.83'"
            ],
            "application/vnd.google.colaboratory.intrinsic+json": {
              "type": "string"
            }
          },
          "metadata": {}
        },
        {
          "output_type": "display_data",
          "data": {
            "text/plain": [
              "'- Old Boy (2003), 0.80'"
            ],
            "application/vnd.google.colaboratory.intrinsic+json": {
              "type": "string"
            }
          },
          "metadata": {}
        },
        {
          "output_type": "display_data",
          "data": {
            "text/plain": [
              "'- 3:10 to Yuma (2007), 0.79'"
            ],
            "application/vnd.google.colaboratory.intrinsic+json": {
              "type": "string"
            }
          },
          "metadata": {}
        },
        {
          "output_type": "display_data",
          "data": {
            "text/plain": [
              "\"- Pan's Labyrinth (Laberinto del fauno, El) (2006), 0.79\""
            ],
            "application/vnd.google.colaboratory.intrinsic+json": {
              "type": "string"
            }
          },
          "metadata": {}
        },
        {
          "output_type": "display_data",
          "data": {
            "text/plain": [
              "'Nine Months (1995)'"
            ],
            "application/vnd.google.colaboratory.intrinsic+json": {
              "type": "string"
            }
          },
          "metadata": {}
        },
        {
          "output_type": "display_data",
          "data": {
            "text/plain": [
              "'------------------'"
            ],
            "application/vnd.google.colaboratory.intrinsic+json": {
              "type": "string"
            }
          },
          "metadata": {}
        },
        {
          "output_type": "display_data",
          "data": {
            "text/plain": [
              "'- Nine Months (1995), 1.00'"
            ],
            "application/vnd.google.colaboratory.intrinsic+json": {
              "type": "string"
            }
          },
          "metadata": {}
        },
        {
          "output_type": "display_data",
          "data": {
            "text/plain": [
              "'- Waiting... (2005), 0.92'"
            ],
            "application/vnd.google.colaboratory.intrinsic+json": {
              "type": "string"
            }
          },
          "metadata": {}
        },
        {
          "output_type": "display_data",
          "data": {
            "text/plain": [
              "'- Lilo & Stitch (2002), 0.92'"
            ],
            "application/vnd.google.colaboratory.intrinsic+json": {
              "type": "string"
            }
          },
          "metadata": {}
        },
        {
          "output_type": "display_data",
          "data": {
            "text/plain": [
              "'- Tea with Mussolini (1999), 0.92'"
            ],
            "application/vnd.google.colaboratory.intrinsic+json": {
              "type": "string"
            }
          },
          "metadata": {}
        },
        {
          "output_type": "display_data",
          "data": {
            "text/plain": [
              "'- Chitty Chitty Bang Bang (1968), 0.92'"
            ],
            "application/vnd.google.colaboratory.intrinsic+json": {
              "type": "string"
            }
          },
          "metadata": {}
        },
        {
          "output_type": "display_data",
          "data": {
            "text/plain": [
              "'Elf (2003)'"
            ],
            "application/vnd.google.colaboratory.intrinsic+json": {
              "type": "string"
            }
          },
          "metadata": {}
        },
        {
          "output_type": "display_data",
          "data": {
            "text/plain": [
              "'----------'"
            ],
            "application/vnd.google.colaboratory.intrinsic+json": {
              "type": "string"
            }
          },
          "metadata": {}
        },
        {
          "output_type": "display_data",
          "data": {
            "text/plain": [
              "'- Elf (2003), 1.00'"
            ],
            "application/vnd.google.colaboratory.intrinsic+json": {
              "type": "string"
            }
          },
          "metadata": {}
        },
        {
          "output_type": "display_data",
          "data": {
            "text/plain": [
              "'- Paperman (2012), 0.68'"
            ],
            "application/vnd.google.colaboratory.intrinsic+json": {
              "type": "string"
            }
          },
          "metadata": {}
        },
        {
          "output_type": "display_data",
          "data": {
            "text/plain": [
              "'- Star Wars: Episode VII - The Force Awakens (2015), 0.65'"
            ],
            "application/vnd.google.colaboratory.intrinsic+json": {
              "type": "string"
            }
          },
          "metadata": {}
        },
        {
          "output_type": "display_data",
          "data": {
            "text/plain": [
              "'- Nightmare on Elm Street, A (1984), 0.64'"
            ],
            "application/vnd.google.colaboratory.intrinsic+json": {
              "type": "string"
            }
          },
          "metadata": {}
        },
        {
          "output_type": "display_data",
          "data": {
            "text/plain": [
              "'- Taking of Pelham One Two Three, The (1974), 0.63'"
            ],
            "application/vnd.google.colaboratory.intrinsic+json": {
              "type": "string"
            }
          },
          "metadata": {}
        },
        {
          "output_type": "display_data",
          "data": {
            "text/plain": [
              "'Wallace & Gromit: The Wrong Trousers (1993)'"
            ],
            "application/vnd.google.colaboratory.intrinsic+json": {
              "type": "string"
            }
          },
          "metadata": {}
        },
        {
          "output_type": "display_data",
          "data": {
            "text/plain": [
              "'-------------------------------------------'"
            ],
            "application/vnd.google.colaboratory.intrinsic+json": {
              "type": "string"
            }
          },
          "metadata": {}
        },
        {
          "output_type": "display_data",
          "data": {
            "text/plain": [
              "'- Wallace & Gromit: The Wrong Trousers (1993), 1.00'"
            ],
            "application/vnd.google.colaboratory.intrinsic+json": {
              "type": "string"
            }
          },
          "metadata": {}
        },
        {
          "output_type": "display_data",
          "data": {
            "text/plain": [
              "'- Good Will Hunting (1997), 0.92'"
            ],
            "application/vnd.google.colaboratory.intrinsic+json": {
              "type": "string"
            }
          },
          "metadata": {}
        },
        {
          "output_type": "display_data",
          "data": {
            "text/plain": [
              "'- Fish Called Wanda, A (1988), 0.92'"
            ],
            "application/vnd.google.colaboratory.intrinsic+json": {
              "type": "string"
            }
          },
          "metadata": {}
        },
        {
          "output_type": "display_data",
          "data": {
            "text/plain": [
              "'- Animal House (1978), 0.91'"
            ],
            "application/vnd.google.colaboratory.intrinsic+json": {
              "type": "string"
            }
          },
          "metadata": {}
        },
        {
          "output_type": "display_data",
          "data": {
            "text/plain": [
              "'- Young Frankenstein (1974), 0.91'"
            ],
            "application/vnd.google.colaboratory.intrinsic+json": {
              "type": "string"
            }
          },
          "metadata": {}
        },
        {
          "output_type": "display_data",
          "data": {
            "text/plain": [
              "'Major Payne (1995)'"
            ],
            "application/vnd.google.colaboratory.intrinsic+json": {
              "type": "string"
            }
          },
          "metadata": {}
        },
        {
          "output_type": "display_data",
          "data": {
            "text/plain": [
              "'------------------'"
            ],
            "application/vnd.google.colaboratory.intrinsic+json": {
              "type": "string"
            }
          },
          "metadata": {}
        },
        {
          "output_type": "display_data",
          "data": {
            "text/plain": [
              "'- Major Payne (1995), 1.00'"
            ],
            "application/vnd.google.colaboratory.intrinsic+json": {
              "type": "string"
            }
          },
          "metadata": {}
        },
        {
          "output_type": "display_data",
          "data": {
            "text/plain": [
              "'- Rush Hour (1998), 0.94'"
            ],
            "application/vnd.google.colaboratory.intrinsic+json": {
              "type": "string"
            }
          },
          "metadata": {}
        },
        {
          "output_type": "display_data",
          "data": {
            "text/plain": [
              "'- Friday the 13th (1980), 0.92'"
            ],
            "application/vnd.google.colaboratory.intrinsic+json": {
              "type": "string"
            }
          },
          "metadata": {}
        },
        {
          "output_type": "display_data",
          "data": {
            "text/plain": [
              "'- K-PAX (2001), 0.92'"
            ],
            "application/vnd.google.colaboratory.intrinsic+json": {
              "type": "string"
            }
          },
          "metadata": {}
        },
        {
          "output_type": "display_data",
          "data": {
            "text/plain": [
              "'- Walk in the Clouds, A (1995), 0.92'"
            ],
            "application/vnd.google.colaboratory.intrinsic+json": {
              "type": "string"
            }
          },
          "metadata": {}
        },
        {
          "output_type": "display_data",
          "data": {
            "text/plain": [
              "'Kill Bill: Vol. 2 (2004)'"
            ],
            "application/vnd.google.colaboratory.intrinsic+json": {
              "type": "string"
            }
          },
          "metadata": {}
        },
        {
          "output_type": "display_data",
          "data": {
            "text/plain": [
              "'------------------------'"
            ],
            "application/vnd.google.colaboratory.intrinsic+json": {
              "type": "string"
            }
          },
          "metadata": {}
        },
        {
          "output_type": "display_data",
          "data": {
            "text/plain": [
              "'- Kill Bill: Vol. 2 (2004), 1.00'"
            ],
            "application/vnd.google.colaboratory.intrinsic+json": {
              "type": "string"
            }
          },
          "metadata": {}
        },
        {
          "output_type": "display_data",
          "data": {
            "text/plain": [
              "'- Spirited Away (Sen to Chihiro no kamikakushi) (2001), 0.93'"
            ],
            "application/vnd.google.colaboratory.intrinsic+json": {
              "type": "string"
            }
          },
          "metadata": {}
        },
        {
          "output_type": "display_data",
          "data": {
            "text/plain": [
              "'- Donnie Darko (2001), 0.92'"
            ],
            "application/vnd.google.colaboratory.intrinsic+json": {
              "type": "string"
            }
          },
          "metadata": {}
        },
        {
          "output_type": "display_data",
          "data": {
            "text/plain": [
              "'- 28 Days Later (2002), 0.92'"
            ],
            "application/vnd.google.colaboratory.intrinsic+json": {
              "type": "string"
            }
          },
          "metadata": {}
        },
        {
          "output_type": "display_data",
          "data": {
            "text/plain": [
              "'- Departed, The (2006), 0.91'"
            ],
            "application/vnd.google.colaboratory.intrinsic+json": {
              "type": "string"
            }
          },
          "metadata": {}
        },
        {
          "output_type": "display_data",
          "data": {
            "text/plain": [
              "\"Jacob's Ladder (1990)\""
            ],
            "application/vnd.google.colaboratory.intrinsic+json": {
              "type": "string"
            }
          },
          "metadata": {}
        },
        {
          "output_type": "display_data",
          "data": {
            "text/plain": [
              "'---------------------'"
            ],
            "application/vnd.google.colaboratory.intrinsic+json": {
              "type": "string"
            }
          },
          "metadata": {}
        },
        {
          "output_type": "display_data",
          "data": {
            "text/plain": [
              "\"- Jacob's Ladder (1990), 1.00\""
            ],
            "application/vnd.google.colaboratory.intrinsic+json": {
              "type": "string"
            }
          },
          "metadata": {}
        },
        {
          "output_type": "display_data",
          "data": {
            "text/plain": [
              "'- Jackass Number Two (2006), 0.93'"
            ],
            "application/vnd.google.colaboratory.intrinsic+json": {
              "type": "string"
            }
          },
          "metadata": {}
        },
        {
          "output_type": "display_data",
          "data": {
            "text/plain": [
              "'- Napoleon Dynamite (2004), 0.91'"
            ],
            "application/vnd.google.colaboratory.intrinsic+json": {
              "type": "string"
            }
          },
          "metadata": {}
        },
        {
          "output_type": "display_data",
          "data": {
            "text/plain": [
              "\"- All the President's Men (1976), 0.91\""
            ],
            "application/vnd.google.colaboratory.intrinsic+json": {
              "type": "string"
            }
          },
          "metadata": {}
        },
        {
          "output_type": "display_data",
          "data": {
            "text/plain": [
              "'- Primer (2004), 0.91'"
            ],
            "application/vnd.google.colaboratory.intrinsic+json": {
              "type": "string"
            }
          },
          "metadata": {}
        }
      ],
      "source": [
        "for idx, title in enumerate(query_movies):\n",
        "    print(title)\n",
        "    print(\"\".rjust(len(title), \"-\"))\n",
        "    similar_tokens = indices[idx]\n",
        "    for token in similar_tokens:\n",
        "        similar_movieId = vocabulary[token]\n",
        "        similar_title = get_movie_title_by_id(similar_movieId)\n",
        "        print(f\"- {similar_title}, {similarities[idx][token]:0.2f}\")\n",
        "    print()"
      ]
    },
    {
      "cell_type": "markdown",
      "metadata": {
        "id": "zlMgla1aMV3i"
      },
      "source": [
        "### Visualize the Similarity"
      ]
    },
    {
      "cell_type": "code",
      "source": [
        "movie_embeddings = model.get_layer(\"item_embeddings\").get_weights()[0]\n",
        "print(f\"Embeddings shape: {movie_embeddings.shape}\")"
      ],
      "metadata": {
        "colab": {
          "base_uri": "https://localhost:8080/",
          "height": 35
        },
        "id": "_ZU7ZPZ8rXmO",
        "outputId": "236a9e01-9a00-43ee-a498-28aedfe301c6"
      },
      "execution_count": 37,
      "outputs": [
        {
          "output_type": "display_data",
          "data": {
            "text/plain": [
              "'Embeddings shape: (1406, 32)'"
            ],
            "application/vnd.google.colaboratory.intrinsic+json": {
              "type": "string"
            }
          },
          "metadata": {}
        }
      ]
    },
    {
      "cell_type": "code",
      "source": [
        "all_similarities = tf.linalg.matmul(\n",
        "    tf.math.l2_normalize(movie_embeddings, axis=1),\n",
        "    tf.math.l2_normalize(movie_embeddings, axis=1),\n",
        "    transpose_b=True,\n",
        ")\n",
        "\n",
        "plt.figure(figsize=(10,10))\n",
        "plt.imshow(all_similarities.numpy(), cmap='hot', interpolation='nearest')\n",
        "plt.title(\"Similartiy Heatmap\")\n",
        "plt.colorbar()"
      ],
      "metadata": {
        "colab": {
          "base_uri": "https://localhost:8080/",
          "height": 595
        },
        "id": "EsB14CuAmwJ5",
        "outputId": "cd3cd13f-74f7-4581-d4c3-6b0020cf94bc"
      },
      "execution_count": 38,
      "outputs": [
        {
          "output_type": "execute_result",
          "data": {
            "text/plain": [
              "<matplotlib.colorbar.Colorbar at 0x7f078f9ba290>"
            ]
          },
          "metadata": {},
          "execution_count": 38
        },
        {
          "output_type": "display_data",
          "data": {
            "text/plain": [
              "<Figure size 720x720 with 2 Axes>"
            ],
            "image/png": "[encoded data removed]"
          },
          "metadata": {
            "needs_background": "light"
          }
        }
      ]
    }
  ],
  "metadata": {
    "colab": {
      "collapsed_sections": [],
      "name": "node2vec_movielens",
      "provenance": [],
      "include_colab_link": true
    },
    "kernelspec": {
      "display_name": "Python 3",
      "language": "python",
      "name": "python3"
    },
    "language_info": {
      "codemirror_mode": {
        "name": "ipython",
        "version": 3
      },
      "file_extension": ".py",
      "mimetype": "text/x-python",
      "name": "python",
      "nbconvert_exporter": "python",
      "pygments_lexer": "ipython3",
      "version": "3.7.0"
    }
  },
  "nbformat": 4,
  "nbformat_minor": 0
}